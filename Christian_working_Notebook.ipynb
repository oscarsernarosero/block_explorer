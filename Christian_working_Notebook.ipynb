{
 "cells": [
  {
   "cell_type": "markdown",
   "metadata": {},
   "source": [
    "## Make sure to edit the bitcoin.conf file with the following params\n",
    "rpcuser=ceazer <br>\n",
    "rpcpassword=Lcctest1234 <br>\n",
    "rpcallowip=127.0.0.1 <br>\n",
    "server=1 <br>\n",
    "listen=1 <br>\n",
    "rpcport=42069"
   ]
  },
  {
   "cell_type": "markdown",
   "metadata": {},
   "source": [
    "*I am using LitecoinCash wallet for mine since its already running a full node on this pc, commands are all the same since its just a fork of bitcoind*\n",
    "\n",
    "*Another note: You dont have to actually run bitcoind.  When you run a wallets GUI, it launches the daemon in the background with the same functions*"
   ]
  },
  {
   "cell_type": "markdown",
   "metadata": {},
   "source": [
    "### To Do\n",
    "*Start creating a basic front end*\n",
    "\n",
    "*Remove the print statements*"
   ]
  },
  {
   "cell_type": "code",
   "execution_count": 42,
   "metadata": {},
   "outputs": [],
   "source": [
    "from bitcoinrpc.authproxy import AuthServiceProxy, JSONRPCException\n",
    "import time\n",
    "from time import localtime, strftime"
   ]
  },
  {
   "cell_type": "code",
   "execution_count": 65,
   "metadata": {},
   "outputs": [],
   "source": [
    "# rpc_user and rpc_password are set in the bitcoin.conf file\n",
    "rpc_user=\"ceazer\"\n",
    "rpc_password=\"Lcctest1234\"\n",
    "rpc_host=\"127.0.0.1\"\n",
    "rpc_port=\"42069\"\n",
    "rpc_connection = AuthServiceProxy(\"http://%s:%s@%s:%s\"%(rpc_user, rpc_password, rpc_host, rpc_port),timeout=15)"
   ]
  },
  {
   "cell_type": "code",
   "execution_count": 30,
   "metadata": {
    "collapsed": true,
    "jupyter": {
     "outputs_hidden": true
    }
   },
   "outputs": [
    {
     "data": {
      "text/plain": [
       "{'hash': '0000000000000007a16be3ee476c777b4942aaf56bbe6c1402839b73f08f385c',\n",
       " 'type': 'pow',\n",
       " 'confirmations': 1,\n",
       " 'strippedsize': 1790,\n",
       " 'size': 2156,\n",
       " 'weight': 7526,\n",
       " 'height': 1907561,\n",
       " 'version': 536870912,\n",
       " 'versionHex': '20000000',\n",
       " 'merkleroot': 'f7a6842198baf7b068c86af802bb78c9d96fdb76ca61d7a8ccb85d8a938d82af',\n",
       " 'tx': ['e2311e9645749108f0e07ab8f1b3ae4904d3bc85a82d6d8ab3606e1658643d21',\n",
       "  '68da7fb25e88826cbcced8861882b2a56625c922777b6c7e0fe5fdbad46d5e00',\n",
       "  'ecb2fc83b04f6e03e48cd01869fdd7087594baea03d13617e0c87d817ff3e821',\n",
       "  'b5fb522a6117d50965dda4bdaec0788ccb1a6a34486d9736a4f27c98e75914c5',\n",
       "  'd526c67ebf51d92dc79886b12e7bcfd9908f03ce0678a618a77eb22c41f0bce5'],\n",
       " 'time': 1581989826,\n",
       " 'mediantime': 1581989590,\n",
       " 'nonce': 4175878554,\n",
       " 'bits': '19143406',\n",
       " 'difficulty': Decimal('212585047.9694389'),\n",
       " 'hivedifficulty': Decimal('0.003372985318725625'),\n",
       " 'chainwork': '000000000000000000000000000000000000000000011c16674ce8fe7d3a9d8b',\n",
       " 'previousblockhash': 'd156ff6dd29f093eb7ae7340e5c9af4397a3dfa109202b3a3712e437884e1519'}"
      ]
     },
     "execution_count": 30,
     "metadata": {},
     "output_type": "execute_result"
    }
   ],
   "source": [
    "best_block_hash = rpc_connection.getbestblockhash()\n",
    "last_block = rpc_connection.getblock(best_block_hash)\n",
    "last_block"
   ]
  },
  {
   "cell_type": "code",
   "execution_count": 44,
   "metadata": {},
   "outputs": [
    {
     "name": "stdout",
     "output_type": "stream",
     "text": [
      "{'hash': '00000000000000012dc872776757c61000a10440120eedd862afbc78064bf5ef', 'type': 'pow', 'confirmations': 1, 'strippedsize': 494, 'size': 530, 'weight': 2012, 'height': 1907570, 'version': 536870912, 'versionHex': '20000000', 'merkleroot': 'aca994103ed3d8d763a54fb2e7aaa90a406efcdd79b582454494156c64facea0', 'tx': ['0a6d5e0163b5395ef045735d1f3ba2839fde230a6eab4cd0bba0bb653f1777a3', 'be29b89528ffe3e527eb09bb8699a281af68bb9191a98dbb1300c27b2615c2c1'], 'time': 1581990693, 'mediantime': 1581990261, 'nonce': 923650825, 'bits': '191294a3', 'difficulty': Decimal('231149636.9327395'), 'hivedifficulty': Decimal('0.003397606956573674'), 'chainwork': '000000000000000000000000000000000000000000011c18b848cee635ea6b93', 'previousblockhash': '00000000000000081429ebeaf50c883f85e63ac719cbe17afe6c999c6feffd76'}\n",
      "No New Block as of  19:54:37 2020-02-17\n",
      "No New Block as of  19:54:52 2020-02-17\n",
      "No New Block as of  19:55:07 2020-02-17\n",
      "{'hash': '5c54133f869f499f575f56691de50267e1eccef603343bf3a87f7730bea329e2', 'type': 'hive', 'confirmations': 1, 'strippedsize': 371, 'size': 407, 'weight': 1520, 'height': 1907573, 'version': 536870912, 'versionHex': '20000000', 'merkleroot': '4f93b5ce17bd967f06fc830415135ed7eb152217966ff273c196f0f69da35caf', 'tx': ['4f93b5ce17bd967f06fc830415135ed7eb152217966ff273c196f0f69da35caf'], 'time': 1581990970, 'mediantime': 1581990294, 'nonce': 192, 'bits': '1e0124de', 'difficulty': Decimal('236729115.6202486'), 'hivedifficulty': Decimal('0.003414464931176141'), 'chainwork': '000000000000000000000000000000000000000000011c19c461a60be58ced74', 'previousblockhash': 'ca7f4cccc0f2e29dd40855e3345c019d2ebcd6f16c2edba1d20d638c94f2e755'}\n",
      "No New Block as of  19:55:37 2020-02-17\n",
      "No New Block as of  19:55:52 2020-02-17\n",
      "No New Block as of  19:56:07 2020-02-17\n",
      "No New Block as of  19:56:22 2020-02-17\n",
      "No New Block as of  19:56:37 2020-02-17\n",
      "No New Block as of  19:56:52 2020-02-17\n",
      "No New Block as of  19:57:07 2020-02-17\n",
      "No New Block as of  19:57:22 2020-02-17\n",
      "No New Block as of  19:57:37 2020-02-17\n",
      "{'hash': '41b131a959dd014b3d533270a6d48c06fba6c28437262789a58918be43abbb2c', 'type': 'hive', 'confirmations': 1, 'strippedsize': 371, 'size': 407, 'weight': 1520, 'height': 1907576, 'version': 536870912, 'versionHex': '20000000', 'merkleroot': 'c6b260d178b934322d10d2658cbb9fa4dd1b11d7bb1fad04e89f1fc26eed7eea', 'tx': ['c6b260d178b934322d10d2658cbb9fa4dd1b11d7bb1fad04e89f1fc26eed7eea'], 'time': 1581991065, 'mediantime': 1581990902, 'nonce': 192, 'bits': '1e011ed5', 'difficulty': Decimal('259006289.257214'), 'hivedifficulty': Decimal('0.003486307776900135'), 'chainwork': '000000000000000000000000000000000000000000011c1b08957bea32e6bbd6', 'previousblockhash': '633979086572f64af7ad93654a2087edd6c867d9a5d43795fcffbd202b20190c'}\n",
      "No New Block as of  19:58:07 2020-02-17\n",
      "No New Block as of  19:58:22 2020-02-17\n",
      "No New Block as of  19:58:37 2020-02-17\n",
      "No New Block as of  19:58:52 2020-02-17\n",
      "No New Block as of  19:59:07 2020-02-17\n"
     ]
    }
   ],
   "source": [
    "#Test basic blockchain monitoring for 5 minutes\n",
    "rpc_user=\"ceazer\"\n",
    "rpc_password=\"Lcctest1234\"\n",
    "rpc_host=\"127.0.0.1\"\n",
    "rpc_port=\"42069\"\n",
    "Active = True\n",
    "last_block = {\"hash\":\"\"}\n",
    "count = 0\n",
    "while Active == True:\n",
    "    count += 1\n",
    "    if count == 20:\n",
    "        Active = False\n",
    "    else:\n",
    "        pass\n",
    "    rpc_connection = AuthServiceProxy(\"http://%s:%s@%s:%s\"%(rpc_user, rpc_password, rpc_host, rpc_port),timeout=15)\n",
    "    best_block_hash = rpc_connection.getbestblockhash()\n",
    "    new_block = rpc_connection.getblock(best_block_hash)\n",
    "    current_time = strftime(\"%H:%M:%S %Y-%m-%d\", localtime())\n",
    "    if new_block[\"hash\"] != last_block[\"hash\"]:\n",
    "        last_block = new_block\n",
    "        print(new_block)\n",
    "    else:\n",
    "        print(\"No New Block as of \", current_time)\n",
    "    time.sleep(15)\n",
    "    \n"
   ]
  },
  {
   "cell_type": "code",
   "execution_count": 61,
   "metadata": {},
   "outputs": [
    {
     "name": "stdout",
     "output_type": "stream",
     "text": [
      "{'chain': 'main', 'blocks': 1907586, 'headers': 1907586, 'bestblockhash': '0000000000000003b22df869941b6654bd6b3456eb75a907841633589e3649ee', 'difficulty': Decimal('242812503.1214016'), 'mediantime': 1581991622, 'verificationprogress': Decimal('0.9999994028961458'), 'initialblockdownload': False, 'chainwork': '000000000000000000000000000000000000000000011c1d50932bf2b9d1d22a', 'size_on_disk': 14273520863, 'pruned': False, 'softforks': [{'id': 'bip34', 'version': 2, 'reject': {'status': True}}, {'id': 'bip66', 'version': 3, 'reject': {'status': True}}, {'id': 'bip65', 'version': 4, 'reject': {'status': True}}], 'bip9_softforks': {'csv': {'status': 'active', 'startTime': 1485561600, 'timeout': 1517356801, 'since': 1201536}, 'segwit': {'status': 'active', 'startTime': 1485561600, 'timeout': 1517356801, 'since': 1201536}, 'hive': {'status': 'active', 'startTime': 1545782400, 'timeout': 1577318400, 'since': 1564416}, 'hive_1_1': {'status': 'active', 'startTime': 1568937600, 'timeout': 1600560000, 'since': 1766016}}, 'warnings': ''}\n",
      "{'walletname': 'wallet.dat', 'walletversion': 159900, 'balance': Decimal('12020.3976068'), 'unconfirmed_balance': Decimal('0E-7'), 'immature_balance': Decimal('0E-7'), 'txcount': 480, 'keypoololdest': 1581911415, 'keypoolsize': 1000, 'keypoolsize_hd_internal': 1000, 'unlocked_until': 0, 'paytxfee': Decimal('0E-7'), 'hdmasterkeyid': '0fc2410ff3bab45cb4453a6971597678587fe0e2'}\n",
      "{'version': 160102, 'subversion': '/LitecoinCashCore:0.16.1.2/', 'protocolversion': 70015, 'localservices': '000000000000040d', 'localrelay': True, 'timeoffset': 0, 'networkactive': True, 'connections': 9, 'networks': [{'name': 'ipv4', 'limited': False, 'reachable': True, 'proxy': '', 'proxy_randomize_credentials': False}, {'name': 'ipv6', 'limited': False, 'reachable': True, 'proxy': '', 'proxy_randomize_credentials': False}, {'name': 'onion', 'limited': True, 'reachable': False, 'proxy': '', 'proxy_randomize_credentials': False}], 'relayfee': Decimal('0.0001000'), 'incrementalfee': Decimal('0.0001000'), 'localaddresses': [{'address': '2601:2c3:8880:2cd0::54d9', 'port': 62458, 'score': 5}, {'address': '2601:2c3:8880:2cd0:c8a:cfb3:be52:aa82', 'port': 62458, 'score': 1}, {'address': '2601:2c3:8880:2cd0:cd34:616c:c530:32a5', 'port': 62458, 'score': 1}], 'warnings': ''}\n"
     ]
    }
   ],
   "source": [
    "rpc_connection = AuthServiceProxy(\"http://%s:%s@%s:%s\"%(rpc_user, rpc_password, rpc_host, rpc_port),timeout=150)\n",
    "print(rpc_connection.getblockchaininfo())\n",
    "print(rpc_connection.getwalletinfo())\n",
    "print(rpc_connection.getnetworkinfo())"
   ]
  },
  {
   "cell_type": "code",
   "execution_count": 68,
   "metadata": {},
   "outputs": [],
   "source": [
    "rpc_connection = AuthServiceProxy(\"http://%s:%s@%s:%s\"%(rpc_user, rpc_password, rpc_host, rpc_port),timeout=150)\n",
    "cmds = rpc_connection.help()"
   ]
  },
  {
   "cell_type": "code",
   "execution_count": 72,
   "metadata": {},
   "outputs": [],
   "source": [
    "cmd_list = cmds.split(\"\\n\")"
   ]
  },
  {
   "cell_type": "code",
   "execution_count": 80,
   "metadata": {
    "collapsed": true,
    "jupyter": {
     "outputs_hidden": true
    }
   },
   "outputs": [
    {
     "data": {
      "text/plain": [
       "['== Blockchain ==',\n",
       " 'getbestblockhash',\n",
       " 'getblock \"blockhash\" ( verbosity ) ',\n",
       " 'getblockchaininfo',\n",
       " 'getblockcount',\n",
       " 'getblockhash height',\n",
       " 'getblockheader \"hash\" ( verbose )',\n",
       " 'getchaintips',\n",
       " 'getchaintxstats ( nblocks blockhash )',\n",
       " 'getdifficulty',\n",
       " 'gethivedifficulty',\n",
       " 'getmempoolancestors txid (verbose)',\n",
       " 'getmempooldescendants txid (verbose)',\n",
       " 'getmempoolentry txid',\n",
       " 'getmempoolinfo',\n",
       " 'getrawmempool ( verbose )',\n",
       " 'gettxout \"txid\" n ( include_mempool )',\n",
       " 'gettxoutproof [\"txid\",...] ( blockhash )',\n",
       " 'gettxoutsetinfo',\n",
       " 'preciousblock \"blockhash\"',\n",
       " 'pruneblockchain',\n",
       " 'savemempool',\n",
       " 'verifychain ( checklevel nblocks )',\n",
       " 'verifytxoutproof \"proof\"',\n",
       " '',\n",
       " '== Control ==',\n",
       " 'getmemoryinfo (\"mode\")',\n",
       " 'help ( \"command\" )',\n",
       " 'logging ( <include> <exclude> )',\n",
       " 'stop',\n",
       " 'uptime',\n",
       " '',\n",
       " '== Generating ==',\n",
       " 'generate nblocks ( maxtries )',\n",
       " 'generatetoaddress nblocks address (maxtries)',\n",
       " '',\n",
       " '== Mining ==',\n",
       " 'getblocktemplate ( TemplateRequest )',\n",
       " 'gethiveparams',\n",
       " 'getmininginfo',\n",
       " 'getnetworkhashps ( nblocks height )',\n",
       " 'prioritisetransaction <txid> <dummy value> <fee delta>',\n",
       " 'sethiveparams ( hivecheckdelay, hivecheckthreads, hiveearlyout )',\n",
       " 'submitblock \"hexdata\"  ( \"dummy\" )',\n",
       " '',\n",
       " '== Network ==',\n",
       " 'addnode \"node\" \"add|remove|onetry\"',\n",
       " 'clearbanned',\n",
       " 'disconnectnode \"[address]\" [nodeid]',\n",
       " 'getaddednodeinfo ( \"node\" )',\n",
       " 'getconnectioncount',\n",
       " 'getnettotals',\n",
       " 'getnetworkinfo',\n",
       " 'getpeerinfo',\n",
       " 'listbanned',\n",
       " 'ping',\n",
       " 'setban \"subnet\" \"add|remove\" (bantime) (absolute)',\n",
       " 'setnetworkactive true|false',\n",
       " '',\n",
       " '== Rawtransactions ==',\n",
       " 'combinerawtransaction [\"hexstring\",...]',\n",
       " 'createrawbct [{\"txid\":\"id\",\"vout\":n},...] {\"address\":amount,\"data\":\"hex\",...} ( locktime ) ( replaceable )',\n",
       " 'createrawtransaction [{\"txid\":\"id\",\"vout\":n},...] {\"address\":amount,\"data\":\"hex\",...} ( locktime ) ( replaceable )',\n",
       " 'decoderawtransaction \"hexstring\" ( iswitness )',\n",
       " 'decodescript \"hexstring\"',\n",
       " 'fundrawtransaction \"hexstring\" ( options iswitness )',\n",
       " 'getrawtransaction \"txid\" ( verbose \"blockhash\" )',\n",
       " 'sendrawtransaction \"hexstring\" ( allowhighfees )',\n",
       " 'signrawtransaction \"hexstring\" ( [{\"txid\":\"id\",\"vout\":n,\"scriptPubKey\":\"hex\",\"redeemScript\":\"hex\"},...] [\"privatekey1\",...] sighashtype )',\n",
       " '',\n",
       " '== Util ==',\n",
       " 'createmultisig nrequired [\"key\",...]',\n",
       " 'estimatefee nblocks',\n",
       " 'estimatesmartfee conf_target (\"estimate_mode\")',\n",
       " 'signmessagewithprivkey \"privkey\" \"message\"',\n",
       " 'validateaddress \"address\"',\n",
       " 'verifymessage \"address\" \"signature\" \"message\"',\n",
       " '',\n",
       " '== Wallet ==',\n",
       " 'abandontransaction \"txid\"',\n",
       " 'abortrescan',\n",
       " 'addmultisigaddress nrequired [\"key\",...] ( \"account\" \"address_type\" )',\n",
       " 'backupwallet \"destination\"',\n",
       " 'bumpfee \"txid\" ( options ) ',\n",
       " 'createbees bee_count ( community_contrib, \"honey_address\", \"change_address\" )',\n",
       " 'dumpprivkey \"address\"',\n",
       " 'dumpwallet \"filename\"',\n",
       " 'encryptwallet \"passphrase\"',\n",
       " 'getaccount \"address\"',\n",
       " 'getaccountaddress \"account\"',\n",
       " 'getaddressesbyaccount \"account\"',\n",
       " 'getbalance ( \"account\" minconf include_watchonly )',\n",
       " 'getbctinfo ( \"bct_txid\", min_honey_confirms )',\n",
       " 'getbeecost ( height )',\n",
       " 'getbeecreationtxid \"honey_txid\"',\n",
       " 'gethiveinfo ( include_dead, min_honey_confirms )',\n",
       " 'getnetworkhiveinfo ( include_graph )',\n",
       " 'getnewaddress ( \"account\" \"address_type\" )',\n",
       " 'getrawchangeaddress ( \"address_type\" )',\n",
       " 'getreceivedbyaccount \"account\" ( minconf )',\n",
       " 'getreceivedbyaddress \"address\" ( minconf )',\n",
       " 'gettransaction \"txid\" ( include_watchonly )',\n",
       " 'getunconfirmedbalance',\n",
       " 'getwalletinfo',\n",
       " 'importaddress \"address\" ( \"label\" rescan p2sh )',\n",
       " 'importmulti \"requests\" ( \"options\" )',\n",
       " 'importprivkey \"privkey\" ( \"label\" ) ( rescan )',\n",
       " 'importprunedfunds',\n",
       " 'importpubkey \"pubkey\" ( \"label\" rescan )',\n",
       " 'importwallet \"filename\"',\n",
       " 'keypoolrefill ( newsize )',\n",
       " 'listaccounts ( minconf include_watchonly)',\n",
       " 'listaddressgroupings',\n",
       " 'listlockunspent',\n",
       " 'listreceivedbyaccount ( minconf include_empty include_watchonly)',\n",
       " 'listreceivedbyaddress ( minconf include_empty include_watchonly)',\n",
       " 'listsinceblock ( \"blockhash\" target_confirmations include_watchonly include_removed )',\n",
       " 'listtransactions ( \"account\" count skip include_watchonly )',\n",
       " 'listunspent ( minconf maxconf  [\"addresses\",...] [include_unsafe] [query_options])',\n",
       " 'listwallets',\n",
       " 'lockunspent unlock ([{\"txid\":\"txid\",\"vout\":n},...])',\n",
       " 'move \"fromaccount\" \"toaccount\" amount ( minconf \"comment\" )',\n",
       " 'removeprunedfunds \"txid\"',\n",
       " 'rescanblockchain (\"start_height\") (\"stop_height\")',\n",
       " 'sendfrom \"fromaccount\" \"toaddress\" amount ( minconf \"comment\" \"comment_to\" )',\n",
       " 'sendmany \"fromaccount\" {\"address\":amount,...} ( minconf \"comment\" [\"address\",...] replaceable conf_target \"estimate_mode\")',\n",
       " 'sendtoaddress \"address\" amount ( \"comment\" \"comment_to\" subtractfeefromamount replaceable conf_target \"estimate_mode\")',\n",
       " 'setaccount \"address\" \"account\"',\n",
       " 'settxfee amount',\n",
       " 'signmessage \"address\" \"message\"',\n",
       " 'walletlock',\n",
       " 'walletpassphrase \"passphrase\" timeout',\n",
       " 'walletpassphrasechange \"oldpassphrase\" \"newpassphrase\"',\n",
       " 'walletpassphrasehiveonly \"passphrase\"']"
      ]
     },
     "execution_count": 80,
     "metadata": {},
     "output_type": "execute_result"
    }
   ],
   "source": [
    "cmd_list"
   ]
  },
  {
   "cell_type": "code",
   "execution_count": 83,
   "metadata": {},
   "outputs": [],
   "source": [
    "#Trying some of the more obscure LLC only commands to make sure everything works.\n",
    "rpc_connection = AuthServiceProxy(\"http://%s:%s@%s:%s\"%(rpc_user, rpc_password, rpc_host, rpc_port),timeout=150)\n",
    "cmd = rpc_connection.gethiveparams()"
   ]
  },
  {
   "cell_type": "code",
   "execution_count": 84,
   "metadata": {},
   "outputs": [
    {
     "data": {
      "text/plain": [
       "{'hivecheckdelay': 1, 'hivecheckthreads': -1, 'hiveearlyout': 'true'}"
      ]
     },
     "execution_count": 84,
     "metadata": {},
     "output_type": "execute_result"
    }
   ],
   "source": [
    "cmd"
   ]
  },
  {
   "cell_type": "code",
   "execution_count": 85,
   "metadata": {
    "collapsed": true,
    "jupyter": {
     "outputs_hidden": true
    }
   },
   "outputs": [
    {
     "data": {
      "text/plain": [
       "[1317972665,\n",
       " 1318055359,\n",
       " 1318386858,\n",
       " 1318474781,\n",
       " 1318474786,\n",
       " 1318474791,\n",
       " 1318474796,\n",
       " 1318474801,\n",
       " 1318474806,\n",
       " 1318474816,\n",
       " 1318474831,\n",
       " 1318474833,\n",
       " 1318474837,\n",
       " 1318474848,\n",
       " 1318474853,\n",
       " 1318474854,\n",
       " 1318474867,\n",
       " 1318474871,\n",
       " 1318474875,\n",
       " 1318474880,\n",
       " 1318474885,\n",
       " 1318474886,\n",
       " 1318474887,\n",
       " 1318474891,\n",
       " 1318474892,\n",
       " 1318474897,\n",
       " 1318474899,\n",
       " 1318474897,\n",
       " 1318474910,\n",
       " 1318474911,\n",
       " 1318474917,\n",
       " 1318474920,\n",
       " 1318474922,\n",
       " 1318474932,\n",
       " 1318474935,\n",
       " 1318474937,\n",
       " 1318474941,\n",
       " 1318474943,\n",
       " 1318474948,\n",
       " 1318474951,\n",
       " 1318474956,\n",
       " 1318474958,\n",
       " 1318474967,\n",
       " 1318474971,\n",
       " 1318474976,\n",
       " 1318474978,\n",
       " 1318474988,\n",
       " 1318474990,\n",
       " 1318474995,\n",
       " 1318474998,\n",
       " 1318474998,\n",
       " 1318475005,\n",
       " 1318475008,\n",
       " 1318475011,\n",
       " 1318475012,\n",
       " 1318475014,\n",
       " 1318475015,\n",
       " 1318475019,\n",
       " 1318475025,\n",
       " 1318475027,\n",
       " 1318475036,\n",
       " 1318475039,\n",
       " 1318475045,\n",
       " 1318475049,\n",
       " 1318475054,\n",
       " 1318475056,\n",
       " 1318475060,\n",
       " 1318475063,\n",
       " 1318475065,\n",
       " 1318475066,\n",
       " 1318475070,\n",
       " 1318475072,\n",
       " 1318475077,\n",
       " 1318475082,\n",
       " 1318475084,\n",
       " 1318475086,\n",
       " 1318475089,\n",
       " 1318475096,\n",
       " 1318475097,\n",
       " 1318475099,\n",
       " 1318475102,\n",
       " 1318475104,\n",
       " 1318475110,\n",
       " 1318475111,\n",
       " 1318475116,\n",
       " 1318475119,\n",
       " 1318475123,\n",
       " 1318475126,\n",
       " 1318475128,\n",
       " 1318475131,\n",
       " 1318475136,\n",
       " 1318475137,\n",
       " 1318475138,\n",
       " 1318475142,\n",
       " 1318475144,\n",
       " 1318475148,\n",
       " 1318475153,\n",
       " 1318475158,\n",
       " 1318475162,\n",
       " 1318475163]"
      ]
     },
     "execution_count": 85,
     "metadata": {},
     "output_type": "execute_result"
    }
   ],
   "source": [
    "rpc_connection = AuthServiceProxy(\"http://%s:%s@%s:%s\"%(rpc_user, rpc_password, rpc_host, rpc_port),timeout=15)\n",
    "blocks = rpc_connection.batch_([[ \"getblock\", h ] for h in block_hashes ])\n",
    "block_times = [ block[\"time\"] for block in blocks ]\n",
    "block_times"
   ]
  },
  {
   "cell_type": "code",
   "execution_count": 86,
   "metadata": {},
   "outputs": [],
   "source": [
    "rpc_connection = AuthServiceProxy(\"http://%s:%s@%s:%s\"%(rpc_user, rpc_password, rpc_host, rpc_port),timeout=150)\n",
    "node = rpc_connection.getwalletinfo()"
   ]
  },
  {
   "cell_type": "code",
   "execution_count": null,
   "metadata": {},
   "outputs": [],
   "source": []
  },
  {
   "cell_type": "code",
   "execution_count": null,
   "metadata": {},
   "outputs": [],
   "source": []
  }
 ],
 "metadata": {
  "kernelspec": {
   "display_name": "Python 3",
   "language": "python",
   "name": "python3"
  },
  "language_info": {
   "codemirror_mode": {
    "name": "ipython",
    "version": 3
   },
   "file_extension": ".py",
   "mimetype": "text/x-python",
   "name": "python",
   "nbconvert_exporter": "python",
   "pygments_lexer": "ipython3",
   "version": "3.7.4"
  }
 },
 "nbformat": 4,
 "nbformat_minor": 4
}

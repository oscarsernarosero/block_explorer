{
 "cells": [
  {
   "cell_type": "code",
   "execution_count": null,
   "metadata": {},
   "outputs": [],
   "source": [
    "from slickrpc import Proxy"
   ]
  },
  {
   "cell_type": "code",
   "execution_count": null,
   "metadata": {},
   "outputs": [],
   "source": [
    "#import time\n",
    "#from time import localtime, strftime\n",
    "\n",
    "rpc_user=\"RobertPaulson\"\n",
    "rpc_password=\"FuckTheBanks\"\n",
    "rpc_host=\"10.0.0.247\"\n",
    "rpc_port=\"8332\""
   ]
  },
  {
   "cell_type": "code",
   "execution_count": null,
   "metadata": {},
   "outputs": [],
   "source": [
    "bitcoin = Proxy(\"http://%s:%s@%s:%s\"%(rpc_user, rpc_password, rpc_host, rpc_port))\n",
    "print(bitcoin.help())"
   ]
  },
  {
   "cell_type": "markdown",
   "metadata": {},
   "source": [
    "# Usefull links\n",
    "\n",
    "https://bitcoin.stackexchange.com/questions/25736/how-to-find-utxo\n",
    "\n",
    "https://github.com/janoside/btc-rpc-explorer\n",
    "\n",
    "https://bitcoin.stackexchange.com/questions/51387/how-does-bitcoin-read-from-write-to-leveldb/52167#52167\n",
    "\n",
    "Apparently, the blockchain --which is inside the folder .bitcoin/blocks, and store in the files blk#####.dat-- has to be explored through another database. Basically, what the BTC-RPC-Explorer suggests in their main page is that you can explore the blockchin through RPC calls, but this would have limitations. The transactions can be called. However, the UTXO set that is not part of the local wallet can't be called through rpc."
   ]
  },
  {
   "cell_type": "code",
   "execution_count": null,
   "metadata": {},
   "outputs": [],
   "source": [
    "from slickrpc import Proxy\n",
    "\n",
    "#import time\n",
    "#from time import localtime, strftime\n",
    "\n",
    "rpc_user=\"RobertPaulson\"\n",
    "rpc_password=\"FuckTheBanks\"\n",
    "rpc_host=\"127.0.0.1\"\n",
    "rpc_port=\"8332\"\n",
    "\n",
    "bitcoin = Proxy(\"http://%s:%s@127.0.0.1:8332\"%(rpc_user, rpc_password))\n",
    "#print(bitcoin.help())\n",
    "hex = bitcoin.getrawtransaction (\"a9a9db6b085df091ea1491e57df9177d128f6650ec9405148c9c2b64a835e88e\", False,\n",
    "                                 #\"00000000e6f2148b04603d41257bb25b984787f6e5d0aadbfcda1b517806f9df\"\n",
    "                                 )\n",
    "decoded_tx = bitcoin.decoderawtransaction (hex)\n",
    "print(decoded_tx)"
   ]
  },
  {
   "cell_type": "code",
   "execution_count": null,
   "metadata": {},
   "outputs": [],
   "source": []
  }
 ],
 "metadata": {
  "kernelspec": {
   "display_name": "Python 3",
   "language": "python",
   "name": "python3"
  },
  "language_info": {
   "codemirror_mode": {
    "name": "ipython",
    "version": 3
   },
   "file_extension": ".py",
   "mimetype": "text/x-python",
   "name": "python",
   "nbconvert_exporter": "python",
   "pygments_lexer": "ipython3",
   "version": "3.7.3"
  }
 },
 "nbformat": 4,
 "nbformat_minor": 2
}

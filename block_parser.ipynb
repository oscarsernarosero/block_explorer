{
 "cells": [
  {
   "cell_type": "code",
   "execution_count": 5,
   "metadata": {},
   "outputs": [],
   "source": [
    "import binascii\n",
    "import sys\n",
    "import traceback\n",
    "from block import Block\n",
    "from helper import read_varint, hash256\n",
    "from tx import Tx\n",
    "import subprocess\n",
    "import os\n",
    "from time import sleep\n",
    "from subprocess import Popen, PIPE\n",
    "import logging\n",
    "import concurrent.futures\n",
    "from multiprocessing import Pool\n",
    "\n",
    "\n",
    "from time import sleep\n",
    "from script import Script\n",
    "from io import BytesIO\n",
    "from helper import (\n",
    "    decode_base58,\n",
    "    encode_base58_checksum,\n",
    "    encode_varint,\n",
    "    h160_to_p2pkh_address,\n",
    "    h160_to_p2sh_address,\n",
    "    int_to_little_endian,\n",
    "    little_endian_to_int,\n",
    "    read_varint,\n",
    "    sha256,\n",
    ")\n",
    "import segwit_addr\n",
    "#logging.basicConfig(filename='parsing.log',level=logging.DEBUG,format='%(asctime)s %(message)s')"
   ]
  },
  {
   "cell_type": "code",
   "execution_count": 6,
   "metadata": {},
   "outputs": [],
   "source": [
    "from neo4j import GraphDatabase"
   ]
  },
  {
   "cell_type": "code",
   "execution_count": 7,
   "metadata": {},
   "outputs": [],
   "source": [
    "from logging.handlers import RotatingFileHandler\n",
    "\n",
    "log_formatter = logging.Formatter('%(asctime)s %(levelname)s %(funcName)s(%(lineno)d) %(message)s')\n",
    "\n",
    "logFile = 'log/parsing.log'\n",
    "\n",
    "my_handler = RotatingFileHandler(logFile, mode='a', maxBytes=10*1024*1024,backupCount=6, encoding=None, delay=0)\n",
    "my_handler.setFormatter(log_formatter)\n",
    "my_handler.setLevel(logging.INFO)\n",
    "\n",
    "app_log = logging.getLogger('root')\n",
    "app_log.setLevel(logging.INFO)\n",
    "\n",
    "app_log.addHandler(my_handler)"
   ]
  },
  {
   "cell_type": "code",
   "execution_count": 14,
   "metadata": {},
   "outputs": [],
   "source": [
    "class BlockChainDB(object):\n",
    "\n",
    "    def __init__(self, uri=None, user=None, password=None, driver=None):\n",
    "        if driver is None:\n",
    "            self._driver = GraphDatabase.driver(uri, auth=(user, password), encrypted=False)#REVISE LATER FOR ENCRYPTION!!!\n",
    "        else:\n",
    "            self._driver = driver\n",
    "\n",
    "    def close(self):\n",
    "        self._driver.close()\n",
    "        \n",
    "    @staticmethod    \n",
    "    def _add_height(tx, block_id):\n",
    "    \n",
    "        for i in range(10000):\n",
    "            result = tx.run(\"MATCH (b:block {id:$block_id})-[:LINKS]->(n:block)-[:LINKS]->(:block)\"\n",
    "                            \"-[:LINKS]->(:block)-[:LINKS]->(:block) \"\n",
    "                            \"WITH b.height AS height, n AS next_block \"\n",
    "                            \"SET next_block.height = height+1 \"\n",
    "                            \"RETURN next_block.id \",\n",
    "                            block_id=block_id)\n",
    "            \n",
    "                \n",
    "            block_id = result.single().value()\n",
    "            print(block_id)\n",
    "        return block_id\n",
    "    \n",
    "    @staticmethod    \n",
    "    def _config_constrains(tx ):\n",
    "    \n",
    "        result1 = tx.run(\"MERGE (b:block {id:'0000000000000000000000000000000000000000000000000000000000000000', height:-1}) \"\n",
    "                        \"MERGE (t:transaction {id:'CONFIG'}) \"\n",
    "                         \"MERGE (a:address {address:'CONFIG'}) \"\n",
    "                        \"RETURN b,t,a \")\n",
    "        \n",
    "        result = tx.run(\"CREATE CONSTRAINT ON (t:transaction) ASSERT t.id IS UNIQUE \"\n",
    "                        \"CREATE CONSTRAINT ON (a:address) ASSERT a.address IS UNIQUE \"\n",
    "                        \"CREATE CONSTRAINT ON (b:block) ASSERT b.id IS UNIQUE \"\n",
    "                        \"CREATE CONSTRAINT ON (b:block) ASSERT b.height IS UNIQUE \")\n",
    "\n",
    "        \n",
    "        return result1\n",
    "    \n",
    "    @staticmethod    \n",
    "    def _create_addresses(tx,batch,testnet=True):\n",
    "        \"\"\"\n",
    "        testnet is TRUE always. Change this for mainnet later.\n",
    "        \"\"\"\n",
    "        print(f\" batch {batch},\",end='')\n",
    "        for height in range(batch*10,batch*10+10):\n",
    "\n",
    "            result = tx.run(\"MATCH (b:block {height:$height}) \"\n",
    "                             \"MATCH (x)<-[:CREATES]-(t:transaction)<-[:CONTAINS]-(b) \"\n",
    "                             \"RETURN x.script_pubkey, x.index, t.id\", height=height)\n",
    "\n",
    "            addresses = []\n",
    "            for output in result.data():\n",
    "                address = None\n",
    "                addr_type = None\n",
    "                raw_script_pubkey = output[\"x.script_pubkey\"]\n",
    "                b_sp = bytes.fromhex(raw_script_pubkey)\n",
    "                length = encode_varint(len(b_sp))\n",
    "                stream = BytesIO(length+b_sp)\n",
    "                \n",
    "                try: \n",
    "                    script_pubkey = Script.parse(stream)\n",
    "                \n",
    "                    if script_pubkey.is_p2pkh_script_pubkey(): \n",
    "                        address= h160_to_p2pkh_address(script_pubkey.cmds[2], testnet)\n",
    "                        addr_type = \"P2PKH\"\n",
    "                    elif script_pubkey.is_p2sh_script_pubkey():  \n",
    "                        address= h160_to_p2sh_address(script_pubkey.cmds[1], testnet)\n",
    "                        addr_type = \"P2SH\"\n",
    "                    elif script_pubkey.is_p2wpkh_script_pubkey() or script_pubkey.is_p2wsh_script_pubkey(): \n",
    "                        if testnet: address = segwit_addr.encode(\"tb\",0,script_pubkey.cmds[1])\n",
    "                        else: address = segwit_addr.encode(\"bc\",0,script_pubkey.cmds[1]) \n",
    "                        if script_pubkey.is_p2wpkh_script_pubkey(): addr_type = \"P2WPKH\"\n",
    "                        else: addr_type = \"P2WSH\"\n",
    "                    elif len(script_pubkey.cmds)==2 and script_pubkey.cmds[1]==0xac:\n",
    "                        try: \n",
    "                            address = script_pubkey.cmds[0].hex()\n",
    "                            addr_type = \"P2PK\"\n",
    "                        except: print(f\"P2PK failed {script_pubkey.cmds[0]} from tx: {output['t.id']}\")\n",
    "\n",
    "                except: print(f\"script parsing failed in tx {output['t.id']} index {output['x.index']} \",end=\"\")\n",
    "                    \n",
    "                if address is not None:\n",
    "                    address_dict = {\n",
    "                        \"address\":address,\n",
    "                        \"type\": addr_type,\n",
    "                        \"tx_id\":output[\"t.id\"],\n",
    "                        \"index\":output[\"x.index\"]\n",
    "                    }\n",
    "                    addresses.append(address_dict)\n",
    "\n",
    "            if len(addresses)>0:\n",
    "                result = tx.run(\"FOREACH (address in $addresses | \\n\"\n",
    "                                \"MERGE (o:output {index:address.index})<-[:CREATES]-(:transaction {id:address.tx_id}) \\n\"\n",
    "                                \"MERGE (a:address {address:address.address}) SET a.type=address.type \\n\"\n",
    "                                \"MERGE (a)-[:HAS]->(o) )\", addresses=addresses)\n",
    "\n",
    "        \n",
    "        return\n",
    "    def create_address_batch(self,batch):\n",
    "        with self._driver.session() as session:\n",
    "            result = session.write_transaction(self._create_addresses,batch)\n",
    "            #print(result)\n",
    "            return result\n",
    "        \n",
    "            \n",
    "        \n",
    "    def add_height_batch(self,block_id=None):\n",
    "        with self._driver.session() as session:\n",
    "            result = session.write_transaction(self._add_height, block_id)\n",
    "            #print(result)\n",
    "            return result\n",
    "        \n",
    "    def create_addresses(self):\n",
    "        \"\"\"\n",
    "        modify the range of the for loop to fit with the length of the blockchain and the begginning of \n",
    "        the desired operation.\n",
    "        \"\"\"\n",
    "        for batch in range(89365,175000):\n",
    "            self.create_address_batch(batch)\n",
    "            #sleep(0.2)\n",
    "        \n",
    "    def add_height(self, block_id=None):\n",
    "        #If no specific block to start from, then we start with the genesis block.\n",
    "        if block_id is None: block_id=\"000000000933ea01ad0ee984209779baaec3ced90fa3f408719526f8d77f4943\"\n",
    "            \n",
    "        for i in range(2000):\n",
    "            print(i)\n",
    "            block_id = db.add_height_batch(block_id)\n",
    "            print(block_id)\n",
    "            sleep(1)\n",
    "        \n",
    "    def config_constrains(self):\n",
    "        with self._driver.session() as session:\n",
    "            result = session.write_transaction(self._config_constrains)\n",
    "            #print(result)\n",
    "            return result\n",
    "        \n",
    "    @staticmethod\n",
    "    def _new_address(tx, address,i,change_addr):\n",
    "        if change_addr: addr_type = \"change\"\n",
    "        else: addr_type = \"recipient\"\n",
    "        result = tx.run(\"CREATE a = (:address {address:$address, acc_index:$index, type:$kind, created:timestamp()}) \"\n",
    "                        \"RETURN a \", address=address, index = i, kind = addr_type)\n",
    "        return result.single()\n",
    "    \n",
    "    \n",
    "    @staticmethod\n",
    "    def _new_tx(tx,block_id, version, locktime, tx_id, inputs, outputs, segwit, i):\n",
    "                    \n",
    "        result = tx.run(\"MATCH (b:block {id:$block_id}) \"\n",
    "                        \"MERGE (t:transaction {id:$tx_id}) \"\n",
    "                        \"SET t.version=$version, t.segwit=$segwit, t.locktime=$locktime \"\n",
    "                        \"MERGE (t)<-[:CONTAINS {i:$i}]-(b) \"\n",
    "                        \"RETURN t \",\n",
    "                        tx_id=tx_id, segwit=segwit, version=version, locktime=locktime, block_id=block_id,i=i)\n",
    "        \n",
    "        if len(result.data()) >0: app_log.info(f\"created tx: {tx_id}\\n{result.data()}\")\n",
    "        else: app_log.error(f\"FAILED AT CREATING TX {tx_id}\")\n",
    "        \n",
    "        for index,tx_out in enumerate(outputs):\n",
    "            result = tx.run(\"MATCH (t:transaction {id : $tx_id}) \"\n",
    "                        \"MERGE (o:output {index:$index})<-[:CREATES]-(t) \"\n",
    "                        \"SET o.amount=$amount, o.script_pubkey=$script_pubkey \"\n",
    "                        \"RETURN o \", \n",
    "                        tx_id = tx_id,amount=tx_out.amount,script_pubkey=tx_out.script_pubkey.hex(), index=index)\n",
    "            if len(result.data()) > 0: app_log.info(f\"created output: {tx_out.amount}:{index} for tx {tx_id}\")\n",
    "            else: app_log.error(f\"FAILED AT CREATING OUTPUT {index}\")  \n",
    "                \n",
    "        for tx_in in inputs:\n",
    "            if tx_in.prev_index == 4294967295 or tx_in.prev_tx == (b'\\x00'*32).hex():\n",
    "                    app_log.info(\"Coinbase Transaction \" + tx_id)\n",
    "            else: \n",
    "                result = tx.run(\"MERGE (t:transaction {id : $tx_id}) \"\n",
    "                            #\"MERGE (p:transaction {id:$prev_tx})\"\n",
    "                            \"MERGE (tx_in :output {index:$prev_index})<-[:CREATES]-(:transaction {id:$prev_tx}) \"\n",
    "                            \"MERGE (tx_in)<-[r:SPENDS {script_sig:$script_sig, witness:$witness}]-(t) \"\n",
    "                            \"RETURN r\",\n",
    "                            tx_id=tx_id, prev_index=tx_in.prev_index, prev_tx=tx_in.prev_tx.hex(), \n",
    "                            script_sig=tx_in.script_sig.hex(), witness=tx_in.witness.hex() )\n",
    "                if len(result.data()) > 0: app_log.info(f\"created input for transaction {tx_id} spending from {tx_in.prev_tx.hex()} index {tx_in.prev_index}\")\n",
    "                else: app_log.error(f\"FAILED AT CREATING INPUT {tx_in.prev_tx}:{tx_in.prev_index}\")  \n",
    "\n",
    "        return True\n",
    "    \n",
    "    @staticmethod\n",
    "    def _new_block(tx,block_id,version, prev_block,merkle_root,timestamp,bits,nonce,n_tx):\n",
    "        #_height = tx.run( \"MATCH (u:block) RETURN COUNT (u) \").single()[0] \n",
    "        #pblock = tx.run(\"MATCH (prev_block:block {id:$prev_block}) RETURN prev_block\", prev_block=prev_block)\n",
    "        #if not pblock.single():\n",
    "         #   print(f\"COULD NOT FIND PREVIOUS BLOCK {prev_block}.\")\n",
    "        result = tx.run(\"MERGE (block:block {id:$block_id}) \"\n",
    "                        \"SET block.n_tx=$n_tx, block.nonce=$nonce, block.merkle_root=$merkle_root, block.bits=$bits, block.timestamp=$timestamp, block.version=$version \"\n",
    "                        \"MERGE (prevblock:block {id:$prev_block}) \"\n",
    "                        \"MERGE (block)<-[:chain]-(prevblock) \"\n",
    "                        \"RETURN block \",\n",
    "                        block_id=block_id, version=version, prev_block=prev_block, merkle_root=merkle_root, timestamp=timestamp, \n",
    "                        bits=bits, nonce=nonce, n_tx=n_tx)\n",
    "        return result.data()\n",
    "\n",
    "    def new_address(self, address,i,change_addr):\n",
    "        with self._driver.session() as session:\n",
    "            result = session.write_transaction(self._new_address, address,i,change_addr)\n",
    "            print(result)\n",
    "            \n",
    "    def new_tx(self, block_id, version, locktime, tx_id, inputs, outputs, segwit,i):\n",
    "        with self._driver.session() as session:\n",
    "            result = session.write_transaction(self._new_tx, block_id, version, locktime, tx_id, inputs, outputs, segwit,i)\n",
    "                  \n",
    "    def new_block(self,block_id,version, prev_block,merkle_root,timestamp,bits,nonce,n_tx):\n",
    "        with self._driver.session() as session:\n",
    "            result = session.write_transaction(self._new_block,block_id,version, prev_block,merkle_root,timestamp,bits,nonce,n_tx)\n",
    "            if len(result) >0: app_log.info(f\"CREATED BLOCK {block_id}\")\n",
    "            else: app_log.error(f\"FAILED AT CREATING BLOCK {block_id}\")\n",
    "            #print(result)\n",
    "  \n",
    "      "
   ]
  },
  {
   "cell_type": "code",
   "execution_count": 1,
   "metadata": {
    "jupyter": {
     "source_hidden": true
    }
   },
   "outputs": [],
   "source": [
    "\n",
    "def manager(args):\n",
    "    \"\"\"\n",
    "    args is a touple of 2 arguments: (arg1, arg2)\n",
    "    arg1 is the index of the first blk#####.dat file that the parser will work on.\n",
    "    arg2 is the number of threats, and therefore the number of files the parser will work on.\n",
    "    For example, if the arguments are (2,2), this means that the parser will work on files\n",
    "    blk00002.dat and blk00003.dat at the same time.\n",
    "    arg2 should never be more than 3 for efficiency reasons.\n",
    "    \"\"\"\n",
    "    #n_threads should be 3 or 2 to get maximum efficiency.\n",
    "    n_threads = args[1]\n",
    "    n = args[0]\n",
    "    #db = BlockChainDB(driver = args[2])\n",
    "    db = BlockChainDB(\"neo4j://localhost:7687\", \"neo4j\", \"wallet\")\n",
    "    file_list = [(f\"{i:05}\",db) for i in range( n , n + n_threads )]\n",
    "    with concurrent.futures.ThreadPoolExecutor(max_workers=n_threads) as executor:\n",
    "        executor.map(parse_blockchain, file_list)   \n",
    "    return True    \n",
    "\n",
    "def get_cursor(file):\n",
    "    c = 0\n",
    "    print(f\"checking for cursors {file}\")\n",
    "    try:\n",
    "        cursor = open(f\"cursors/cursor{file}.txt\")\n",
    "        c = cursor.readline()\n",
    "        try:\n",
    "            c = int(c)\n",
    "            print(f\"cursor at {c} for file blk{file}.dat\")\n",
    "            coursor.close()\n",
    "            return c\n",
    "        except:\n",
    "            if c == \"finished\":\n",
    "                print(c)\n",
    "                return True\n",
    "            else:\n",
    "                try: \n",
    "                    print(f\"trying to recover file from backup for file blk{file}.dat.\")\n",
    "                    cursor = open(f\"{file[:-4]}.txt.bck\")\n",
    "                    c = coursor.readline()\n",
    "                    try:\n",
    "                        c = int(c)\n",
    "                        subprocess.call(f\" cp cursors/cursor{file}.txt.bck cursors/cursor{file}.txt\", shell=True)\n",
    "                        print(f\"succesfully recovered file from backup for file blk{file}.dat. Restored original file.\")\n",
    "                        coursor.close()\n",
    "                        return c\n",
    "                    except:\n",
    "                        if c == \"finished\":\n",
    "                            coursor.close()\n",
    "                            print(c)\n",
    "                            subprocess.call(f\" cp cursors/cursor{file}.txt.bck cursors/cursor{file}.txt\",shell=True)\n",
    "                            print(f\"Finished. Succesfully updated original file for file blk{file}.dat.\")\n",
    "                            return c\n",
    "                        else:\n",
    "                            print(f\"Corrupted cursor files for file blk{file}.dat.\")\n",
    "                            raise Exception\n",
    "\n",
    "                except:\n",
    "                    print(f\"No back-up file for file blk{file}.dat.\")\n",
    "                    raise Exception\n",
    "\n",
    "\n",
    "    except:\n",
    "        cursor  = open(f\"cursors/cursor{file}.txt\",\"w\")\n",
    "        print(f\"No cursor file for file blk{file}.dat.\")\n",
    "        cursor.write(str(c))\n",
    "        print(c)\n",
    "        cursor.close()\n",
    "        return c\n",
    "\n",
    "def parse_blockchain(args):\n",
    "    \"\"\"\n",
    "    args: ( file index (######),  database driver )\n",
    "    \"\"\"\n",
    "    file = f\"blocks_demo/blk{args[0]}.dat\"\n",
    "    db=args[1]\n",
    "    print(f\"parsing {file}\")\n",
    "    #print(f\"driver {db}\")\n",
    "\n",
    "    with open(file,\"rb\") as block_file:\n",
    "        print(f\"opened {file}\")\n",
    "        c = get_cursor(args[0])\n",
    "        if c !=0: \n",
    "            print(f\"reading from {c} for file {file}.\")\n",
    "            block_file.read(c)\n",
    "\n",
    "        #infinite loop to parse the blk#####.dat file. \n",
    "        #Only stops when an  error occures or the file is over.\n",
    "        while True:\n",
    "\n",
    "            try:\n",
    "                #parse the block using the class Block from the file block.py\n",
    "                this_block = Block.parse_from_blk(block_file)\n",
    "\n",
    "                #calculate the block id using the header of the parsed block:\n",
    "                #first the header is concatenated\n",
    "                header = this_block.version.to_bytes(4,\"little\")+this_block.prev_block[::-1]+this_block.merkle_root[::-1]+this_block.timestamp.to_bytes(4,\"little\") + this_block.bits + this_block.nonce\n",
    "                #then the concatenated header is hashed to get the block id.\n",
    "                block_id = hash256(header)[::-1]\n",
    "\n",
    "                #A new block is created in the database using the parsed block and its id.\n",
    "                db.new_block(block_id.hex(),this_block.version, this_block.prev_block.hex(), \n",
    "                             this_block.merkle_root.hex(),this_block.timestamp, \n",
    "                             int.from_bytes(this_block.bits,\"big\"), \n",
    "                             int.from_bytes(this_block.nonce,\"big\"),\n",
    "                             this_block.tx_hashes)\n",
    "\n",
    "                #Every transaction in the block is parsed using the Tx class from the file tx.py\n",
    "                for transaction in range(this_block.tx_hashes):\n",
    "                    #the current transaction is parsed \n",
    "                    tx = Tx.parse(block_file)\n",
    "                    #the parsed transaction is created in the database \n",
    "                    db.new_tx(block_id.hex(), tx.version, tx.locktime, tx.id(), tx.tx_ins, tx.tx_outs, tx.segwit,transaction)\n",
    "\n",
    "                #the cursor is updated to start reading the next block. 8 bytes are added since some info comes before the flag. \n",
    "                c += (this_block.size + 8)\n",
    "                #print(c)\n",
    "                #the cursor file and its backup file are updated\n",
    "                cursor  = open(f\"cursors/cursor{args[0]}.txt\",\"w\")\n",
    "                cursor.write(str(c))\n",
    "                cursor.close()\n",
    "                cursor  = open(f\"cursors/cursor{args[0]}.txt.bck\",\"w\")\n",
    "                cursor.write(str(c))\n",
    "                cursor.close()\n",
    "\n",
    "\n",
    "            except Exception as e:\n",
    "                print(f\"Finished {file} file. \")\n",
    "                print(e)\n",
    "                print(e.with_traceback)\n",
    "                break\n",
    "\n",
    "\n",
    "\n",
    "\n",
    "\n",
    " "
   ]
  },
  {
   "cell_type": "code",
   "execution_count": 13,
   "metadata": {
    "jupyter": {
     "source_hidden": true
    }
   },
   "outputs": [],
   "source": [
    "\n",
    "        \n",
    "def super_main(start_at,n_processes,n_threads):\n",
    "    #driver = GraphDatabase.driver(\"neo4j://localhost:7687\", auth=(\"neo4j\", \"wallet\"), encrypted=False)\n",
    "    batch_list = [start_at+n_threads*i for i in range(n_processes)]\n",
    "    arg_list = [(n,n_threads) for n in batch_list]\n",
    "    with Pool(n_processes) as p:\n",
    "        p.map(main, arg_list)\n",
    "    \n",
    "def manager(total_files, n_processes, n_threads, n_nodes):\n",
    "    concurrent_files = n_processes*n_threads\n",
    "    batches = total_files//concurrent_files+1\n",
    "    batch_list = [concurrent_files*i for i in range(batches)]\n",
    "    print(f\"batch_list {batch_list}\")\n",
    "    for index,batch in enumerate(batch_list):\n",
    "        node = index%n_nodes\n",
    "        print(f\"node {node} batch {batch}\")\n",
    "        super_main(batch, n_processes, n_threads)"
   ]
  },
  {
   "cell_type": "code",
   "execution_count": 1,
   "metadata": {},
   "outputs": [],
   "source": [
    "import parser "
   ]
  },
  {
   "cell_type": "code",
   "execution_count": null,
   "metadata": {
    "collapsed": true,
    "jupyter": {
     "outputs_hidden": true
    }
   },
   "outputs": [
    {
     "name": "stdout",
     "output_type": "stream",
     "text": [
      "parsing blocks_demo/blk00002.dat\n",
      "parsing blocks_demo/blk00003.dat\n",
      "opened blocks_demo/blk00002.dat\n",
      "checking for cursors 00002\n",
      "opened blocks_demo/blk00003.dat\n",
      "checking for cursors 00003\n",
      "cursor at 202952 for file blk00002.dat\n",
      "trying to recover file from backup for file blk00002.dat.\n",
      "cursor at 169259 for file blk00003.dat\n",
      "trying to recover file from backup for file blk00003.dat.\n",
      "No back-up file for file blk00002.dat.No back-up file for file blk00003.dat.\n",
      "\n",
      "No cursor file for file blk00003.dat.\n",
      "169259\n",
      "No cursor file for file blk00002.dat.\n",
      "202952\n",
      "reading from 169259 for file blocks_demo/blk00003.dat.\n",
      "reading from 202952 for file blocks_demo/blk00002.dat.\n"
     ]
    }
   ],
   "source": [
    "parser.manager((2,2))"
   ]
  },
  {
   "cell_type": "code",
   "execution_count": 20,
   "metadata": {
    "collapsed": true,
    "jupyter": {
     "outputs_hidden": true
    }
   },
   "outputs": [
    {
     "name": "stdout",
     "output_type": "stream",
     "text": [
      "batch_list [0, 8]\n",
      "node 0 batch 0\n",
      "parsing blocks_demo/blk00006.dat\n",
      "parsing blocks_demo/blk00004.dat\n",
      "parsing blocks_demo/blk00005.dat\n",
      "parsing blocks_demo/blk00000.dat\n",
      "parsing blocks_demo/blk00001.dat\n",
      "parsing blocks_demo/blk00007.dat\n",
      "opened blocks_demo/blk00000.dat\n",
      "opened blocks_demo/blk00004.dat\n",
      "opened blocks_demo/blk00007.dat\n",
      "opened blocks_demo/blk00005.dat\n",
      "checking for cursors 00000\n",
      "checking for cursors 00004\n",
      "opened blocks_demo/blk00006.dat\n",
      "opened blocks_demo/blk00001.dat\n",
      "checking for cursors 00005\n",
      "checking for cursors 00006\n",
      "parsing blocks_demo/blk00002.dat\n",
      "cursor at 27417332\n",
      "checking for cursors 00007\n",
      "cursor at 75195\n",
      "checking for cursors 00001\n",
      "parsing blocks_demo/blk00003.dat\n",
      "opened blocks_demo/blk00002.dat\n",
      "cursor at 66491\n",
      "cursor at 43942\n",
      "trying to recover file from backup.\n",
      "opened blocks_demo/blk00003.dat\n",
      "cursor at 70919\n",
      "trying to recover file from backup.\n",
      "cursor at 25418670\n",
      "checking for cursors 00002\n",
      "trying to recover file from backup.\n",
      "checking for cursors 00003\n",
      "trying to recover file from backup.\n",
      "trying to recover file from backup.\n",
      "No back-up file.\n",
      "No back-up file.\n",
      "trying to recover file from backup.\n",
      "cursor at 24567888\n",
      "No back-up file.\n",
      "No back-up file.\n",
      "No back-up file.\n",
      "No back-up file.\n",
      "cursor at 62048\n",
      "trying to recover file from backup.\n",
      "trying to recover file from backup.\n",
      "No back-up file.\n",
      "No cursor file\n",
      "No cursor file\n",
      "No cursor file\n",
      "No cursor file\n",
      "No cursor file\n",
      "No back-up file.\n",
      "No cursor file\n",
      "75195\n",
      "25418670\n",
      "66491\n",
      "27417332\n",
      "No cursor file\n",
      "No cursor file\n",
      "43942\n",
      "70919\n",
      "reading from 75195\n",
      "24567888\n",
      "reading from 25418670\n",
      "reading from 66491\n",
      "reading from 43942\n",
      "reading from 27417332\n",
      "62048\n",
      "reading from 70919\n",
      "reading from 24567888\n",
      "reading from 62048\n",
      "Finished blocks_demo/blk00006.dat file. \n",
      "parsing script failed\n",
      "<built-in method with_traceback of SyntaxError object at 0x106c03ae8>\n"
     ]
    },
    {
     "name": "stderr",
     "output_type": "stream",
     "text": [
      "Process ForkPoolWorker-19:\n",
      "Process ForkPoolWorker-18:\n",
      "Process ForkPoolWorker-20:\n",
      "Process ForkPoolWorker-17:\n",
      "Traceback (most recent call last):\n",
      "Traceback (most recent call last):\n",
      "Traceback (most recent call last):\n",
      "Traceback (most recent call last):\n",
      "  File \"/anaconda3/lib/python3.7/multiprocessing/process.py\", line 297, in _bootstrap\n",
      "    self.run()\n",
      "  File \"/anaconda3/lib/python3.7/multiprocessing/process.py\", line 297, in _bootstrap\n",
      "    self.run()\n",
      "  File \"/anaconda3/lib/python3.7/multiprocessing/process.py\", line 297, in _bootstrap\n",
      "    self.run()\n",
      "  File \"/anaconda3/lib/python3.7/multiprocessing/process.py\", line 297, in _bootstrap\n",
      "    self.run()\n",
      "  File \"/anaconda3/lib/python3.7/multiprocessing/process.py\", line 99, in run\n",
      "    self._target(*self._args, **self._kwargs)\n",
      "  File \"/anaconda3/lib/python3.7/multiprocessing/process.py\", line 99, in run\n",
      "    self._target(*self._args, **self._kwargs)\n",
      "  File \"/anaconda3/lib/python3.7/multiprocessing/process.py\", line 99, in run\n",
      "    self._target(*self._args, **self._kwargs)\n",
      "  File \"/anaconda3/lib/python3.7/multiprocessing/process.py\", line 99, in run\n",
      "    self._target(*self._args, **self._kwargs)\n",
      "  File \"/anaconda3/lib/python3.7/multiprocessing/pool.py\", line 121, in worker\n",
      "    result = (True, func(*args, **kwds))\n",
      "  File \"/anaconda3/lib/python3.7/multiprocessing/pool.py\", line 121, in worker\n",
      "    result = (True, func(*args, **kwds))\n",
      "  File \"/anaconda3/lib/python3.7/multiprocessing/pool.py\", line 121, in worker\n",
      "    result = (True, func(*args, **kwds))\n",
      "  File \"/anaconda3/lib/python3.7/multiprocessing/pool.py\", line 121, in worker\n",
      "    result = (True, func(*args, **kwds))\n",
      "  File \"/anaconda3/lib/python3.7/multiprocessing/pool.py\", line 44, in mapstar\n",
      "    return list(map(*args))\n",
      "  File \"/anaconda3/lib/python3.7/multiprocessing/pool.py\", line 44, in mapstar\n",
      "    return list(map(*args))\n",
      "  File \"/anaconda3/lib/python3.7/multiprocessing/pool.py\", line 44, in mapstar\n",
      "    return list(map(*args))\n",
      "  File \"/anaconda3/lib/python3.7/multiprocessing/pool.py\", line 44, in mapstar\n",
      "    return list(map(*args))\n",
      "  File \"<ipython-input-19-c60f2df631c8>\", line 8, in main\n",
      "    executor.map(parse_blockchain, file_list)\n",
      "  File \"<ipython-input-19-c60f2df631c8>\", line 8, in main\n",
      "    executor.map(parse_blockchain, file_list)\n",
      "  File \"<ipython-input-19-c60f2df631c8>\", line 8, in main\n",
      "    executor.map(parse_blockchain, file_list)\n",
      "  File \"<ipython-input-19-c60f2df631c8>\", line 8, in main\n",
      "    executor.map(parse_blockchain, file_list)\n",
      "  File \"/anaconda3/lib/python3.7/concurrent/futures/_base.py\", line 611, in __exit__\n",
      "    self.shutdown(wait=True)\n",
      "  File \"/anaconda3/lib/python3.7/concurrent/futures/_base.py\", line 611, in __exit__\n",
      "    self.shutdown(wait=True)\n",
      "  File \"/anaconda3/lib/python3.7/concurrent/futures/_base.py\", line 611, in __exit__\n",
      "    self.shutdown(wait=True)\n",
      "  File \"/anaconda3/lib/python3.7/concurrent/futures/_base.py\", line 611, in __exit__\n",
      "    self.shutdown(wait=True)\n",
      "  File \"/anaconda3/lib/python3.7/concurrent/futures/thread.py\", line 204, in shutdown\n",
      "    t.join()\n",
      "  File \"/anaconda3/lib/python3.7/concurrent/futures/thread.py\", line 204, in shutdown\n",
      "    t.join()\n",
      "  File \"/anaconda3/lib/python3.7/concurrent/futures/thread.py\", line 204, in shutdown\n",
      "    t.join()\n",
      "  File \"/anaconda3/lib/python3.7/concurrent/futures/thread.py\", line 204, in shutdown\n",
      "    t.join()\n",
      "  File \"/anaconda3/lib/python3.7/threading.py\", line 1032, in join\n",
      "    self._wait_for_tstate_lock()\n",
      "  File \"/anaconda3/lib/python3.7/threading.py\", line 1032, in join\n",
      "    self._wait_for_tstate_lock()\n",
      "  File \"/anaconda3/lib/python3.7/threading.py\", line 1032, in join\n",
      "    self._wait_for_tstate_lock()\n",
      "  File \"/anaconda3/lib/python3.7/threading.py\", line 1032, in join\n",
      "    self._wait_for_tstate_lock()\n",
      "  File \"/anaconda3/lib/python3.7/threading.py\", line 1048, in _wait_for_tstate_lock\n",
      "    elif lock.acquire(block, timeout):\n",
      "  File \"/anaconda3/lib/python3.7/threading.py\", line 1048, in _wait_for_tstate_lock\n",
      "    elif lock.acquire(block, timeout):\n",
      "  File \"/anaconda3/lib/python3.7/threading.py\", line 1048, in _wait_for_tstate_lock\n",
      "    elif lock.acquire(block, timeout):\n",
      "  File \"/anaconda3/lib/python3.7/threading.py\", line 1048, in _wait_for_tstate_lock\n",
      "    elif lock.acquire(block, timeout):\n",
      "KeyboardInterrupt\n",
      "KeyboardInterrupt\n",
      "KeyboardInterrupt\n",
      "KeyboardInterrupt\n"
     ]
    },
    {
     "ename": "KeyboardInterrupt",
     "evalue": "",
     "output_type": "error",
     "traceback": [
      "\u001b[0;31m---------------------------------------------------------------------------\u001b[0m",
      "\u001b[0;31mKeyboardInterrupt\u001b[0m                         Traceback (most recent call last)",
      "\u001b[0;32m<ipython-input-20-d23e9d5f5fdf>\u001b[0m in \u001b[0;36m<module>\u001b[0;34m\u001b[0m\n\u001b[0;32m----> 1\u001b[0;31m \u001b[0mmanager\u001b[0m\u001b[0;34m(\u001b[0m\u001b[0;36m10\u001b[0m\u001b[0;34m,\u001b[0m \u001b[0;36m4\u001b[0m\u001b[0;34m,\u001b[0m\u001b[0;36m2\u001b[0m\u001b[0;34m,\u001b[0m\u001b[0;36m1\u001b[0m\u001b[0;34m)\u001b[0m\u001b[0;34m\u001b[0m\u001b[0;34m\u001b[0m\u001b[0m\n\u001b[0m",
      "\u001b[0;32m<ipython-input-19-c60f2df631c8>\u001b[0m in \u001b[0;36mmanager\u001b[0;34m(total_files, n_processes, n_threads, n_nodes)\u001b[0m\n\u001b[1;32m     24\u001b[0m         \u001b[0mnode\u001b[0m \u001b[0;34m=\u001b[0m \u001b[0mindex\u001b[0m\u001b[0;34m%\u001b[0m\u001b[0mn_nodes\u001b[0m\u001b[0;34m\u001b[0m\u001b[0;34m\u001b[0m\u001b[0m\n\u001b[1;32m     25\u001b[0m         \u001b[0mprint\u001b[0m\u001b[0;34m(\u001b[0m\u001b[0;34mf\"node {node} batch {batch}\"\u001b[0m\u001b[0;34m)\u001b[0m\u001b[0;34m\u001b[0m\u001b[0;34m\u001b[0m\u001b[0m\n\u001b[0;32m---> 26\u001b[0;31m         \u001b[0msuper_main\u001b[0m\u001b[0;34m(\u001b[0m\u001b[0mbatch\u001b[0m\u001b[0;34m,\u001b[0m \u001b[0mn_processes\u001b[0m\u001b[0;34m,\u001b[0m \u001b[0mn_threads\u001b[0m\u001b[0;34m)\u001b[0m\u001b[0;34m\u001b[0m\u001b[0;34m\u001b[0m\u001b[0m\n\u001b[0m",
      "\u001b[0;32m<ipython-input-19-c60f2df631c8>\u001b[0m in \u001b[0;36msuper_main\u001b[0;34m(start_at, n_processes, n_threads)\u001b[0m\n\u001b[1;32m     14\u001b[0m     \u001b[0marg_list\u001b[0m \u001b[0;34m=\u001b[0m \u001b[0;34m[\u001b[0m\u001b[0;34m(\u001b[0m\u001b[0mn\u001b[0m\u001b[0;34m,\u001b[0m\u001b[0mn_threads\u001b[0m\u001b[0;34m)\u001b[0m \u001b[0;32mfor\u001b[0m \u001b[0mn\u001b[0m \u001b[0;32min\u001b[0m \u001b[0mbatch_list\u001b[0m\u001b[0;34m]\u001b[0m\u001b[0;34m\u001b[0m\u001b[0;34m\u001b[0m\u001b[0m\n\u001b[1;32m     15\u001b[0m     \u001b[0;32mwith\u001b[0m \u001b[0mPool\u001b[0m\u001b[0;34m(\u001b[0m\u001b[0mn_processes\u001b[0m\u001b[0;34m)\u001b[0m \u001b[0;32mas\u001b[0m \u001b[0mp\u001b[0m\u001b[0;34m:\u001b[0m\u001b[0;34m\u001b[0m\u001b[0;34m\u001b[0m\u001b[0m\n\u001b[0;32m---> 16\u001b[0;31m         \u001b[0mp\u001b[0m\u001b[0;34m.\u001b[0m\u001b[0mmap\u001b[0m\u001b[0;34m(\u001b[0m\u001b[0mmain\u001b[0m\u001b[0;34m,\u001b[0m \u001b[0marg_list\u001b[0m\u001b[0;34m)\u001b[0m\u001b[0;34m\u001b[0m\u001b[0;34m\u001b[0m\u001b[0m\n\u001b[0m\u001b[1;32m     17\u001b[0m \u001b[0;34m\u001b[0m\u001b[0m\n\u001b[1;32m     18\u001b[0m \u001b[0;32mdef\u001b[0m \u001b[0mmanager\u001b[0m\u001b[0;34m(\u001b[0m\u001b[0mtotal_files\u001b[0m\u001b[0;34m,\u001b[0m \u001b[0mn_processes\u001b[0m\u001b[0;34m,\u001b[0m \u001b[0mn_threads\u001b[0m\u001b[0;34m,\u001b[0m \u001b[0mn_nodes\u001b[0m\u001b[0;34m)\u001b[0m\u001b[0;34m:\u001b[0m\u001b[0;34m\u001b[0m\u001b[0;34m\u001b[0m\u001b[0m\n",
      "\u001b[0;32m/anaconda3/lib/python3.7/multiprocessing/pool.py\u001b[0m in \u001b[0;36mmap\u001b[0;34m(self, func, iterable, chunksize)\u001b[0m\n\u001b[1;32m    266\u001b[0m         \u001b[0;32min\u001b[0m \u001b[0ma\u001b[0m \u001b[0mlist\u001b[0m \u001b[0mthat\u001b[0m \u001b[0;32mis\u001b[0m \u001b[0mreturned\u001b[0m\u001b[0;34m.\u001b[0m\u001b[0;34m\u001b[0m\u001b[0;34m\u001b[0m\u001b[0m\n\u001b[1;32m    267\u001b[0m         '''\n\u001b[0;32m--> 268\u001b[0;31m         \u001b[0;32mreturn\u001b[0m \u001b[0mself\u001b[0m\u001b[0;34m.\u001b[0m\u001b[0m_map_async\u001b[0m\u001b[0;34m(\u001b[0m\u001b[0mfunc\u001b[0m\u001b[0;34m,\u001b[0m \u001b[0miterable\u001b[0m\u001b[0;34m,\u001b[0m \u001b[0mmapstar\u001b[0m\u001b[0;34m,\u001b[0m \u001b[0mchunksize\u001b[0m\u001b[0;34m)\u001b[0m\u001b[0;34m.\u001b[0m\u001b[0mget\u001b[0m\u001b[0;34m(\u001b[0m\u001b[0;34m)\u001b[0m\u001b[0;34m\u001b[0m\u001b[0;34m\u001b[0m\u001b[0m\n\u001b[0m\u001b[1;32m    269\u001b[0m \u001b[0;34m\u001b[0m\u001b[0m\n\u001b[1;32m    270\u001b[0m     \u001b[0;32mdef\u001b[0m \u001b[0mstarmap\u001b[0m\u001b[0;34m(\u001b[0m\u001b[0mself\u001b[0m\u001b[0;34m,\u001b[0m \u001b[0mfunc\u001b[0m\u001b[0;34m,\u001b[0m \u001b[0miterable\u001b[0m\u001b[0;34m,\u001b[0m \u001b[0mchunksize\u001b[0m\u001b[0;34m=\u001b[0m\u001b[0;32mNone\u001b[0m\u001b[0;34m)\u001b[0m\u001b[0;34m:\u001b[0m\u001b[0;34m\u001b[0m\u001b[0;34m\u001b[0m\u001b[0m\n",
      "\u001b[0;32m/anaconda3/lib/python3.7/multiprocessing/pool.py\u001b[0m in \u001b[0;36mget\u001b[0;34m(self, timeout)\u001b[0m\n\u001b[1;32m    649\u001b[0m \u001b[0;34m\u001b[0m\u001b[0m\n\u001b[1;32m    650\u001b[0m     \u001b[0;32mdef\u001b[0m \u001b[0mget\u001b[0m\u001b[0;34m(\u001b[0m\u001b[0mself\u001b[0m\u001b[0;34m,\u001b[0m \u001b[0mtimeout\u001b[0m\u001b[0;34m=\u001b[0m\u001b[0;32mNone\u001b[0m\u001b[0;34m)\u001b[0m\u001b[0;34m:\u001b[0m\u001b[0;34m\u001b[0m\u001b[0;34m\u001b[0m\u001b[0m\n\u001b[0;32m--> 651\u001b[0;31m         \u001b[0mself\u001b[0m\u001b[0;34m.\u001b[0m\u001b[0mwait\u001b[0m\u001b[0;34m(\u001b[0m\u001b[0mtimeout\u001b[0m\u001b[0;34m)\u001b[0m\u001b[0;34m\u001b[0m\u001b[0;34m\u001b[0m\u001b[0m\n\u001b[0m\u001b[1;32m    652\u001b[0m         \u001b[0;32mif\u001b[0m \u001b[0;32mnot\u001b[0m \u001b[0mself\u001b[0m\u001b[0;34m.\u001b[0m\u001b[0mready\u001b[0m\u001b[0;34m(\u001b[0m\u001b[0;34m)\u001b[0m\u001b[0;34m:\u001b[0m\u001b[0;34m\u001b[0m\u001b[0;34m\u001b[0m\u001b[0m\n\u001b[1;32m    653\u001b[0m             \u001b[0;32mraise\u001b[0m \u001b[0mTimeoutError\u001b[0m\u001b[0;34m\u001b[0m\u001b[0;34m\u001b[0m\u001b[0m\n",
      "\u001b[0;32m/anaconda3/lib/python3.7/multiprocessing/pool.py\u001b[0m in \u001b[0;36mwait\u001b[0;34m(self, timeout)\u001b[0m\n\u001b[1;32m    646\u001b[0m \u001b[0;34m\u001b[0m\u001b[0m\n\u001b[1;32m    647\u001b[0m     \u001b[0;32mdef\u001b[0m \u001b[0mwait\u001b[0m\u001b[0;34m(\u001b[0m\u001b[0mself\u001b[0m\u001b[0;34m,\u001b[0m \u001b[0mtimeout\u001b[0m\u001b[0;34m=\u001b[0m\u001b[0;32mNone\u001b[0m\u001b[0;34m)\u001b[0m\u001b[0;34m:\u001b[0m\u001b[0;34m\u001b[0m\u001b[0;34m\u001b[0m\u001b[0m\n\u001b[0;32m--> 648\u001b[0;31m         \u001b[0mself\u001b[0m\u001b[0;34m.\u001b[0m\u001b[0m_event\u001b[0m\u001b[0;34m.\u001b[0m\u001b[0mwait\u001b[0m\u001b[0;34m(\u001b[0m\u001b[0mtimeout\u001b[0m\u001b[0;34m)\u001b[0m\u001b[0;34m\u001b[0m\u001b[0;34m\u001b[0m\u001b[0m\n\u001b[0m\u001b[1;32m    649\u001b[0m \u001b[0;34m\u001b[0m\u001b[0m\n\u001b[1;32m    650\u001b[0m     \u001b[0;32mdef\u001b[0m \u001b[0mget\u001b[0m\u001b[0;34m(\u001b[0m\u001b[0mself\u001b[0m\u001b[0;34m,\u001b[0m \u001b[0mtimeout\u001b[0m\u001b[0;34m=\u001b[0m\u001b[0;32mNone\u001b[0m\u001b[0;34m)\u001b[0m\u001b[0;34m:\u001b[0m\u001b[0;34m\u001b[0m\u001b[0;34m\u001b[0m\u001b[0m\n",
      "\u001b[0;32m/anaconda3/lib/python3.7/threading.py\u001b[0m in \u001b[0;36mwait\u001b[0;34m(self, timeout)\u001b[0m\n\u001b[1;32m    550\u001b[0m             \u001b[0msignaled\u001b[0m \u001b[0;34m=\u001b[0m \u001b[0mself\u001b[0m\u001b[0;34m.\u001b[0m\u001b[0m_flag\u001b[0m\u001b[0;34m\u001b[0m\u001b[0;34m\u001b[0m\u001b[0m\n\u001b[1;32m    551\u001b[0m             \u001b[0;32mif\u001b[0m \u001b[0;32mnot\u001b[0m \u001b[0msignaled\u001b[0m\u001b[0;34m:\u001b[0m\u001b[0;34m\u001b[0m\u001b[0;34m\u001b[0m\u001b[0m\n\u001b[0;32m--> 552\u001b[0;31m                 \u001b[0msignaled\u001b[0m \u001b[0;34m=\u001b[0m \u001b[0mself\u001b[0m\u001b[0;34m.\u001b[0m\u001b[0m_cond\u001b[0m\u001b[0;34m.\u001b[0m\u001b[0mwait\u001b[0m\u001b[0;34m(\u001b[0m\u001b[0mtimeout\u001b[0m\u001b[0;34m)\u001b[0m\u001b[0;34m\u001b[0m\u001b[0;34m\u001b[0m\u001b[0m\n\u001b[0m\u001b[1;32m    553\u001b[0m             \u001b[0;32mreturn\u001b[0m \u001b[0msignaled\u001b[0m\u001b[0;34m\u001b[0m\u001b[0;34m\u001b[0m\u001b[0m\n\u001b[1;32m    554\u001b[0m \u001b[0;34m\u001b[0m\u001b[0m\n",
      "\u001b[0;32m/anaconda3/lib/python3.7/threading.py\u001b[0m in \u001b[0;36mwait\u001b[0;34m(self, timeout)\u001b[0m\n\u001b[1;32m    294\u001b[0m         \u001b[0;32mtry\u001b[0m\u001b[0;34m:\u001b[0m    \u001b[0;31m# restore state no matter what (e.g., KeyboardInterrupt)\u001b[0m\u001b[0;34m\u001b[0m\u001b[0;34m\u001b[0m\u001b[0m\n\u001b[1;32m    295\u001b[0m             \u001b[0;32mif\u001b[0m \u001b[0mtimeout\u001b[0m \u001b[0;32mis\u001b[0m \u001b[0;32mNone\u001b[0m\u001b[0;34m:\u001b[0m\u001b[0;34m\u001b[0m\u001b[0;34m\u001b[0m\u001b[0m\n\u001b[0;32m--> 296\u001b[0;31m                 \u001b[0mwaiter\u001b[0m\u001b[0;34m.\u001b[0m\u001b[0macquire\u001b[0m\u001b[0;34m(\u001b[0m\u001b[0;34m)\u001b[0m\u001b[0;34m\u001b[0m\u001b[0;34m\u001b[0m\u001b[0m\n\u001b[0m\u001b[1;32m    297\u001b[0m                 \u001b[0mgotit\u001b[0m \u001b[0;34m=\u001b[0m \u001b[0;32mTrue\u001b[0m\u001b[0;34m\u001b[0m\u001b[0;34m\u001b[0m\u001b[0m\n\u001b[1;32m    298\u001b[0m             \u001b[0;32melse\u001b[0m\u001b[0;34m:\u001b[0m\u001b[0;34m\u001b[0m\u001b[0;34m\u001b[0m\u001b[0m\n",
      "\u001b[0;31mKeyboardInterrupt\u001b[0m: "
     ]
    }
   ],
   "source": [
    "manager(10, 4,2,1)"
   ]
  },
  {
   "cell_type": "code",
   "execution_count": null,
   "metadata": {
    "collapsed": true,
    "jupyter": {
     "outputs_hidden": true
    }
   },
   "outputs": [
    {
     "name": "stdout",
     "output_type": "stream",
     "text": [
      "parsing blocks_demo/blk00000.dat\n",
      "parsing blocks_demo/blk00001.dat\n",
      "opened blocks_demo/blk00000.dat\n",
      "checking for cursors 00000\n",
      "parsing blocks_demo/blk00002.dat\n",
      "opened blocks_demo/blk00001.dat\n",
      "checking for cursors 00001\n",
      "No cursor file\n",
      "0\n",
      "No cursor fileopened blocks_demo/blk00002.dat\n",
      "checking for cursors 00002\n",
      "\n",
      "0\n",
      "No cursor file\n",
      "0\n"
     ]
    }
   ],
   "source": [
    "main()"
   ]
  },
  {
   "cell_type": "markdown",
   "metadata": {},
   "source": [
    "# The Idea For The RPi Cluster\n",
    "\n",
    "Since python can only manage one process, we would have to manage the script from outside python. In other words, we will have to call the python script 4 times from a bash script in order for them to start in an independent process, and in this way utilize the 4 cores of the raspberry pi. Each one of the four scripts will be assigned a different blk\\*\\*\\*\\*\\*.dat file to parallelize the parsing. If this works, this will mean that the cluster will be able to parse 16 files at the same time.\n",
    "\n",
    "To Do/Fix:\n",
    "1. Skip the Script op_codes parsing on the ScriptPubKey and ScripSig. This will be done separetely if necessary, but for efficiency reasons, the database will store these fields as hexadecimals without any validation since this is also unnecessary. This will fix the app crashing on ScriptSig for coinbase transactions where the scripts are abitrary.\n",
    "2. Create the bash script that will assign a different file to the python script.\n",
    "3. Create the file sharing system for the blocks and the database.\n",
    "4. "
   ]
  },
  {
   "cell_type": "code",
   "execution_count": 32,
   "metadata": {},
   "outputs": [],
   "source": [
    "os.chdir(\"/Users/oscareduardosernarosero/Desktop/neo4j-community-4.0.3/bin\")\n",
    "whereami = subprocess.check_output(\"pwd\")\n",
    "print(whereami)\n",
    "if whereami == b\"/Users/oscareduardosernarosero/Desktop/neo4j-community-4.0.3/bin\\n\": print(\"ok\")\n",
    "print(subprocess.check_output(\"ls\"))\n",
    "start_neo4j = subprocess.check_output(\"./neo4j start\",shell = True)\n",
    "if \"Started neo4j\" in str(start_neo4j): print(\"Sarted Neo4j successfully...\")\n",
    "else: print(\"Failed starting Neo4j.\")\n",
    "sleep(2)"
   ]
  },
  {
   "cell_type": "code",
   "execution_count": 57,
   "metadata": {
    "collapsed": true,
    "jupyter": {
     "outputs_hidden": true
    }
   },
   "outputs": [
    {
     "ename": "CalledProcessError",
     "evalue": "Command 'MATCH (n) RETURN n' returned non-zero exit status 2.",
     "output_type": "error",
     "traceback": [
      "\u001b[0;31m---------------------------------------------------------------------------\u001b[0m",
      "\u001b[0;31mCalledProcessError\u001b[0m                        Traceback (most recent call last)",
      "\u001b[0;32m<ipython-input-57-f2f54fa574f5>\u001b[0m in \u001b[0;36m<module>\u001b[0;34m\u001b[0m\n\u001b[1;32m      2\u001b[0m \u001b[0;31m#output = Popen([\"./cypher-shell\",\"-u\",\"neo4j\",\"-p\",\"wallet\"],stdout=PIPE, stderr=PIPE)\u001b[0m\u001b[0;34m\u001b[0m\u001b[0;34m\u001b[0m\u001b[0;34m\u001b[0m\u001b[0m\n\u001b[1;32m      3\u001b[0m \u001b[0msubprocess\u001b[0m\u001b[0;34m.\u001b[0m\u001b[0mcall\u001b[0m\u001b[0;34m(\u001b[0m\u001b[0;34m\"./cypher-shell -u neo4j -p wallet\"\u001b[0m\u001b[0;34m,\u001b[0m\u001b[0mshell\u001b[0m \u001b[0;34m=\u001b[0m \u001b[0;32mTrue\u001b[0m\u001b[0;34m)\u001b[0m\u001b[0;34m\u001b[0m\u001b[0;34m\u001b[0m\u001b[0m\n\u001b[0;32m----> 4\u001b[0;31m \u001b[0moutput\u001b[0m \u001b[0;34m=\u001b[0m \u001b[0msubprocess\u001b[0m\u001b[0;34m.\u001b[0m\u001b[0mcheck_output\u001b[0m\u001b[0;34m(\u001b[0m\u001b[0;34m\"MATCH (n) RETURN n\"\u001b[0m\u001b[0;34m,\u001b[0m\u001b[0mshell\u001b[0m \u001b[0;34m=\u001b[0m \u001b[0;32mTrue\u001b[0m\u001b[0;34m)\u001b[0m\u001b[0;34m\u001b[0m\u001b[0;34m\u001b[0m\u001b[0m\n\u001b[0m\u001b[1;32m      5\u001b[0m \u001b[0mprint\u001b[0m\u001b[0;34m(\u001b[0m\u001b[0moutput\u001b[0m\u001b[0;34m)\u001b[0m\u001b[0;34m\u001b[0m\u001b[0;34m\u001b[0m\u001b[0m\n",
      "\u001b[0;32m/anaconda3/lib/python3.7/subprocess.py\u001b[0m in \u001b[0;36mcheck_output\u001b[0;34m(timeout, *popenargs, **kwargs)\u001b[0m\n\u001b[1;32m    393\u001b[0m \u001b[0;34m\u001b[0m\u001b[0m\n\u001b[1;32m    394\u001b[0m     return run(*popenargs, stdout=PIPE, timeout=timeout, check=True,\n\u001b[0;32m--> 395\u001b[0;31m                **kwargs).stdout\n\u001b[0m\u001b[1;32m    396\u001b[0m \u001b[0;34m\u001b[0m\u001b[0m\n\u001b[1;32m    397\u001b[0m \u001b[0;34m\u001b[0m\u001b[0m\n",
      "\u001b[0;32m/anaconda3/lib/python3.7/subprocess.py\u001b[0m in \u001b[0;36mrun\u001b[0;34m(input, capture_output, timeout, check, *popenargs, **kwargs)\u001b[0m\n\u001b[1;32m    485\u001b[0m         \u001b[0;32mif\u001b[0m \u001b[0mcheck\u001b[0m \u001b[0;32mand\u001b[0m \u001b[0mretcode\u001b[0m\u001b[0;34m:\u001b[0m\u001b[0;34m\u001b[0m\u001b[0;34m\u001b[0m\u001b[0m\n\u001b[1;32m    486\u001b[0m             raise CalledProcessError(retcode, process.args,\n\u001b[0;32m--> 487\u001b[0;31m                                      output=stdout, stderr=stderr)\n\u001b[0m\u001b[1;32m    488\u001b[0m     \u001b[0;32mreturn\u001b[0m \u001b[0mCompletedProcess\u001b[0m\u001b[0;34m(\u001b[0m\u001b[0mprocess\u001b[0m\u001b[0;34m.\u001b[0m\u001b[0margs\u001b[0m\u001b[0;34m,\u001b[0m \u001b[0mretcode\u001b[0m\u001b[0;34m,\u001b[0m \u001b[0mstdout\u001b[0m\u001b[0;34m,\u001b[0m \u001b[0mstderr\u001b[0m\u001b[0;34m)\u001b[0m\u001b[0;34m\u001b[0m\u001b[0;34m\u001b[0m\u001b[0m\n\u001b[1;32m    489\u001b[0m \u001b[0;34m\u001b[0m\u001b[0m\n",
      "\u001b[0;31mCalledProcessError\u001b[0m: Command 'MATCH (n) RETURN n' returned non-zero exit status 2."
     ]
    }
   ],
   "source": [
    "#os.chdir(\"/Users/oscareduardosernarosero/Desktop/neo4j-community-4.0.3/bin\")\n",
    "#output = Popen([\"./cypher-shell\",\"-u\",\"neo4j\",\"-p\",\"wallet\"],stdout=PIPE, stderr=PIPE)\n",
    "subprocess.call(\"./cypher-shell -u neo4j -p wallet\",shell = True)\n",
    "output = subprocess.check_output(\"MATCH (n) RETURN n\",shell = True)\n",
    "print(output)"
   ]
  },
  {
   "cell_type": "code",
   "execution_count": 54,
   "metadata": {},
   "outputs": [
    {
     "name": "stdout",
     "output_type": "stream",
     "text": [
      "b''\n"
     ]
    }
   ],
   "source": [
    "stdout, stderr = output.communicate(\"\\tMATCH (n) RETURN n\\n\")\n",
    "print (stdout)\n",
    "#subprocess.call(\"neo4j\",shell = True)\n",
    "#sleep(2)\n",
    "#loggedin = subprocess.check_output(\"wallet\",shell = True)\n",
    "#if \"Connected to Neo4j 4.0.3 at neo4j://localhost:7687 as user neo4j\" in str(loggedin):print(\"connected\")"
   ]
  },
  {
   "cell_type": "code",
   "execution_count": 47,
   "metadata": {},
   "outputs": [],
   "source": []
  },
  {
   "cell_type": "code",
   "execution_count": 13,
   "metadata": {},
   "outputs": [
    {
     "name": "stdout",
     "output_type": "stream",
     "text": [
      "b\"\\xf9\\xbe\\xb4\\xd9\\x1d\\x01\\x00\\x00\\x01\\x00\\x00\\x00\\x00\\x00\\x00\\x00\\x00\\x00\\x00\\x00\\x00\\x00\\x00\\x00\\x00\\x00\\x00\\x00\\x00\\x00\\x00\\x00\\x00\\x00\\x00\\x00\\x00\\x00\\x00\\x00\\x00\\x00\\x00\\x00;\\xa3\\xed\\xfdz{\\x12\\xb2z\\xc7,>gv\\x8fa\\x7f\\xc8\\x1b\\xc3\\x88\\x8aQ2:\\x9f\\xb8\\xaaK\\x1e^J)\\xab_I\\xff\\xff\\x00\\x1d\\x1d\\xac+|\\x01\\x01\\x00\\x00\\x00\\x01\\x00\\x00\\x00\\x00\\x00\\x00\\x00\\x00\\x00\\x00\\x00\\x00\\x00\\x00\\x00\\x00\\x00\\x00\\x00\\x00\\x00\\x00\\x00\\x00\\x00\\x00\\x00\\x00\\x00\\x00\\x00\\x00\\xff\\xff\\xff\\xffM\\x04\\xff\\xff\\x00\\x1d\\x01\\x04EThe Times 03/Jan/2009 Chancellor on brink of second bailout for banks\\xff\\xff\\xff\\xff\\x01\\x00\\xf2\\x05*\\x01\\x00\\x00\\x00CA\\x04g\\x8a\\xfd\\xb0\\xfeUH'\\x19g\\xf1\\xa6q0\\xb7\\x10\\\\\\xd6\\xa8(\\xe09\\t\\xa6yb\\xe0\\xea\\x1fa\\xde\\xb6I\\xf6\\xbc?L\\xef8\\xc4\\xf3U\\x04\\xe5\\x1e\\xc1\\x12\\xde\\\\8M\\xf7\\xba\\x0b\\x8dW\\x8aLp+k\\xf1\\x1d_\\xac\\x00\\x00\\x00\\x00\\xf9\\xbe\\xb4\\xd9\"\n"
     ]
    }
   ],
   "source": [
    "with open(\"blocks_demo/blk00000.dat\",\"rb\") as block_file:\n",
    "    \n",
    "    print(block_file.read(297))\n",
    "    "
   ]
  },
  {
   "cell_type": "code",
   "execution_count": 34,
   "metadata": {},
   "outputs": [
    {
     "data": {
      "text/plain": [
       "'0x14'"
      ]
     },
     "execution_count": 34,
     "metadata": {},
     "output_type": "execute_result"
    }
   ],
   "source": [
    "hex(20)"
   ]
  },
  {
   "cell_type": "code",
   "execution_count": null,
   "metadata": {},
   "outputs": [],
   "source": [
    "os.chdir(\"block_demo\")\n",
    "files = subprocess.check_output(\"ls\")\n",
    "files"
   ]
  },
  {
   "cell_type": "code",
   "execution_count": 13,
   "metadata": {},
   "outputs": [
    {
     "name": "stdout",
     "output_type": "stream",
     "text": [
      "000000000019d6689c085ae165831e934ff763ae46a2a6c172b3f1b60a8ce26f\n",
      "000000000019d6689c085ae165831e934ff763ae46a2a6c172b3f1b60a8ce26f 1 0000000000000000000000000000000000000000000000000000000000000000 4a5e1e4baab89f3a32518a88c31bc87f618f76673e2cc77ab2127b7afdeda33b 1231006505 4294901789 497822588 1\n",
      "tx: 4a5e1e4baab89f3a32518a88c31bc87f618f76673e2cc77ab2127b7afdeda33b\n",
      "version: 1\n",
      "tx_ins:\n",
      "0000000000000000000000000000000000000000000000000000000000000000:4294967295\n",
      "tx_outs:\n",
      "5000000000:04678afdb0fe5548271967f1a67130b7105cd6a828e03909a67962e0ea1f61deb649f6bc3f4cef38c4f35504e51ec112de5c384df7ba0b8d578a4c702b6bf11d5f OP_CHECKSIG\n",
      "locktime: 0\n",
      "b'The Times 03/Jan/2009 Chancellor on brink of second bailout for banks'\n"
     ]
    }
   ],
   "source": [
    "with open(\"blocks_demo/blk00000.dat\",\"rb\") as block_file:\n",
    "    #block_file.read(43942)\n",
    "    \n",
    "    this_block = Block.parse_from_blk(block_file)\n",
    "\n",
    "    header = this_block.version.to_bytes(4,\"little\")+this_block.prev_block[::-1]+this_block.merkle_root[::-1]+this_block.timestamp.to_bytes(4,\"little\") + this_block.bits + this_block.nonce\n",
    "    block_id = hash256(header)[::-1]\n",
    "    print(block_id.hex())\n",
    "\n",
    "    print(block_id.hex(),this_block.version, this_block.prev_block.hex(), \n",
    "                 this_block.merkle_root.hex(),this_block.timestamp, \n",
    "                 int.from_bytes(this_block.bits,\"big\"), \n",
    "                 int.from_bytes(this_block.nonce,\"big\"),\n",
    "                 this_block.tx_hashes)\n",
    "   \n",
    "    for transaction in range(this_block.tx_hashes):\n",
    "        tx = Tx.parse(block_file)\n",
    "        print(tx)\n",
    "        print(tx.tx_ins[0].script_sig.cmds[2])\n",
    "        #db.new_tx(block_id.hex(), tx.version, tx.locktime, tx.id(), tx.tx_ins, tx.tx_outs, tx.segwit,transaction)\n"
   ]
  },
  {
   "cell_type": "code",
   "execution_count": 9,
   "metadata": {},
   "outputs": [],
   "source": [
    "def add_height():\n",
    "    \n",
    "    tx_id=\"000000000933ea01ad0ee984209779baaec3ced90fa3f408719526f8d77f4943\"\n",
    "    #while (True):      \n",
    "    tx_id = tx.run(\"MATCH (t:transaction {id:$tx_id})-[:LINKS]->(n) \"\n",
    "                    \"WITH t.height AS height, n AS next_block\"\n",
    "                    \"SET next_block.height = height+1\"\n",
    "                    \"RETURN next_block.id\",\n",
    "                    tx_id=tx_id)\n",
    "    print(tx_id)\n",
    "\n"
   ]
  },
  {
   "cell_type": "code",
   "execution_count": 15,
   "metadata": {},
   "outputs": [],
   "source": [
    "from neo4j import GraphDatabase\n",
    "db = BlockChainDB(\"neo4j://localhost:7687\", \"neo4j\", \"wallet\")\n",
    "#r = db.add_height()"
   ]
  },
  {
   "cell_type": "code",
   "execution_count": 35,
   "metadata": {
    "collapsed": true,
    "jupyter": {
     "outputs_hidden": true,
     "source_hidden": true
    }
   },
   "outputs": [
    {
     "name": "stdout",
     "output_type": "stream",
     "text": [
      "0\n",
      "0000000000000abc0fe6ca86b65cdede2de0213e7e28f302f85e2cb7ab5fd7ba\n",
      "00000000000000b39d052fa7b026d29fbac601fdbaec54375151f5fb0e5bbddf\n",
      "0000000000000f5133e6ebdb8fab60736f380eaaec9079d952177bf26871db9b\n",
      "00000000000008b3d2a76647934a0ba5ff77aaf8c21175b99eeaf7413a7b20e8\n",
      "0000000000000139af2a38f3150aefb6ca6b21ce11c7cce0cded9185581862c5\n"
     ]
    },
    {
     "ename": "AttributeError",
     "evalue": "'NoneType' object has no attribute 'value'",
     "output_type": "error",
     "traceback": [
      "\u001b[0;31m---------------------------------------------------------------------------\u001b[0m",
      "\u001b[0;31mAttributeError\u001b[0m                            Traceback (most recent call last)",
      "\u001b[0;32m<ipython-input-35-2c8547c76940>\u001b[0m in \u001b[0;36m<module>\u001b[0;34m\u001b[0m\n\u001b[0;32m----> 1\u001b[0;31m \u001b[0mdb\u001b[0m\u001b[0;34m.\u001b[0m\u001b[0madd_height\u001b[0m\u001b[0;34m(\u001b[0m\u001b[0;34m\"0000000000000a8813a0f9ef03bac3a0af5eaea8e19cc236bef9f6b3d1613ab7\"\u001b[0m\u001b[0;34m)\u001b[0m\u001b[0;34m\u001b[0m\u001b[0;34m\u001b[0m\u001b[0m\n\u001b[0m",
      "\u001b[0;32m<ipython-input-33-162a8dae98da>\u001b[0m in \u001b[0;36madd_height\u001b[0;34m(self, block_id)\u001b[0m\n\u001b[1;32m     67\u001b[0m         \u001b[0;32mfor\u001b[0m \u001b[0mi\u001b[0m \u001b[0;32min\u001b[0m \u001b[0mrange\u001b[0m\u001b[0;34m(\u001b[0m\u001b[0;36m2000\u001b[0m\u001b[0;34m)\u001b[0m\u001b[0;34m:\u001b[0m\u001b[0;34m\u001b[0m\u001b[0;34m\u001b[0m\u001b[0m\n\u001b[1;32m     68\u001b[0m             \u001b[0mprint\u001b[0m\u001b[0;34m(\u001b[0m\u001b[0mi\u001b[0m\u001b[0;34m)\u001b[0m\u001b[0;34m\u001b[0m\u001b[0;34m\u001b[0m\u001b[0m\n\u001b[0;32m---> 69\u001b[0;31m             \u001b[0mblock_id\u001b[0m \u001b[0;34m=\u001b[0m \u001b[0mdb\u001b[0m\u001b[0;34m.\u001b[0m\u001b[0madd_height_batch\u001b[0m\u001b[0;34m(\u001b[0m\u001b[0mblock_id\u001b[0m\u001b[0;34m)\u001b[0m\u001b[0;34m\u001b[0m\u001b[0;34m\u001b[0m\u001b[0m\n\u001b[0m\u001b[1;32m     70\u001b[0m             \u001b[0mprint\u001b[0m\u001b[0;34m(\u001b[0m\u001b[0mblock_id\u001b[0m\u001b[0;34m)\u001b[0m\u001b[0;34m\u001b[0m\u001b[0;34m\u001b[0m\u001b[0m\n\u001b[1;32m     71\u001b[0m             \u001b[0msleep\u001b[0m\u001b[0;34m(\u001b[0m\u001b[0;36m1\u001b[0m\u001b[0;34m)\u001b[0m\u001b[0;34m\u001b[0m\u001b[0;34m\u001b[0m\u001b[0m\n",
      "\u001b[0;32m<ipython-input-33-162a8dae98da>\u001b[0m in \u001b[0;36madd_height_batch\u001b[0;34m(self, block_id)\u001b[0m\n\u001b[1;32m     57\u001b[0m     \u001b[0;32mdef\u001b[0m \u001b[0madd_height_batch\u001b[0m\u001b[0;34m(\u001b[0m\u001b[0mself\u001b[0m\u001b[0;34m,\u001b[0m\u001b[0mblock_id\u001b[0m\u001b[0;34m=\u001b[0m\u001b[0;32mNone\u001b[0m\u001b[0;34m)\u001b[0m\u001b[0;34m:\u001b[0m\u001b[0;34m\u001b[0m\u001b[0;34m\u001b[0m\u001b[0m\n\u001b[1;32m     58\u001b[0m         \u001b[0;32mwith\u001b[0m \u001b[0mself\u001b[0m\u001b[0;34m.\u001b[0m\u001b[0m_driver\u001b[0m\u001b[0;34m.\u001b[0m\u001b[0msession\u001b[0m\u001b[0;34m(\u001b[0m\u001b[0;34m)\u001b[0m \u001b[0;32mas\u001b[0m \u001b[0msession\u001b[0m\u001b[0;34m:\u001b[0m\u001b[0;34m\u001b[0m\u001b[0;34m\u001b[0m\u001b[0m\n\u001b[0;32m---> 59\u001b[0;31m             \u001b[0mresult\u001b[0m \u001b[0;34m=\u001b[0m \u001b[0msession\u001b[0m\u001b[0;34m.\u001b[0m\u001b[0mwrite_transaction\u001b[0m\u001b[0;34m(\u001b[0m\u001b[0mself\u001b[0m\u001b[0;34m.\u001b[0m\u001b[0m_add_height\u001b[0m\u001b[0;34m,\u001b[0m \u001b[0mblock_id\u001b[0m\u001b[0;34m)\u001b[0m\u001b[0;34m\u001b[0m\u001b[0;34m\u001b[0m\u001b[0m\n\u001b[0m\u001b[1;32m     60\u001b[0m             \u001b[0;31m#print(result)\u001b[0m\u001b[0;34m\u001b[0m\u001b[0;34m\u001b[0m\u001b[0;34m\u001b[0m\u001b[0m\n\u001b[1;32m     61\u001b[0m             \u001b[0;32mreturn\u001b[0m \u001b[0mresult\u001b[0m\u001b[0;34m\u001b[0m\u001b[0;34m\u001b[0m\u001b[0m\n",
      "\u001b[0;32m~/anaconda3/lib/python3.7/site-packages/neo4j/__init__.py\u001b[0m in \u001b[0;36mwrite_transaction\u001b[0;34m(self, unit_of_work, *args, **kwargs)\u001b[0m\n\u001b[1;32m    716\u001b[0m     \u001b[0;32mdef\u001b[0m \u001b[0mwrite_transaction\u001b[0m\u001b[0;34m(\u001b[0m\u001b[0mself\u001b[0m\u001b[0;34m,\u001b[0m \u001b[0munit_of_work\u001b[0m\u001b[0;34m,\u001b[0m \u001b[0;34m*\u001b[0m\u001b[0margs\u001b[0m\u001b[0;34m,\u001b[0m \u001b[0;34m**\u001b[0m\u001b[0mkwargs\u001b[0m\u001b[0;34m)\u001b[0m\u001b[0;34m:\u001b[0m\u001b[0;34m\u001b[0m\u001b[0;34m\u001b[0m\u001b[0m\n\u001b[1;32m    717\u001b[0m         \u001b[0mself\u001b[0m\u001b[0;34m.\u001b[0m\u001b[0m_assert_open\u001b[0m\u001b[0;34m(\u001b[0m\u001b[0;34m)\u001b[0m\u001b[0;34m\u001b[0m\u001b[0;34m\u001b[0m\u001b[0m\n\u001b[0;32m--> 718\u001b[0;31m         \u001b[0;32mreturn\u001b[0m \u001b[0mself\u001b[0m\u001b[0;34m.\u001b[0m\u001b[0m_run_transaction\u001b[0m\u001b[0;34m(\u001b[0m\u001b[0mWRITE_ACCESS\u001b[0m\u001b[0;34m,\u001b[0m \u001b[0munit_of_work\u001b[0m\u001b[0;34m,\u001b[0m \u001b[0;34m*\u001b[0m\u001b[0margs\u001b[0m\u001b[0;34m,\u001b[0m \u001b[0;34m**\u001b[0m\u001b[0mkwargs\u001b[0m\u001b[0;34m)\u001b[0m\u001b[0;34m\u001b[0m\u001b[0;34m\u001b[0m\u001b[0m\n\u001b[0m\u001b[1;32m    719\u001b[0m \u001b[0;34m\u001b[0m\u001b[0m\n\u001b[1;32m    720\u001b[0m     \u001b[0;32mdef\u001b[0m \u001b[0m_assert_open\u001b[0m\u001b[0;34m(\u001b[0m\u001b[0mself\u001b[0m\u001b[0;34m)\u001b[0m\u001b[0;34m:\u001b[0m\u001b[0;34m\u001b[0m\u001b[0;34m\u001b[0m\u001b[0m\n",
      "\u001b[0;32m~/anaconda3/lib/python3.7/site-packages/neo4j/__init__.py\u001b[0m in \u001b[0;36m_run_transaction\u001b[0;34m(self, access_mode, unit_of_work, *args, **kwargs)\u001b[0m\n\u001b[1;32m    680\u001b[0m                 \u001b[0mtx\u001b[0m \u001b[0;34m=\u001b[0m \u001b[0mself\u001b[0m\u001b[0;34m.\u001b[0m\u001b[0m_transaction\u001b[0m\u001b[0;34m\u001b[0m\u001b[0;34m\u001b[0m\u001b[0m\n\u001b[1;32m    681\u001b[0m                 \u001b[0;32mtry\u001b[0m\u001b[0;34m:\u001b[0m\u001b[0;34m\u001b[0m\u001b[0;34m\u001b[0m\u001b[0m\n\u001b[0;32m--> 682\u001b[0;31m                     \u001b[0mresult\u001b[0m \u001b[0;34m=\u001b[0m \u001b[0munit_of_work\u001b[0m\u001b[0;34m(\u001b[0m\u001b[0mtx\u001b[0m\u001b[0;34m,\u001b[0m \u001b[0;34m*\u001b[0m\u001b[0margs\u001b[0m\u001b[0;34m,\u001b[0m \u001b[0;34m**\u001b[0m\u001b[0mkwargs\u001b[0m\u001b[0;34m)\u001b[0m\u001b[0;34m\u001b[0m\u001b[0;34m\u001b[0m\u001b[0m\n\u001b[0m\u001b[1;32m    683\u001b[0m                 \u001b[0;32mexcept\u001b[0m \u001b[0mException\u001b[0m\u001b[0;34m:\u001b[0m\u001b[0;34m\u001b[0m\u001b[0;34m\u001b[0m\u001b[0m\n\u001b[1;32m    684\u001b[0m                     \u001b[0mtx\u001b[0m\u001b[0;34m.\u001b[0m\u001b[0msuccess\u001b[0m \u001b[0;34m=\u001b[0m \u001b[0;32mFalse\u001b[0m\u001b[0;34m\u001b[0m\u001b[0;34m\u001b[0m\u001b[0m\n",
      "\u001b[0;32m<ipython-input-33-162a8dae98da>\u001b[0m in \u001b[0;36m_add_height\u001b[0;34m(tx, block_id)\u001b[0m\n\u001b[1;32m     22\u001b[0m \u001b[0;34m\u001b[0m\u001b[0m\n\u001b[1;32m     23\u001b[0m \u001b[0;34m\u001b[0m\u001b[0m\n\u001b[0;32m---> 24\u001b[0;31m             \u001b[0mblock_id\u001b[0m \u001b[0;34m=\u001b[0m \u001b[0mresult\u001b[0m\u001b[0;34m.\u001b[0m\u001b[0msingle\u001b[0m\u001b[0;34m(\u001b[0m\u001b[0;34m)\u001b[0m\u001b[0;34m.\u001b[0m\u001b[0mvalue\u001b[0m\u001b[0;34m(\u001b[0m\u001b[0;34m)\u001b[0m\u001b[0;34m\u001b[0m\u001b[0;34m\u001b[0m\u001b[0m\n\u001b[0m\u001b[1;32m     25\u001b[0m             \u001b[0mprint\u001b[0m\u001b[0;34m(\u001b[0m\u001b[0mblock_id\u001b[0m\u001b[0;34m)\u001b[0m\u001b[0;34m\u001b[0m\u001b[0;34m\u001b[0m\u001b[0m\n\u001b[1;32m     26\u001b[0m         \u001b[0;32mreturn\u001b[0m \u001b[0mblock_id\u001b[0m\u001b[0;34m\u001b[0m\u001b[0;34m\u001b[0m\u001b[0m\n",
      "\u001b[0;31mAttributeError\u001b[0m: 'NoneType' object has no attribute 'value'"
     ]
    }
   ],
   "source": [
    "db.add_height(\"0000000000000a8813a0f9ef03bac3a0af5eaea8e19cc236bef9f6b3d1613ab7\")"
   ]
  },
  {
   "cell_type": "markdown",
   "metadata": {
    "jupyter": {
     "source_hidden": true
    }
   },
   "source": [
    "## Wierd blocks\n",
    "\n",
    "000000000003c97dd492e3ff63701e67281e59e2833c6fd560573f2765a08344\n",
    "\n",
    "0000000000032e60bc90a99b204a0090a249ec5e5905ce1f6f1a63e9f551cb75\n",
    "\n",
    "000000000000529b722600ddf20e51beee21498185da0dcea5b6759c45534c43\n",
    "\n",
    "0000000000005af500049df0a49ab6385a6b1474da48c8112c4a3d21cabacb38\n",
    "\n",
    "00000000000137c2eef9babdb62770a46fafb5f3972fffae96f576b79e1a9ff8\n",
    "\n",
    "000000000000f6ad4f0dcace87dd62a844fb75e62ef7d3f037a82fe0082ef72d\n",
    "\n",
    "000000000000273b6885ec863a47fe86cbeaf23d62efaf19cb9fcc8210afc013\n",
    "\n",
    "0000000000000cbf70ec51aa3810b837cf8e3edf01bfcc0ee28b12d4f24d96c2"
   ]
  },
  {
   "cell_type": "code",
   "execution_count": 47,
   "metadata": {
    "jupyter": {
     "source_hidden": true
    }
   },
   "outputs": [],
   "source": [
    "\n",
    "b_sp = bytes.fromhex(\"a9149a9f39b1ee13e3d324b18cd389d633a54dcfd5f587\")\n",
    "length = encode_varint(len(b_sp))\n",
    "stream = BytesIO(length+b_sp)\n",
    "x = Script.parse(stream)"
   ]
  },
  {
   "cell_type": "code",
   "execution_count": 48,
   "metadata": {
    "collapsed": true,
    "jupyter": {
     "outputs_hidden": true,
     "source_hidden": true
    }
   },
   "outputs": [
    {
     "data": {
      "text/plain": [
       "[169,\n",
       " b'\\x9a\\x9f9\\xb1\\xee\\x13\\xe3\\xd3$\\xb1\\x8c\\xd3\\x89\\xd63\\xa5M\\xcf\\xd5\\xf5',\n",
       " 135]"
      ]
     },
     "execution_count": 48,
     "metadata": {},
     "output_type": "execute_result"
    }
   ],
   "source": [
    "x.cmds"
   ]
  },
  {
   "cell_type": "code",
   "execution_count": 16,
   "metadata": {},
   "outputs": [
    {
     "name": "stdout",
     "output_type": "stream",
     "text": [
      " batch 89365,"
     ]
    },
    {
     "ename": "KeyboardInterrupt",
     "evalue": "",
     "output_type": "error",
     "traceback": [
      "\u001b[0;31m---------------------------------------------------------------------------\u001b[0m",
      "\u001b[0;31mKeyboardInterrupt\u001b[0m                         Traceback (most recent call last)",
      "\u001b[0;32m~/anaconda3/lib/python3.7/site-packages/neo4j/__init__.py\u001b[0m in \u001b[0;36m_run_transaction\u001b[0;34m(self, access_mode, unit_of_work, *args, **kwargs)\u001b[0m\n\u001b[1;32m    681\u001b[0m                 \u001b[0;32mtry\u001b[0m\u001b[0;34m:\u001b[0m\u001b[0;34m\u001b[0m\u001b[0;34m\u001b[0m\u001b[0m\n\u001b[0;32m--> 682\u001b[0;31m                     \u001b[0mresult\u001b[0m \u001b[0;34m=\u001b[0m \u001b[0munit_of_work\u001b[0m\u001b[0;34m(\u001b[0m\u001b[0mtx\u001b[0m\u001b[0;34m,\u001b[0m \u001b[0;34m*\u001b[0m\u001b[0margs\u001b[0m\u001b[0;34m,\u001b[0m \u001b[0;34m**\u001b[0m\u001b[0mkwargs\u001b[0m\u001b[0;34m)\u001b[0m\u001b[0;34m\u001b[0m\u001b[0;34m\u001b[0m\u001b[0m\n\u001b[0m\u001b[1;32m    683\u001b[0m                 \u001b[0;32mexcept\u001b[0m \u001b[0mException\u001b[0m\u001b[0;34m:\u001b[0m\u001b[0;34m\u001b[0m\u001b[0;34m\u001b[0m\u001b[0m\n",
      "\u001b[0;32m<ipython-input-14-52c64aad2836>\u001b[0m in \u001b[0;36m_create_addresses\u001b[0;34m(tx, batch, testnet)\u001b[0m\n\u001b[1;32m     54\u001b[0m             \u001b[0maddresses\u001b[0m \u001b[0;34m=\u001b[0m \u001b[0;34m[\u001b[0m\u001b[0;34m]\u001b[0m\u001b[0;34m\u001b[0m\u001b[0;34m\u001b[0m\u001b[0m\n\u001b[0;32m---> 55\u001b[0;31m             \u001b[0;32mfor\u001b[0m \u001b[0moutput\u001b[0m \u001b[0;32min\u001b[0m \u001b[0mresult\u001b[0m\u001b[0;34m.\u001b[0m\u001b[0mdata\u001b[0m\u001b[0;34m(\u001b[0m\u001b[0;34m)\u001b[0m\u001b[0;34m:\u001b[0m\u001b[0;34m\u001b[0m\u001b[0;34m\u001b[0m\u001b[0m\n\u001b[0m\u001b[1;32m     56\u001b[0m                 \u001b[0maddress\u001b[0m \u001b[0;34m=\u001b[0m \u001b[0;32mNone\u001b[0m\u001b[0;34m\u001b[0m\u001b[0;34m\u001b[0m\u001b[0m\n",
      "\u001b[0;32m~/anaconda3/lib/python3.7/site-packages/neo4j/__init__.py\u001b[0m in \u001b[0;36mdata\u001b[0;34m(self, *items)\u001b[0m\n\u001b[1;32m   1052\u001b[0m         \"\"\"\n\u001b[0;32m-> 1053\u001b[0;31m         \u001b[0;32mreturn\u001b[0m \u001b[0;34m[\u001b[0m\u001b[0mrecord\u001b[0m\u001b[0;34m.\u001b[0m\u001b[0mdata\u001b[0m\u001b[0;34m(\u001b[0m\u001b[0;34m*\u001b[0m\u001b[0mitems\u001b[0m\u001b[0;34m)\u001b[0m \u001b[0;32mfor\u001b[0m \u001b[0mrecord\u001b[0m \u001b[0;32min\u001b[0m \u001b[0mself\u001b[0m\u001b[0;34m.\u001b[0m\u001b[0mrecords\u001b[0m\u001b[0;34m(\u001b[0m\u001b[0;34m)\u001b[0m\u001b[0;34m]\u001b[0m\u001b[0;34m\u001b[0m\u001b[0;34m\u001b[0m\u001b[0m\n\u001b[0m\u001b[1;32m   1054\u001b[0m \u001b[0;34m\u001b[0m\u001b[0m\n",
      "\u001b[0;32m~/anaconda3/lib/python3.7/site-packages/neo4j/__init__.py\u001b[0m in \u001b[0;36m<listcomp>\u001b[0;34m(.0)\u001b[0m\n\u001b[1;32m   1052\u001b[0m         \"\"\"\n\u001b[0;32m-> 1053\u001b[0;31m         \u001b[0;32mreturn\u001b[0m \u001b[0;34m[\u001b[0m\u001b[0mrecord\u001b[0m\u001b[0;34m.\u001b[0m\u001b[0mdata\u001b[0m\u001b[0;34m(\u001b[0m\u001b[0;34m*\u001b[0m\u001b[0mitems\u001b[0m\u001b[0;34m)\u001b[0m \u001b[0;32mfor\u001b[0m \u001b[0mrecord\u001b[0m \u001b[0;32min\u001b[0m \u001b[0mself\u001b[0m\u001b[0;34m.\u001b[0m\u001b[0mrecords\u001b[0m\u001b[0;34m(\u001b[0m\u001b[0;34m)\u001b[0m\u001b[0;34m]\u001b[0m\u001b[0;34m\u001b[0m\u001b[0;34m\u001b[0m\u001b[0m\n\u001b[0m\u001b[1;32m   1054\u001b[0m \u001b[0;34m\u001b[0m\u001b[0m\n",
      "\u001b[0;32m~/anaconda3/lib/python3.7/site-packages/neo4j/__init__.py\u001b[0m in \u001b[0;36mrecords\u001b[0;34m(self)\u001b[0m\n\u001b[1;32m    951\u001b[0m         \u001b[0;32mwhile\u001b[0m \u001b[0mattached\u001b[0m\u001b[0;34m(\u001b[0m\u001b[0;34m)\u001b[0m\u001b[0;34m:\u001b[0m\u001b[0;34m\u001b[0m\u001b[0;34m\u001b[0m\u001b[0m\n\u001b[0;32m--> 952\u001b[0;31m             \u001b[0mself\u001b[0m\u001b[0;34m.\u001b[0m\u001b[0m_session\u001b[0m\u001b[0;34m.\u001b[0m\u001b[0mfetch\u001b[0m\u001b[0;34m(\u001b[0m\u001b[0;34m)\u001b[0m\u001b[0;34m\u001b[0m\u001b[0;34m\u001b[0m\u001b[0m\n\u001b[0m\u001b[1;32m    953\u001b[0m             \u001b[0;32mwhile\u001b[0m \u001b[0mrecords\u001b[0m\u001b[0;34m:\u001b[0m\u001b[0;34m\u001b[0m\u001b[0;34m\u001b[0m\u001b[0m\n",
      "\u001b[0;32m~/anaconda3/lib/python3.7/site-packages/neo4j/__init__.py\u001b[0m in \u001b[0;36mfetch\u001b[0;34m(self)\u001b[0m\n\u001b[1;32m    526\u001b[0m             \u001b[0;32mtry\u001b[0m\u001b[0;34m:\u001b[0m\u001b[0;34m\u001b[0m\u001b[0;34m\u001b[0m\u001b[0m\n\u001b[0;32m--> 527\u001b[0;31m                 \u001b[0mdetail_count\u001b[0m\u001b[0;34m,\u001b[0m \u001b[0m_\u001b[0m \u001b[0;34m=\u001b[0m \u001b[0mself\u001b[0m\u001b[0;34m.\u001b[0m\u001b[0m_connection\u001b[0m\u001b[0;34m.\u001b[0m\u001b[0mfetch\u001b[0m\u001b[0;34m(\u001b[0m\u001b[0;34m)\u001b[0m\u001b[0;34m\u001b[0m\u001b[0;34m\u001b[0m\u001b[0m\n\u001b[0m\u001b[1;32m    528\u001b[0m             \u001b[0;32mexcept\u001b[0m \u001b[0mConnectionExpired\u001b[0m \u001b[0;32mas\u001b[0m \u001b[0merror\u001b[0m\u001b[0;34m:\u001b[0m\u001b[0;34m\u001b[0m\u001b[0;34m\u001b[0m\u001b[0m\n",
      "\u001b[0;32m~/anaconda3/lib/python3.7/site-packages/neobolt/direct.py\u001b[0m in \u001b[0;36mfetch\u001b[0;34m(self)\u001b[0m\n\u001b[1;32m    418\u001b[0m         \u001b[0;32mtry\u001b[0m\u001b[0;34m:\u001b[0m\u001b[0;34m\u001b[0m\u001b[0;34m\u001b[0m\u001b[0m\n\u001b[0;32m--> 419\u001b[0;31m             \u001b[0;32mreturn\u001b[0m \u001b[0mself\u001b[0m\u001b[0;34m.\u001b[0m\u001b[0m_fetch\u001b[0m\u001b[0;34m(\u001b[0m\u001b[0;34m)\u001b[0m\u001b[0;34m\u001b[0m\u001b[0;34m\u001b[0m\u001b[0m\n\u001b[0m\u001b[1;32m    420\u001b[0m         \u001b[0;32mexcept\u001b[0m \u001b[0mself\u001b[0m\u001b[0;34m.\u001b[0m\u001b[0merror_handler\u001b[0m\u001b[0;34m.\u001b[0m\u001b[0mknown_errors\u001b[0m \u001b[0;32mas\u001b[0m \u001b[0merror\u001b[0m\u001b[0;34m:\u001b[0m\u001b[0;34m\u001b[0m\u001b[0;34m\u001b[0m\u001b[0m\n",
      "\u001b[0;32m~/anaconda3/lib/python3.7/site-packages/neobolt/direct.py\u001b[0m in \u001b[0;36m_fetch\u001b[0;34m(self)\u001b[0m\n\u001b[1;32m    439\u001b[0m \u001b[0;34m\u001b[0m\u001b[0m\n\u001b[0;32m--> 440\u001b[0;31m         \u001b[0mself\u001b[0m\u001b[0;34m.\u001b[0m\u001b[0m_receive\u001b[0m\u001b[0;34m(\u001b[0m\u001b[0;34m)\u001b[0m\u001b[0;34m\u001b[0m\u001b[0;34m\u001b[0m\u001b[0m\n\u001b[0m\u001b[1;32m    441\u001b[0m \u001b[0;34m\u001b[0m\u001b[0m\n",
      "\u001b[0;32m~/anaconda3/lib/python3.7/site-packages/neobolt/direct.py\u001b[0m in \u001b[0;36m_receive\u001b[0;34m(self)\u001b[0m\n\u001b[1;32m    488\u001b[0m         \u001b[0;32melif\u001b[0m \u001b[0mreceived\u001b[0m \u001b[0;34m==\u001b[0m \u001b[0;34m-\u001b[0m\u001b[0;36m1\u001b[0m\u001b[0;34m:\u001b[0m\u001b[0;34m\u001b[0m\u001b[0;34m\u001b[0m\u001b[0m\n\u001b[0;32m--> 489\u001b[0;31m             \u001b[0;32mraise\u001b[0m \u001b[0mKeyboardInterrupt\u001b[0m\u001b[0;34m(\u001b[0m\u001b[0;34m)\u001b[0m\u001b[0;34m\u001b[0m\u001b[0;34m\u001b[0m\u001b[0m\n\u001b[0m\u001b[1;32m    490\u001b[0m \u001b[0;34m\u001b[0m\u001b[0m\n",
      "\u001b[0;31mKeyboardInterrupt\u001b[0m: ",
      "\nDuring handling of the above exception, another exception occurred:\n",
      "\u001b[0;31mKeyboardInterrupt\u001b[0m                         Traceback (most recent call last)",
      "\u001b[0;32m<ipython-input-16-9e1ac7c0dd3c>\u001b[0m in \u001b[0;36m<module>\u001b[0;34m\u001b[0m\n\u001b[0;32m----> 1\u001b[0;31m \u001b[0mdb\u001b[0m\u001b[0;34m.\u001b[0m\u001b[0mcreate_addresses\u001b[0m\u001b[0;34m(\u001b[0m\u001b[0;34m)\u001b[0m\u001b[0;34m\u001b[0m\u001b[0;34m\u001b[0m\u001b[0m\n\u001b[0m",
      "\u001b[0;32m<ipython-input-14-52c64aad2836>\u001b[0m in \u001b[0;36mcreate_addresses\u001b[0;34m(self)\u001b[0m\n\u001b[1;32m    120\u001b[0m         \"\"\"\n\u001b[1;32m    121\u001b[0m         \u001b[0;32mfor\u001b[0m \u001b[0mbatch\u001b[0m \u001b[0;32min\u001b[0m \u001b[0mrange\u001b[0m\u001b[0;34m(\u001b[0m\u001b[0;36m89365\u001b[0m\u001b[0;34m,\u001b[0m\u001b[0;36m175000\u001b[0m\u001b[0;34m)\u001b[0m\u001b[0;34m:\u001b[0m\u001b[0;34m\u001b[0m\u001b[0;34m\u001b[0m\u001b[0m\n\u001b[0;32m--> 122\u001b[0;31m             \u001b[0mself\u001b[0m\u001b[0;34m.\u001b[0m\u001b[0mcreate_address_batch\u001b[0m\u001b[0;34m(\u001b[0m\u001b[0mbatch\u001b[0m\u001b[0;34m)\u001b[0m\u001b[0;34m\u001b[0m\u001b[0;34m\u001b[0m\u001b[0m\n\u001b[0m\u001b[1;32m    123\u001b[0m             \u001b[0;31m#sleep(0.2)\u001b[0m\u001b[0;34m\u001b[0m\u001b[0;34m\u001b[0m\u001b[0;34m\u001b[0m\u001b[0m\n\u001b[1;32m    124\u001b[0m \u001b[0;34m\u001b[0m\u001b[0m\n",
      "\u001b[0;32m<ipython-input-14-52c64aad2836>\u001b[0m in \u001b[0;36mcreate_address_batch\u001b[0;34m(self, batch)\u001b[0m\n\u001b[1;32m    102\u001b[0m     \u001b[0;32mdef\u001b[0m \u001b[0mcreate_address_batch\u001b[0m\u001b[0;34m(\u001b[0m\u001b[0mself\u001b[0m\u001b[0;34m,\u001b[0m\u001b[0mbatch\u001b[0m\u001b[0;34m)\u001b[0m\u001b[0;34m:\u001b[0m\u001b[0;34m\u001b[0m\u001b[0;34m\u001b[0m\u001b[0m\n\u001b[1;32m    103\u001b[0m         \u001b[0;32mwith\u001b[0m \u001b[0mself\u001b[0m\u001b[0;34m.\u001b[0m\u001b[0m_driver\u001b[0m\u001b[0;34m.\u001b[0m\u001b[0msession\u001b[0m\u001b[0;34m(\u001b[0m\u001b[0;34m)\u001b[0m \u001b[0;32mas\u001b[0m \u001b[0msession\u001b[0m\u001b[0;34m:\u001b[0m\u001b[0;34m\u001b[0m\u001b[0;34m\u001b[0m\u001b[0m\n\u001b[0;32m--> 104\u001b[0;31m             \u001b[0mresult\u001b[0m \u001b[0;34m=\u001b[0m \u001b[0msession\u001b[0m\u001b[0;34m.\u001b[0m\u001b[0mwrite_transaction\u001b[0m\u001b[0;34m(\u001b[0m\u001b[0mself\u001b[0m\u001b[0;34m.\u001b[0m\u001b[0m_create_addresses\u001b[0m\u001b[0;34m,\u001b[0m\u001b[0mbatch\u001b[0m\u001b[0;34m)\u001b[0m\u001b[0;34m\u001b[0m\u001b[0;34m\u001b[0m\u001b[0m\n\u001b[0m\u001b[1;32m    105\u001b[0m             \u001b[0;31m#print(result)\u001b[0m\u001b[0;34m\u001b[0m\u001b[0;34m\u001b[0m\u001b[0;34m\u001b[0m\u001b[0m\n\u001b[1;32m    106\u001b[0m             \u001b[0;32mreturn\u001b[0m \u001b[0mresult\u001b[0m\u001b[0;34m\u001b[0m\u001b[0;34m\u001b[0m\u001b[0m\n",
      "\u001b[0;32m~/anaconda3/lib/python3.7/site-packages/neo4j/__init__.py\u001b[0m in \u001b[0;36mwrite_transaction\u001b[0;34m(self, unit_of_work, *args, **kwargs)\u001b[0m\n\u001b[1;32m    716\u001b[0m     \u001b[0;32mdef\u001b[0m \u001b[0mwrite_transaction\u001b[0m\u001b[0;34m(\u001b[0m\u001b[0mself\u001b[0m\u001b[0;34m,\u001b[0m \u001b[0munit_of_work\u001b[0m\u001b[0;34m,\u001b[0m \u001b[0;34m*\u001b[0m\u001b[0margs\u001b[0m\u001b[0;34m,\u001b[0m \u001b[0;34m**\u001b[0m\u001b[0mkwargs\u001b[0m\u001b[0;34m)\u001b[0m\u001b[0;34m:\u001b[0m\u001b[0;34m\u001b[0m\u001b[0;34m\u001b[0m\u001b[0m\n\u001b[1;32m    717\u001b[0m         \u001b[0mself\u001b[0m\u001b[0;34m.\u001b[0m\u001b[0m_assert_open\u001b[0m\u001b[0;34m(\u001b[0m\u001b[0;34m)\u001b[0m\u001b[0;34m\u001b[0m\u001b[0;34m\u001b[0m\u001b[0m\n\u001b[0;32m--> 718\u001b[0;31m         \u001b[0;32mreturn\u001b[0m \u001b[0mself\u001b[0m\u001b[0;34m.\u001b[0m\u001b[0m_run_transaction\u001b[0m\u001b[0;34m(\u001b[0m\u001b[0mWRITE_ACCESS\u001b[0m\u001b[0;34m,\u001b[0m \u001b[0munit_of_work\u001b[0m\u001b[0;34m,\u001b[0m \u001b[0;34m*\u001b[0m\u001b[0margs\u001b[0m\u001b[0;34m,\u001b[0m \u001b[0;34m**\u001b[0m\u001b[0mkwargs\u001b[0m\u001b[0;34m)\u001b[0m\u001b[0;34m\u001b[0m\u001b[0;34m\u001b[0m\u001b[0m\n\u001b[0m\u001b[1;32m    719\u001b[0m \u001b[0;34m\u001b[0m\u001b[0m\n\u001b[1;32m    720\u001b[0m     \u001b[0;32mdef\u001b[0m \u001b[0m_assert_open\u001b[0m\u001b[0;34m(\u001b[0m\u001b[0mself\u001b[0m\u001b[0;34m)\u001b[0m\u001b[0;34m:\u001b[0m\u001b[0;34m\u001b[0m\u001b[0;34m\u001b[0m\u001b[0m\n",
      "\u001b[0;32m~/anaconda3/lib/python3.7/site-packages/neo4j/__init__.py\u001b[0m in \u001b[0;36m_run_transaction\u001b[0;34m(self, access_mode, unit_of_work, *args, **kwargs)\u001b[0m\n\u001b[1;32m    688\u001b[0m                         \u001b[0mtx\u001b[0m\u001b[0;34m.\u001b[0m\u001b[0msuccess\u001b[0m \u001b[0;34m=\u001b[0m \u001b[0;32mTrue\u001b[0m\u001b[0;34m\u001b[0m\u001b[0;34m\u001b[0m\u001b[0m\n\u001b[1;32m    689\u001b[0m                 \u001b[0;32mfinally\u001b[0m\u001b[0;34m:\u001b[0m\u001b[0;34m\u001b[0m\u001b[0;34m\u001b[0m\u001b[0m\n\u001b[0;32m--> 690\u001b[0;31m                     \u001b[0mtx\u001b[0m\u001b[0;34m.\u001b[0m\u001b[0mclose\u001b[0m\u001b[0;34m(\u001b[0m\u001b[0;34m)\u001b[0m\u001b[0;34m\u001b[0m\u001b[0;34m\u001b[0m\u001b[0m\n\u001b[0m\u001b[1;32m    691\u001b[0m             \u001b[0;32mexcept\u001b[0m \u001b[0;34m(\u001b[0m\u001b[0mServiceUnavailable\u001b[0m\u001b[0;34m,\u001b[0m \u001b[0mSessionExpired\u001b[0m\u001b[0;34m,\u001b[0m \u001b[0mConnectionExpired\u001b[0m\u001b[0;34m)\u001b[0m \u001b[0;32mas\u001b[0m \u001b[0merror\u001b[0m\u001b[0;34m:\u001b[0m\u001b[0;34m\u001b[0m\u001b[0;34m\u001b[0m\u001b[0m\n\u001b[1;32m    692\u001b[0m                 \u001b[0merrors\u001b[0m\u001b[0;34m.\u001b[0m\u001b[0mappend\u001b[0m\u001b[0;34m(\u001b[0m\u001b[0merror\u001b[0m\u001b[0;34m)\u001b[0m\u001b[0;34m\u001b[0m\u001b[0;34m\u001b[0m\u001b[0m\n",
      "\u001b[0;32m~/anaconda3/lib/python3.7/site-packages/neo4j/__init__.py\u001b[0m in \u001b[0;36mclose\u001b[0;34m(self)\u001b[0m\n\u001b[1;32m    830\u001b[0m         \u001b[0mself\u001b[0m\u001b[0;34m.\u001b[0m\u001b[0m_assert_open\u001b[0m\u001b[0;34m(\u001b[0m\u001b[0;34m)\u001b[0m\u001b[0;34m\u001b[0m\u001b[0;34m\u001b[0m\u001b[0m\n\u001b[1;32m    831\u001b[0m         \u001b[0;32mtry\u001b[0m\u001b[0;34m:\u001b[0m\u001b[0;34m\u001b[0m\u001b[0;34m\u001b[0m\u001b[0m\n\u001b[0;32m--> 832\u001b[0;31m             \u001b[0mself\u001b[0m\u001b[0;34m.\u001b[0m\u001b[0msync\u001b[0m\u001b[0;34m(\u001b[0m\u001b[0;34m)\u001b[0m\u001b[0;34m\u001b[0m\u001b[0;34m\u001b[0m\u001b[0m\n\u001b[0m\u001b[1;32m    833\u001b[0m         \u001b[0;32mexcept\u001b[0m \u001b[0mCypherError\u001b[0m\u001b[0;34m:\u001b[0m\u001b[0;34m\u001b[0m\u001b[0;34m\u001b[0m\u001b[0m\n\u001b[1;32m    834\u001b[0m             \u001b[0mself\u001b[0m\u001b[0;34m.\u001b[0m\u001b[0msuccess\u001b[0m \u001b[0;34m=\u001b[0m \u001b[0;32mFalse\u001b[0m\u001b[0;34m\u001b[0m\u001b[0;34m\u001b[0m\u001b[0m\n",
      "\u001b[0;32m~/anaconda3/lib/python3.7/site-packages/neo4j/__init__.py\u001b[0m in \u001b[0;36msync\u001b[0;34m(self)\u001b[0m\n\u001b[1;32m    795\u001b[0m         \"\"\"\n\u001b[1;32m    796\u001b[0m         \u001b[0mself\u001b[0m\u001b[0;34m.\u001b[0m\u001b[0m_assert_open\u001b[0m\u001b[0;34m(\u001b[0m\u001b[0;34m)\u001b[0m\u001b[0;34m\u001b[0m\u001b[0;34m\u001b[0m\u001b[0m\n\u001b[0;32m--> 797\u001b[0;31m         \u001b[0mself\u001b[0m\u001b[0;34m.\u001b[0m\u001b[0msession\u001b[0m\u001b[0;34m.\u001b[0m\u001b[0msync\u001b[0m\u001b[0;34m(\u001b[0m\u001b[0;34m)\u001b[0m\u001b[0;34m\u001b[0m\u001b[0;34m\u001b[0m\u001b[0m\n\u001b[0m\u001b[1;32m    798\u001b[0m \u001b[0;34m\u001b[0m\u001b[0m\n\u001b[1;32m    799\u001b[0m     \u001b[0;32mdef\u001b[0m \u001b[0mcommit\u001b[0m\u001b[0;34m(\u001b[0m\u001b[0mself\u001b[0m\u001b[0;34m)\u001b[0m\u001b[0;34m:\u001b[0m\u001b[0;34m\u001b[0m\u001b[0;34m\u001b[0m\u001b[0m\n",
      "\u001b[0;32m~/anaconda3/lib/python3.7/site-packages/neo4j/__init__.py\u001b[0m in \u001b[0;36msync\u001b[0;34m(self)\u001b[0m\n\u001b[1;32m    540\u001b[0m         \u001b[0;32mif\u001b[0m \u001b[0mself\u001b[0m\u001b[0;34m.\u001b[0m\u001b[0m_connection\u001b[0m\u001b[0;34m:\u001b[0m\u001b[0;34m\u001b[0m\u001b[0;34m\u001b[0m\u001b[0m\n\u001b[1;32m    541\u001b[0m             \u001b[0;32mtry\u001b[0m\u001b[0;34m:\u001b[0m\u001b[0;34m\u001b[0m\u001b[0;34m\u001b[0m\u001b[0m\n\u001b[0;32m--> 542\u001b[0;31m                 \u001b[0mdetail_count\u001b[0m\u001b[0;34m,\u001b[0m \u001b[0m_\u001b[0m \u001b[0;34m=\u001b[0m \u001b[0mself\u001b[0m\u001b[0;34m.\u001b[0m\u001b[0m_connection\u001b[0m\u001b[0;34m.\u001b[0m\u001b[0msync\u001b[0m\u001b[0;34m(\u001b[0m\u001b[0;34m)\u001b[0m\u001b[0;34m\u001b[0m\u001b[0;34m\u001b[0m\u001b[0m\n\u001b[0m\u001b[1;32m    543\u001b[0m             \u001b[0;32mexcept\u001b[0m \u001b[0mConnectionExpired\u001b[0m \u001b[0;32mas\u001b[0m \u001b[0merror\u001b[0m\u001b[0;34m:\u001b[0m\u001b[0;34m\u001b[0m\u001b[0;34m\u001b[0m\u001b[0m\n\u001b[1;32m    544\u001b[0m                 \u001b[0;32mraise\u001b[0m \u001b[0mSessionExpired\u001b[0m\u001b[0;34m(\u001b[0m\u001b[0;34m*\u001b[0m\u001b[0merror\u001b[0m\u001b[0;34m.\u001b[0m\u001b[0margs\u001b[0m\u001b[0;34m)\u001b[0m\u001b[0;34m\u001b[0m\u001b[0;34m\u001b[0m\u001b[0m\n",
      "\u001b[0;32m~/anaconda3/lib/python3.7/site-packages/neobolt/direct.py\u001b[0m in \u001b[0;36msync\u001b[0;34m(self)\u001b[0m\n\u001b[1;32m    525\u001b[0m             \u001b[0mresponse\u001b[0m \u001b[0;34m=\u001b[0m \u001b[0mself\u001b[0m\u001b[0;34m.\u001b[0m\u001b[0mresponses\u001b[0m\u001b[0;34m[\u001b[0m\u001b[0;36m0\u001b[0m\u001b[0;34m]\u001b[0m\u001b[0;34m\u001b[0m\u001b[0;34m\u001b[0m\u001b[0m\n\u001b[1;32m    526\u001b[0m             \u001b[0;32mwhile\u001b[0m \u001b[0;32mnot\u001b[0m \u001b[0mresponse\u001b[0m\u001b[0;34m.\u001b[0m\u001b[0mcomplete\u001b[0m\u001b[0;34m:\u001b[0m\u001b[0;34m\u001b[0m\u001b[0;34m\u001b[0m\u001b[0m\n\u001b[0;32m--> 527\u001b[0;31m                 \u001b[0mdetail_delta\u001b[0m\u001b[0;34m,\u001b[0m \u001b[0msummary_delta\u001b[0m \u001b[0;34m=\u001b[0m \u001b[0mself\u001b[0m\u001b[0;34m.\u001b[0m\u001b[0mfetch\u001b[0m\u001b[0;34m(\u001b[0m\u001b[0;34m)\u001b[0m\u001b[0;34m\u001b[0m\u001b[0;34m\u001b[0m\u001b[0m\n\u001b[0m\u001b[1;32m    528\u001b[0m                 \u001b[0mdetail_count\u001b[0m \u001b[0;34m+=\u001b[0m \u001b[0mdetail_delta\u001b[0m\u001b[0;34m\u001b[0m\u001b[0;34m\u001b[0m\u001b[0m\n\u001b[1;32m    529\u001b[0m                 \u001b[0msummary_count\u001b[0m \u001b[0;34m+=\u001b[0m \u001b[0msummary_delta\u001b[0m\u001b[0;34m\u001b[0m\u001b[0;34m\u001b[0m\u001b[0m\n",
      "\u001b[0;32m~/anaconda3/lib/python3.7/site-packages/neobolt/direct.py\u001b[0m in \u001b[0;36mfetch\u001b[0;34m(self)\u001b[0m\n\u001b[1;32m    417\u001b[0m     \u001b[0;32mdef\u001b[0m \u001b[0mfetch\u001b[0m\u001b[0;34m(\u001b[0m\u001b[0mself\u001b[0m\u001b[0;34m)\u001b[0m\u001b[0;34m:\u001b[0m\u001b[0;34m\u001b[0m\u001b[0;34m\u001b[0m\u001b[0m\n\u001b[1;32m    418\u001b[0m         \u001b[0;32mtry\u001b[0m\u001b[0;34m:\u001b[0m\u001b[0;34m\u001b[0m\u001b[0;34m\u001b[0m\u001b[0m\n\u001b[0;32m--> 419\u001b[0;31m             \u001b[0;32mreturn\u001b[0m \u001b[0mself\u001b[0m\u001b[0;34m.\u001b[0m\u001b[0m_fetch\u001b[0m\u001b[0;34m(\u001b[0m\u001b[0;34m)\u001b[0m\u001b[0;34m\u001b[0m\u001b[0;34m\u001b[0m\u001b[0m\n\u001b[0m\u001b[1;32m    420\u001b[0m         \u001b[0;32mexcept\u001b[0m \u001b[0mself\u001b[0m\u001b[0;34m.\u001b[0m\u001b[0merror_handler\u001b[0m\u001b[0;34m.\u001b[0m\u001b[0mknown_errors\u001b[0m \u001b[0;32mas\u001b[0m \u001b[0merror\u001b[0m\u001b[0;34m:\u001b[0m\u001b[0;34m\u001b[0m\u001b[0;34m\u001b[0m\u001b[0m\n\u001b[1;32m    421\u001b[0m             \u001b[0mself\u001b[0m\u001b[0;34m.\u001b[0m\u001b[0merror_handler\u001b[0m\u001b[0;34m.\u001b[0m\u001b[0mhandle\u001b[0m\u001b[0;34m(\u001b[0m\u001b[0merror\u001b[0m\u001b[0;34m,\u001b[0m \u001b[0mself\u001b[0m\u001b[0;34m.\u001b[0m\u001b[0munresolved_address\u001b[0m\u001b[0;34m)\u001b[0m\u001b[0;34m\u001b[0m\u001b[0;34m\u001b[0m\u001b[0m\n",
      "\u001b[0;32m~/anaconda3/lib/python3.7/site-packages/neobolt/direct.py\u001b[0m in \u001b[0;36m_fetch\u001b[0;34m(self)\u001b[0m\n\u001b[1;32m    438\u001b[0m             \u001b[0;32mreturn\u001b[0m \u001b[0;36m0\u001b[0m\u001b[0;34m,\u001b[0m \u001b[0;36m0\u001b[0m\u001b[0;34m\u001b[0m\u001b[0;34m\u001b[0m\u001b[0m\n\u001b[1;32m    439\u001b[0m \u001b[0;34m\u001b[0m\u001b[0m\n\u001b[0;32m--> 440\u001b[0;31m         \u001b[0mself\u001b[0m\u001b[0;34m.\u001b[0m\u001b[0m_receive\u001b[0m\u001b[0;34m(\u001b[0m\u001b[0;34m)\u001b[0m\u001b[0;34m\u001b[0m\u001b[0;34m\u001b[0m\u001b[0m\n\u001b[0m\u001b[1;32m    441\u001b[0m \u001b[0;34m\u001b[0m\u001b[0m\n\u001b[1;32m    442\u001b[0m         \u001b[0mdetails\u001b[0m\u001b[0;34m,\u001b[0m \u001b[0msummary_signature\u001b[0m\u001b[0;34m,\u001b[0m \u001b[0msummary_metadata\u001b[0m \u001b[0;34m=\u001b[0m \u001b[0mself\u001b[0m\u001b[0;34m.\u001b[0m\u001b[0m_unpack\u001b[0m\u001b[0;34m(\u001b[0m\u001b[0;34m)\u001b[0m\u001b[0;34m\u001b[0m\u001b[0;34m\u001b[0m\u001b[0m\n",
      "\u001b[0;32m~/anaconda3/lib/python3.7/site-packages/neobolt/direct.py\u001b[0m in \u001b[0;36m_receive\u001b[0;34m(self)\u001b[0m\n\u001b[1;32m    487\u001b[0m             \u001b[0;32mraise\u001b[0m \u001b[0mself\u001b[0m\u001b[0;34m.\u001b[0m\u001b[0mError\u001b[0m\u001b[0;34m(\u001b[0m\u001b[0mmessage\u001b[0m\u001b[0;34m)\u001b[0m\u001b[0;34m\u001b[0m\u001b[0;34m\u001b[0m\u001b[0m\n\u001b[1;32m    488\u001b[0m         \u001b[0;32melif\u001b[0m \u001b[0mreceived\u001b[0m \u001b[0;34m==\u001b[0m \u001b[0;34m-\u001b[0m\u001b[0;36m1\u001b[0m\u001b[0;34m:\u001b[0m\u001b[0;34m\u001b[0m\u001b[0;34m\u001b[0m\u001b[0m\n\u001b[0;32m--> 489\u001b[0;31m             \u001b[0;32mraise\u001b[0m \u001b[0mKeyboardInterrupt\u001b[0m\u001b[0;34m(\u001b[0m\u001b[0;34m)\u001b[0m\u001b[0;34m\u001b[0m\u001b[0;34m\u001b[0m\u001b[0m\n\u001b[0m\u001b[1;32m    490\u001b[0m \u001b[0;34m\u001b[0m\u001b[0m\n\u001b[1;32m    491\u001b[0m     \u001b[0;32mdef\u001b[0m \u001b[0m_unpack\u001b[0m\u001b[0;34m(\u001b[0m\u001b[0mself\u001b[0m\u001b[0;34m)\u001b[0m\u001b[0;34m:\u001b[0m\u001b[0;34m\u001b[0m\u001b[0;34m\u001b[0m\u001b[0m\n",
      "\u001b[0;31mKeyboardInterrupt\u001b[0m: "
     ]
    }
   ],
   "source": [
    "db.create_addresses()"
   ]
  },
  {
   "cell_type": "code",
   "execution_count": null,
   "metadata": {},
   "outputs": [],
   "source": [
    "MATCH (b:block {height:893651})-[:COINBASE]->(:transaction)-[:CREATES]->(:output)<-[:SPENDS]-(t:transaction) RETURN t"
   ]
  }
 ],
 "metadata": {
  "kernelspec": {
   "display_name": "Python 3",
   "language": "python",
   "name": "python3"
  },
  "language_info": {
   "codemirror_mode": {
    "name": "ipython",
    "version": 3
   },
   "file_extension": ".py",
   "mimetype": "text/x-python",
   "name": "python",
   "nbconvert_exporter": "python",
   "pygments_lexer": "ipython3",
   "version": "3.7.7"
  }
 },
 "nbformat": 4,
 "nbformat_minor": 4
}

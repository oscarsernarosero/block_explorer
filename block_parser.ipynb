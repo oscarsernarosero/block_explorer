{
 "cells": [
  {
   "cell_type": "code",
   "execution_count": 1,
   "metadata": {},
   "outputs": [],
   "source": [
    "import binascii\n",
    "import sys\n",
    "import traceback\n",
    "from block import Block\n",
    "from helper import read_varint, hash256\n",
    "from tx import Tx\n",
    "import subprocess\n",
    "import os\n",
    "from time import sleep\n",
    "from subprocess import Popen, PIPE\n",
    "import logging\n",
    "#logging.basicConfig(filename='parsing.log',level=logging.DEBUG,format='%(asctime)s %(message)s')"
   ]
  },
  {
   "cell_type": "code",
   "execution_count": 2,
   "metadata": {},
   "outputs": [],
   "source": [
    "from neo4j import GraphDatabase"
   ]
  },
  {
   "cell_type": "code",
   "execution_count": 3,
   "metadata": {},
   "outputs": [],
   "source": [
    "from logging.handlers import RotatingFileHandler\n",
    "\n",
    "log_formatter = logging.Formatter('%(asctime)s %(levelname)s %(funcName)s(%(lineno)d) %(message)s')\n",
    "\n",
    "logFile = 'log/parsing.log'\n",
    "\n",
    "my_handler = RotatingFileHandler(logFile, mode='a', maxBytes=10*1024*1024,backupCount=6, encoding=None, delay=0)\n",
    "my_handler.setFormatter(log_formatter)\n",
    "my_handler.setLevel(logging.INFO)\n",
    "\n",
    "app_log = logging.getLogger('root')\n",
    "app_log.setLevel(logging.INFO)\n",
    "\n",
    "app_log.addHandler(my_handler)"
   ]
  },
  {
   "cell_type": "code",
   "execution_count": 17,
   "metadata": {},
   "outputs": [],
   "source": [
    "class BlockChainDB(object):\n",
    "\n",
    "    def __init__(self, uri, user, password):\n",
    "        self._driver = GraphDatabase.driver(uri, auth=(user, password), encrypted=False)#REVISE LATER FOR ENCRYPTION!!!\n",
    "\n",
    "    def close(self):\n",
    "        self._driver.close()\n",
    "        \n",
    "        \n",
    "    @staticmethod\n",
    "    def _new_address(tx, address,i,change_addr):\n",
    "        if change_addr: addr_type = \"change\"\n",
    "        else: addr_type = \"recipient\"\n",
    "        result = tx.run(\"CREATE a = (:address {address:$address, acc_index:$index, type:$kind, created:timestamp()}) \"\n",
    "                        \"RETURN a \", address=address, index = i, kind = addr_type)\n",
    "        return result.single()\n",
    "    \n",
    "    \n",
    "    @staticmethod\n",
    "    def _new_output(tx,amount, script_pubkey,tx_id,out_index):\n",
    "        result = tx.run(\"MATCH (n:transaction {id : $tx_id}) \"\n",
    "                        \"CREATE p = (:output {out_index:$out_index, script_pubkey:$script_pubkey})<-[:CREATES]-(n) \"\n",
    "                        \"RETURN p \", tx_id = tx_id, script_pubkey=script_pubkey, out_index=out_index, local_index=local_index)\n",
    "        return result.single()\n",
    "    \n",
    "    @staticmethod\n",
    "    def _spend_outputs(tx):\n",
    "        new_txs = tx.run(\"MATCH (tx:transaction) WHERE NOT (tx)-[:SPENDS]->() RETURN tx.id, tx.inputs\")\n",
    "        print(new_txs.data())\n",
    "        for tx in new_txs.data():\n",
    "            for tx_input in tx[\"tx.inputs\"]:\n",
    "                tx_in = tx.input.split(\":\")\n",
    "                prev_tx=tx_in[0]\n",
    "                index = tx_in[1]\n",
    "                if index == 4294967295 or prev_tx == (b'\\x00'*32).hex():\n",
    "                    app_log.info(\"Coinbase Transaction \" + tx['tx.id'])\n",
    "                                 \n",
    "                else:\n",
    "                    #app_log(f\"input index = {tx_in.prev_index}, input prev tx = {tx_in.prev_tx}\")\n",
    "                    result = tx.run(\"MATCH (t:transaction {id:$tx_id}), (o:output {index:$index})<-[:CREATES]-(:transaction {id:$prev_tx}) \"\n",
    "                                \"CREATE (t)-[r:SPENDS]->(o)\"\n",
    "                                \"RETURN r\",\n",
    "                                tx_id=tx['tx.id'], index=index, prev_tx=prev_tx)\n",
    "                    if result.single(): app_log.info(f\"connected input: {index}\")\n",
    "                    else: app_log.error(f\"Failed at connecting input: {index}\")\n",
    "                                 \n",
    "        return True\n",
    "        \n",
    "    \n",
    "    @staticmethod\n",
    "    def _new_tx(tx,block_id, version, locktime, tx_id, _inputs, outputs, segwit, i):\n",
    "        \n",
    "        inputs = [str(tx_in) for tx_in in _inputs]\n",
    "        print(inputs)\n",
    "                                 \n",
    "        result = tx.run(\"MATCH (b:block {id:$block_id}) \"\n",
    "                        \"MERGE (t:transaction {id:$tx_id}) \"\n",
    "                        \"SET t.version=$version, t.segwit=$segwit, t.locktime=$locktime \"\n",
    "                        \"MERGE (t)<-[:CONTAINS {i:$i}]-(b) \"\n",
    "                        \"WITH t \"\n",
    "                        \"FOREACH (input in $_inputs | \"\n",
    "                        \"MERGE (in :output {index:input.prev_index})<-[:CREATES]-(:transaction {id:$input.prev_tx}) \"\n",
    "                        \"MERGE (in)-[:SPENDS {script_sig:$input.script_sig, witness:$input.witness}]-(t) \"\n",
    "                        \"RETURN t \",\n",
    "                        tx_id=tx_id, segwit=segwit, version=version, locktime=locktime, block_id=block_id,i=i)\n",
    "        \n",
    "        if result.single(): app_log.info(f\"created tx: {tx_id}\\n{result.single()}\")\n",
    "        else: app_log.error(f\"FAILED AT CREATING TX {tx_id}\")\n",
    "        \n",
    "        for index,tx_out in enumerate(outputs):\n",
    "            result = tx.run(\"MATCH (t:transaction {id : $tx_id}) \"\n",
    "                        \"MERGE (o:output {index:$index})<-[:CREATES]-(t) \"\n",
    "                        \"SET o.amount=$amount, o.script_pubkey:$script_pubkey \"\n",
    "                        \"RETURN o \", \n",
    "                        tx_id = tx_id,amount=tx_out.amount,script_pubkey=str(tx_out.script_pubkey), index=index)\n",
    "            if result.single(): app_log.info(f\"created output: {tx_out.amount}:{index}\")\n",
    "            else: app_log.error(f\"FAILED AT CREATING OUTPUT {index}\")  \n",
    "        \n",
    "        return True\n",
    "    \n",
    "    @staticmethod\n",
    "    def _link_blocks(tx):\n",
    "        new_blocks = tx.run(\"MATCH (blk:block) WHERE NOT (blk)<-[:LINKS]-() RETURN blk.id, blk.prev_block\")\n",
    "        #print(new_blocks.data()[-10:]) #IF I PRINT HERE, IT DOESN'T WORK \n",
    "        #print(\"starting to link blocks...\")\n",
    "        for block in new_blocks.data():\n",
    "            \n",
    "            result = tx.run(\"MATCH (a:block {id:$block_id}) MATCH (b:block {id:$prev_block})\"\n",
    "                            \"CREATE p = (a)<-[r:LINKS]-(b) RETURN p\", \n",
    "                            block_id=block[\"blk.id\"], prev_block=block[\"blk.prev_block\"])\n",
    "            if result.data() is not None: app_log.info(result.data())\n",
    "            else : app_log.error(block)\n",
    "        return True\n",
    "    \n",
    "    @staticmethod\n",
    "    def _new_block(tx,block_id,version, prev_block,merkle_root,timestamp,bits,nonce,n_tx):\n",
    "        #_height = tx.run( \"MATCH (u:block) RETURN COUNT (u) \").single()[0] \n",
    "        #pblock = tx.run(\"MATCH (prev_block:block {id:$prev_block}) RETURN prev_block\", prev_block=prev_block)\n",
    "        #if not pblock.single():\n",
    "         #   print(f\"COULD NOT FIND PREVIOUS BLOCK {prev_block}.\")\n",
    "        result = tx.run(\"MERGE (block:block {id:$block_id})\"\n",
    "                        \"SET block.n_tx=$n_tx,block.nonce=$nonce,block.merkle_root:$merkle_root,block.bits=$bits,block.timestamp:$timestamp,block.version=$version\"\n",
    "                        \"MERGE (prevblock:block {id:$prev_block}) \"\n",
    "                        \"MERGE (block)<-[:chain]-(prevblock)\"\n",
    "                        \"RETURN block\",\n",
    "                        block_id=block_id, version=version, prev_block=prev_block, merkle_root=merkle_root, timestamp=timestamp, \n",
    "                        bits=bits, nonce=nonce, n_tx=n_tx)\n",
    "        return result.single()\n",
    "\n",
    "    def new_address(self, address,i,change_addr):\n",
    "        with self._driver.session() as session:\n",
    "            result = session.write_transaction(self._new_address, address,i,change_addr)\n",
    "            print(result)\n",
    "            \n",
    "    def new_output(self, address,tx_id,out_index):\n",
    "        with self._driver.session() as session:\n",
    "            result = session.write_transaction(self._new_utxo, address,tx_id,out_index)\n",
    "            print(result)\n",
    "                                 \n",
    "    def spend_outputs(self):\n",
    "        with self._driver.session() as session:\n",
    "            result = session.write_transaction(self._spend_outputs)\n",
    "            \n",
    "    def new_tx(self, block_id, version, locktime, tx_id, inputs, outputs, segwit):\n",
    "        with self._driver.session() as session:\n",
    "            result = session.write_transaction(self._new_tx, block_id, version, locktime, tx_id, inputs, outputs, segwit)\n",
    "            \n",
    "    def link_blocks(self):\n",
    "        with self._driver.session() as session:\n",
    "            result = session.write_transaction(self._link_blocks)\n",
    "                  \n",
    "    def new_block(self,block_id,version, prev_block,merkle_root,timestamp,bits,nonce,n_tx):\n",
    "        with self._driver.session() as session:\n",
    "            result = session.write_transaction(self._new_block,block_id,version, prev_block,merkle_root,timestamp,bits,nonce,n_tx)\n",
    "            if result: app_log.info(f\"CREATED BLOCK {block_id}\")\n",
    "            else: app_log.error(f\"FAILED AT CREATING BLOCK {block_id}\")\n",
    "            #print(result)\n",
    "  \n",
    "      "
   ]
  },
  {
   "cell_type": "code",
   "execution_count": 18,
   "metadata": {},
   "outputs": [],
   "source": [
    "db = BlockChainDB( \"neo4j://localhost:7687\" ,\"neo4j\" ,\"wallet\" )"
   ]
  },
  {
   "cell_type": "code",
   "execution_count": 12,
   "metadata": {},
   "outputs": [
    {
     "ename": "SyntaxError",
     "evalue": "invalid syntax (<ipython-input-12-05cb170e0d66>, line 5)",
     "output_type": "error",
     "traceback": [
      "\u001b[0;36m  File \u001b[0;32m\"<ipython-input-12-05cb170e0d66>\"\u001b[0;36m, line \u001b[0;32m5\u001b[0m\n\u001b[0;31m    for file in range(2040)\u001b[0m\n\u001b[0m                           ^\u001b[0m\n\u001b[0;31mSyntaxError\u001b[0m\u001b[0;31m:\u001b[0m invalid syntax\n"
     ]
    }
   ],
   "source": [
    "#f = open(\"block_output.txt\", \"w\")\n",
    "#ok = True\n",
    "#counter = 0\n",
    "def parse_blockchain():\n",
    "    for file in range(2040)\n",
    "    with open(f\"blocks_demo/blk{file:05}.dat\",\"rb\") as block_file:\n",
    "        #for block_in_file in range(1000,1200):\n",
    "        while ok:\n",
    "            #try:\n",
    "            this_block = Block.parse_from_blk(block_file)\n",
    "            f.write(f\"Block: \\nversion:{this_block.version}\\nPrevious block: {this_block.prev_block}\\nMerkle: {this_block.merkle_root}\")\n",
    "            f.write(f\"\\nTimeStamp:{this_block.timestamp}\\nNonce block: {this_block.nonce}\\nBits: {this_block.bits}\")\n",
    "            f.write(f\"\\nNumber of Transactions: {this_block.tx_hashes}\\n\\nTransactions:\")\n",
    "            #for transaction in range(countOfTransactions):\n",
    "\n",
    "            header = this_block.version.to_bytes(4,\"little\")+this_block.prev_block[::-1]+this_block.merkle_root[::-1]+this_block.timestamp.to_bytes(4,\"little\") + this_block.bits + this_block.nonce\n",
    "\n",
    "            block_id = hash256(header)[::-1]\n",
    "            #block_id = hex(int.from_bytes(block_id,\"big\"))[2:]\n",
    "            #print(int.from_bytes(this_block.nonce,\"big\"))\n",
    "            db.new_block(block_id.hex(),this_block.version, this_block.prev_block.hex(), \n",
    "                         this_block.merkle_root.hex(),this_block.timestamp, \n",
    "                         int.from_bytes(this_block.bits,\"big\"), \n",
    "                         int.from_bytes(this_block.nonce,\"big\"),\n",
    "                         this_block.tx_hashes)\n",
    "\n",
    "            for transaction in range(this_block.tx_hashes):\n",
    "                tx = Tx.parse(block_file)\n",
    "                db.new_tx(block_id.hex(), tx.version, tx.locktime, tx.id(), tx.tx_ins, tx.tx_outs, tx.segwit)\n",
    "            \"\"\"\n",
    "            except Exception as e:\n",
    "                print(e.with_traceback)\n",
    "                break\n",
    "\n",
    "            counter+=1\n",
    "            if counter >=1000: ok=False\n",
    "            \"\"\"\n",
    "\n",
    "\n",
    "\n",
    "    f.close()    \n",
    "    \n",
    " "
   ]
  },
  {
   "cell_type": "code",
   "execution_count": 19,
   "metadata": {},
   "outputs": [
    {
     "ename": "KeyboardInterrupt",
     "evalue": "",
     "output_type": "error",
     "traceback": [
      "\u001b[0;31m---------------------------------------------------------------------------\u001b[0m",
      "\u001b[0;31mKeyboardInterrupt\u001b[0m                         Traceback (most recent call last)",
      "\u001b[0;32m<ipython-input-19-67cfacea9dd9>\u001b[0m in \u001b[0;36m<module>\u001b[0;34m\u001b[0m\n\u001b[0;32m----> 1\u001b[0;31m \u001b[0mdb\u001b[0m\u001b[0;34m.\u001b[0m\u001b[0mlink_blocks\u001b[0m\u001b[0;34m(\u001b[0m\u001b[0;34m)\u001b[0m\u001b[0;34m\u001b[0m\u001b[0;34m\u001b[0m\u001b[0m\n\u001b[0m",
      "\u001b[0;32m<ipython-input-17-3edccce41bfa>\u001b[0m in \u001b[0;36mlink_blocks\u001b[0;34m(self)\u001b[0m\n\u001b[1;32m    118\u001b[0m     \u001b[0;32mdef\u001b[0m \u001b[0mlink_blocks\u001b[0m\u001b[0;34m(\u001b[0m\u001b[0mself\u001b[0m\u001b[0;34m)\u001b[0m\u001b[0;34m:\u001b[0m\u001b[0;34m\u001b[0m\u001b[0;34m\u001b[0m\u001b[0m\n\u001b[1;32m    119\u001b[0m         \u001b[0;32mwith\u001b[0m \u001b[0mself\u001b[0m\u001b[0;34m.\u001b[0m\u001b[0m_driver\u001b[0m\u001b[0;34m.\u001b[0m\u001b[0msession\u001b[0m\u001b[0;34m(\u001b[0m\u001b[0;34m)\u001b[0m \u001b[0;32mas\u001b[0m \u001b[0msession\u001b[0m\u001b[0;34m:\u001b[0m\u001b[0;34m\u001b[0m\u001b[0;34m\u001b[0m\u001b[0m\n\u001b[0;32m--> 120\u001b[0;31m             \u001b[0mresult\u001b[0m \u001b[0;34m=\u001b[0m \u001b[0msession\u001b[0m\u001b[0;34m.\u001b[0m\u001b[0mwrite_transaction\u001b[0m\u001b[0;34m(\u001b[0m\u001b[0mself\u001b[0m\u001b[0;34m.\u001b[0m\u001b[0m_link_blocks\u001b[0m\u001b[0;34m)\u001b[0m\u001b[0;34m\u001b[0m\u001b[0;34m\u001b[0m\u001b[0m\n\u001b[0m\u001b[1;32m    121\u001b[0m \u001b[0;34m\u001b[0m\u001b[0m\n\u001b[1;32m    122\u001b[0m     \u001b[0;32mdef\u001b[0m \u001b[0mnew_block\u001b[0m\u001b[0;34m(\u001b[0m\u001b[0mself\u001b[0m\u001b[0;34m,\u001b[0m\u001b[0mblock_id\u001b[0m\u001b[0;34m,\u001b[0m\u001b[0mversion\u001b[0m\u001b[0;34m,\u001b[0m \u001b[0mprev_block\u001b[0m\u001b[0;34m,\u001b[0m\u001b[0mmerkle_root\u001b[0m\u001b[0;34m,\u001b[0m\u001b[0mtimestamp\u001b[0m\u001b[0;34m,\u001b[0m\u001b[0mbits\u001b[0m\u001b[0;34m,\u001b[0m\u001b[0mnonce\u001b[0m\u001b[0;34m,\u001b[0m\u001b[0mn_tx\u001b[0m\u001b[0;34m)\u001b[0m\u001b[0;34m:\u001b[0m\u001b[0;34m\u001b[0m\u001b[0;34m\u001b[0m\u001b[0m\n",
      "\u001b[0;32m/anaconda3/lib/python3.7/site-packages/neo4j/__init__.py\u001b[0m in \u001b[0;36mwrite_transaction\u001b[0;34m(self, unit_of_work, *args, **kwargs)\u001b[0m\n\u001b[1;32m    716\u001b[0m     \u001b[0;32mdef\u001b[0m \u001b[0mwrite_transaction\u001b[0m\u001b[0;34m(\u001b[0m\u001b[0mself\u001b[0m\u001b[0;34m,\u001b[0m \u001b[0munit_of_work\u001b[0m\u001b[0;34m,\u001b[0m \u001b[0;34m*\u001b[0m\u001b[0margs\u001b[0m\u001b[0;34m,\u001b[0m \u001b[0;34m**\u001b[0m\u001b[0mkwargs\u001b[0m\u001b[0;34m)\u001b[0m\u001b[0;34m:\u001b[0m\u001b[0;34m\u001b[0m\u001b[0;34m\u001b[0m\u001b[0m\n\u001b[1;32m    717\u001b[0m         \u001b[0mself\u001b[0m\u001b[0;34m.\u001b[0m\u001b[0m_assert_open\u001b[0m\u001b[0;34m(\u001b[0m\u001b[0;34m)\u001b[0m\u001b[0;34m\u001b[0m\u001b[0;34m\u001b[0m\u001b[0m\n\u001b[0;32m--> 718\u001b[0;31m         \u001b[0;32mreturn\u001b[0m \u001b[0mself\u001b[0m\u001b[0;34m.\u001b[0m\u001b[0m_run_transaction\u001b[0m\u001b[0;34m(\u001b[0m\u001b[0mWRITE_ACCESS\u001b[0m\u001b[0;34m,\u001b[0m \u001b[0munit_of_work\u001b[0m\u001b[0;34m,\u001b[0m \u001b[0;34m*\u001b[0m\u001b[0margs\u001b[0m\u001b[0;34m,\u001b[0m \u001b[0;34m**\u001b[0m\u001b[0mkwargs\u001b[0m\u001b[0;34m)\u001b[0m\u001b[0;34m\u001b[0m\u001b[0;34m\u001b[0m\u001b[0m\n\u001b[0m\u001b[1;32m    719\u001b[0m \u001b[0;34m\u001b[0m\u001b[0m\n\u001b[1;32m    720\u001b[0m     \u001b[0;32mdef\u001b[0m \u001b[0m_assert_open\u001b[0m\u001b[0;34m(\u001b[0m\u001b[0mself\u001b[0m\u001b[0;34m)\u001b[0m\u001b[0;34m:\u001b[0m\u001b[0;34m\u001b[0m\u001b[0;34m\u001b[0m\u001b[0m\n",
      "\u001b[0;32m/anaconda3/lib/python3.7/site-packages/neo4j/__init__.py\u001b[0m in \u001b[0;36m_run_transaction\u001b[0;34m(self, access_mode, unit_of_work, *args, **kwargs)\u001b[0m\n\u001b[1;32m    680\u001b[0m                 \u001b[0mtx\u001b[0m \u001b[0;34m=\u001b[0m \u001b[0mself\u001b[0m\u001b[0;34m.\u001b[0m\u001b[0m_transaction\u001b[0m\u001b[0;34m\u001b[0m\u001b[0;34m\u001b[0m\u001b[0m\n\u001b[1;32m    681\u001b[0m                 \u001b[0;32mtry\u001b[0m\u001b[0;34m:\u001b[0m\u001b[0;34m\u001b[0m\u001b[0;34m\u001b[0m\u001b[0m\n\u001b[0;32m--> 682\u001b[0;31m                     \u001b[0mresult\u001b[0m \u001b[0;34m=\u001b[0m \u001b[0munit_of_work\u001b[0m\u001b[0;34m(\u001b[0m\u001b[0mtx\u001b[0m\u001b[0;34m,\u001b[0m \u001b[0;34m*\u001b[0m\u001b[0margs\u001b[0m\u001b[0;34m,\u001b[0m \u001b[0;34m**\u001b[0m\u001b[0mkwargs\u001b[0m\u001b[0;34m)\u001b[0m\u001b[0;34m\u001b[0m\u001b[0;34m\u001b[0m\u001b[0m\n\u001b[0m\u001b[1;32m    683\u001b[0m                 \u001b[0;32mexcept\u001b[0m \u001b[0mException\u001b[0m\u001b[0;34m:\u001b[0m\u001b[0;34m\u001b[0m\u001b[0;34m\u001b[0m\u001b[0m\n\u001b[1;32m    684\u001b[0m                     \u001b[0mtx\u001b[0m\u001b[0;34m.\u001b[0m\u001b[0msuccess\u001b[0m \u001b[0;34m=\u001b[0m \u001b[0;32mFalse\u001b[0m\u001b[0;34m\u001b[0m\u001b[0;34m\u001b[0m\u001b[0m\n",
      "\u001b[0;32m<ipython-input-17-3edccce41bfa>\u001b[0m in \u001b[0;36m_link_blocks\u001b[0;34m(tx)\u001b[0m\n\u001b[1;32m     82\u001b[0m                             \u001b[0;34m\"CREATE p = (a)<-[r:LINKS]-(b) RETURN p\"\u001b[0m\u001b[0;34m,\u001b[0m\u001b[0;34m\u001b[0m\u001b[0;34m\u001b[0m\u001b[0m\n\u001b[1;32m     83\u001b[0m                             block_id=block[\"blk.id\"], prev_block=block[\"blk.prev_block\"])\n\u001b[0;32m---> 84\u001b[0;31m             \u001b[0;32mif\u001b[0m \u001b[0mresult\u001b[0m\u001b[0;34m.\u001b[0m\u001b[0mdata\u001b[0m\u001b[0;34m(\u001b[0m\u001b[0;34m)\u001b[0m \u001b[0;32mis\u001b[0m \u001b[0;32mnot\u001b[0m \u001b[0;32mNone\u001b[0m\u001b[0;34m:\u001b[0m \u001b[0mapp_log\u001b[0m\u001b[0;34m.\u001b[0m\u001b[0minfo\u001b[0m\u001b[0;34m(\u001b[0m\u001b[0mresult\u001b[0m\u001b[0;34m.\u001b[0m\u001b[0mdata\u001b[0m\u001b[0;34m(\u001b[0m\u001b[0;34m)\u001b[0m\u001b[0;34m)\u001b[0m\u001b[0;34m\u001b[0m\u001b[0;34m\u001b[0m\u001b[0m\n\u001b[0m\u001b[1;32m     85\u001b[0m             \u001b[0;32melse\u001b[0m \u001b[0;34m:\u001b[0m \u001b[0mapp_log\u001b[0m\u001b[0;34m.\u001b[0m\u001b[0merror\u001b[0m\u001b[0;34m(\u001b[0m\u001b[0mblock\u001b[0m\u001b[0;34m)\u001b[0m\u001b[0;34m\u001b[0m\u001b[0;34m\u001b[0m\u001b[0m\n\u001b[1;32m     86\u001b[0m         \u001b[0;32mreturn\u001b[0m \u001b[0;32mTrue\u001b[0m\u001b[0;34m\u001b[0m\u001b[0;34m\u001b[0m\u001b[0m\n",
      "\u001b[0;32m/anaconda3/lib/python3.7/site-packages/neo4j/__init__.py\u001b[0m in \u001b[0;36mdata\u001b[0;34m(self, *items)\u001b[0m\n\u001b[1;32m   1051\u001b[0m         \u001b[0;34m:\u001b[0m\u001b[0mreturns\u001b[0m\u001b[0;34m:\u001b[0m \u001b[0mlist\u001b[0m \u001b[0mof\u001b[0m \u001b[0mdictionaries\u001b[0m\u001b[0;34m\u001b[0m\u001b[0;34m\u001b[0m\u001b[0m\n\u001b[1;32m   1052\u001b[0m         \"\"\"\n\u001b[0;32m-> 1053\u001b[0;31m         \u001b[0;32mreturn\u001b[0m \u001b[0;34m[\u001b[0m\u001b[0mrecord\u001b[0m\u001b[0;34m.\u001b[0m\u001b[0mdata\u001b[0m\u001b[0;34m(\u001b[0m\u001b[0;34m*\u001b[0m\u001b[0mitems\u001b[0m\u001b[0;34m)\u001b[0m \u001b[0;32mfor\u001b[0m \u001b[0mrecord\u001b[0m \u001b[0;32min\u001b[0m \u001b[0mself\u001b[0m\u001b[0;34m.\u001b[0m\u001b[0mrecords\u001b[0m\u001b[0;34m(\u001b[0m\u001b[0;34m)\u001b[0m\u001b[0;34m]\u001b[0m\u001b[0;34m\u001b[0m\u001b[0;34m\u001b[0m\u001b[0m\n\u001b[0m\u001b[1;32m   1054\u001b[0m \u001b[0;34m\u001b[0m\u001b[0m\n\u001b[1;32m   1055\u001b[0m \u001b[0;34m\u001b[0m\u001b[0m\n",
      "\u001b[0;32m/anaconda3/lib/python3.7/site-packages/neo4j/__init__.py\u001b[0m in \u001b[0;36m<listcomp>\u001b[0;34m(.0)\u001b[0m\n\u001b[1;32m   1051\u001b[0m         \u001b[0;34m:\u001b[0m\u001b[0mreturns\u001b[0m\u001b[0;34m:\u001b[0m \u001b[0mlist\u001b[0m \u001b[0mof\u001b[0m \u001b[0mdictionaries\u001b[0m\u001b[0;34m\u001b[0m\u001b[0;34m\u001b[0m\u001b[0m\n\u001b[1;32m   1052\u001b[0m         \"\"\"\n\u001b[0;32m-> 1053\u001b[0;31m         \u001b[0;32mreturn\u001b[0m \u001b[0;34m[\u001b[0m\u001b[0mrecord\u001b[0m\u001b[0;34m.\u001b[0m\u001b[0mdata\u001b[0m\u001b[0;34m(\u001b[0m\u001b[0;34m*\u001b[0m\u001b[0mitems\u001b[0m\u001b[0;34m)\u001b[0m \u001b[0;32mfor\u001b[0m \u001b[0mrecord\u001b[0m \u001b[0;32min\u001b[0m \u001b[0mself\u001b[0m\u001b[0;34m.\u001b[0m\u001b[0mrecords\u001b[0m\u001b[0;34m(\u001b[0m\u001b[0;34m)\u001b[0m\u001b[0;34m]\u001b[0m\u001b[0;34m\u001b[0m\u001b[0;34m\u001b[0m\u001b[0m\n\u001b[0m\u001b[1;32m   1054\u001b[0m \u001b[0;34m\u001b[0m\u001b[0m\n\u001b[1;32m   1055\u001b[0m \u001b[0;34m\u001b[0m\u001b[0m\n",
      "\u001b[0;32m/anaconda3/lib/python3.7/site-packages/neo4j/__init__.py\u001b[0m in \u001b[0;36mrecords\u001b[0;34m(self)\u001b[0m\n\u001b[1;32m    950\u001b[0m             \u001b[0mself\u001b[0m\u001b[0;34m.\u001b[0m\u001b[0m_session\u001b[0m\u001b[0;34m.\u001b[0m\u001b[0msend\u001b[0m\u001b[0;34m(\u001b[0m\u001b[0;34m)\u001b[0m\u001b[0;34m\u001b[0m\u001b[0;34m\u001b[0m\u001b[0m\n\u001b[1;32m    951\u001b[0m         \u001b[0;32mwhile\u001b[0m \u001b[0mattached\u001b[0m\u001b[0;34m(\u001b[0m\u001b[0;34m)\u001b[0m\u001b[0;34m:\u001b[0m\u001b[0;34m\u001b[0m\u001b[0;34m\u001b[0m\u001b[0m\n\u001b[0;32m--> 952\u001b[0;31m             \u001b[0mself\u001b[0m\u001b[0;34m.\u001b[0m\u001b[0m_session\u001b[0m\u001b[0;34m.\u001b[0m\u001b[0mfetch\u001b[0m\u001b[0;34m(\u001b[0m\u001b[0;34m)\u001b[0m\u001b[0;34m\u001b[0m\u001b[0;34m\u001b[0m\u001b[0m\n\u001b[0m\u001b[1;32m    953\u001b[0m             \u001b[0;32mwhile\u001b[0m \u001b[0mrecords\u001b[0m\u001b[0;34m:\u001b[0m\u001b[0;34m\u001b[0m\u001b[0;34m\u001b[0m\u001b[0m\n\u001b[1;32m    954\u001b[0m                 \u001b[0;32myield\u001b[0m \u001b[0mnext_record\u001b[0m\u001b[0;34m(\u001b[0m\u001b[0;34m)\u001b[0m\u001b[0;34m\u001b[0m\u001b[0;34m\u001b[0m\u001b[0m\n",
      "\u001b[0;32m/anaconda3/lib/python3.7/site-packages/neo4j/__init__.py\u001b[0m in \u001b[0;36mfetch\u001b[0;34m(self)\u001b[0m\n\u001b[1;32m    525\u001b[0m         \u001b[0;32mif\u001b[0m \u001b[0mself\u001b[0m\u001b[0;34m.\u001b[0m\u001b[0m_connection\u001b[0m\u001b[0;34m:\u001b[0m\u001b[0;34m\u001b[0m\u001b[0;34m\u001b[0m\u001b[0m\n\u001b[1;32m    526\u001b[0m             \u001b[0;32mtry\u001b[0m\u001b[0;34m:\u001b[0m\u001b[0;34m\u001b[0m\u001b[0;34m\u001b[0m\u001b[0m\n\u001b[0;32m--> 527\u001b[0;31m                 \u001b[0mdetail_count\u001b[0m\u001b[0;34m,\u001b[0m \u001b[0m_\u001b[0m \u001b[0;34m=\u001b[0m \u001b[0mself\u001b[0m\u001b[0;34m.\u001b[0m\u001b[0m_connection\u001b[0m\u001b[0;34m.\u001b[0m\u001b[0mfetch\u001b[0m\u001b[0;34m(\u001b[0m\u001b[0;34m)\u001b[0m\u001b[0;34m\u001b[0m\u001b[0;34m\u001b[0m\u001b[0m\n\u001b[0m\u001b[1;32m    528\u001b[0m             \u001b[0;32mexcept\u001b[0m \u001b[0mConnectionExpired\u001b[0m \u001b[0;32mas\u001b[0m \u001b[0merror\u001b[0m\u001b[0;34m:\u001b[0m\u001b[0;34m\u001b[0m\u001b[0;34m\u001b[0m\u001b[0m\n\u001b[1;32m    529\u001b[0m                 \u001b[0;32mraise\u001b[0m \u001b[0mSessionExpired\u001b[0m\u001b[0;34m(\u001b[0m\u001b[0;34m*\u001b[0m\u001b[0merror\u001b[0m\u001b[0;34m.\u001b[0m\u001b[0margs\u001b[0m\u001b[0;34m)\u001b[0m\u001b[0;34m\u001b[0m\u001b[0;34m\u001b[0m\u001b[0m\n",
      "\u001b[0;32m/anaconda3/lib/python3.7/site-packages/neobolt/direct.py\u001b[0m in \u001b[0;36mfetch\u001b[0;34m(self)\u001b[0m\n\u001b[1;32m    417\u001b[0m     \u001b[0;32mdef\u001b[0m \u001b[0mfetch\u001b[0m\u001b[0;34m(\u001b[0m\u001b[0mself\u001b[0m\u001b[0;34m)\u001b[0m\u001b[0;34m:\u001b[0m\u001b[0;34m\u001b[0m\u001b[0;34m\u001b[0m\u001b[0m\n\u001b[1;32m    418\u001b[0m         \u001b[0;32mtry\u001b[0m\u001b[0;34m:\u001b[0m\u001b[0;34m\u001b[0m\u001b[0;34m\u001b[0m\u001b[0m\n\u001b[0;32m--> 419\u001b[0;31m             \u001b[0;32mreturn\u001b[0m \u001b[0mself\u001b[0m\u001b[0;34m.\u001b[0m\u001b[0m_fetch\u001b[0m\u001b[0;34m(\u001b[0m\u001b[0;34m)\u001b[0m\u001b[0;34m\u001b[0m\u001b[0;34m\u001b[0m\u001b[0m\n\u001b[0m\u001b[1;32m    420\u001b[0m         \u001b[0;32mexcept\u001b[0m \u001b[0mself\u001b[0m\u001b[0;34m.\u001b[0m\u001b[0merror_handler\u001b[0m\u001b[0;34m.\u001b[0m\u001b[0mknown_errors\u001b[0m \u001b[0;32mas\u001b[0m \u001b[0merror\u001b[0m\u001b[0;34m:\u001b[0m\u001b[0;34m\u001b[0m\u001b[0;34m\u001b[0m\u001b[0m\n\u001b[1;32m    421\u001b[0m             \u001b[0mself\u001b[0m\u001b[0;34m.\u001b[0m\u001b[0merror_handler\u001b[0m\u001b[0;34m.\u001b[0m\u001b[0mhandle\u001b[0m\u001b[0;34m(\u001b[0m\u001b[0merror\u001b[0m\u001b[0;34m,\u001b[0m \u001b[0mself\u001b[0m\u001b[0;34m.\u001b[0m\u001b[0munresolved_address\u001b[0m\u001b[0;34m)\u001b[0m\u001b[0;34m\u001b[0m\u001b[0;34m\u001b[0m\u001b[0m\n",
      "\u001b[0;32m/anaconda3/lib/python3.7/site-packages/neobolt/direct.py\u001b[0m in \u001b[0;36m_fetch\u001b[0;34m(self)\u001b[0m\n\u001b[1;32m    438\u001b[0m             \u001b[0;32mreturn\u001b[0m \u001b[0;36m0\u001b[0m\u001b[0;34m,\u001b[0m \u001b[0;36m0\u001b[0m\u001b[0;34m\u001b[0m\u001b[0;34m\u001b[0m\u001b[0m\n\u001b[1;32m    439\u001b[0m \u001b[0;34m\u001b[0m\u001b[0m\n\u001b[0;32m--> 440\u001b[0;31m         \u001b[0mself\u001b[0m\u001b[0;34m.\u001b[0m\u001b[0m_receive\u001b[0m\u001b[0;34m(\u001b[0m\u001b[0;34m)\u001b[0m\u001b[0;34m\u001b[0m\u001b[0;34m\u001b[0m\u001b[0m\n\u001b[0m\u001b[1;32m    441\u001b[0m \u001b[0;34m\u001b[0m\u001b[0m\n\u001b[1;32m    442\u001b[0m         \u001b[0mdetails\u001b[0m\u001b[0;34m,\u001b[0m \u001b[0msummary_signature\u001b[0m\u001b[0;34m,\u001b[0m \u001b[0msummary_metadata\u001b[0m \u001b[0;34m=\u001b[0m \u001b[0mself\u001b[0m\u001b[0;34m.\u001b[0m\u001b[0m_unpack\u001b[0m\u001b[0;34m(\u001b[0m\u001b[0;34m)\u001b[0m\u001b[0;34m\u001b[0m\u001b[0;34m\u001b[0m\u001b[0m\n",
      "\u001b[0;32m/anaconda3/lib/python3.7/site-packages/neobolt/direct.py\u001b[0m in \u001b[0;36m_receive\u001b[0;34m(self)\u001b[0m\n\u001b[1;32m    487\u001b[0m             \u001b[0;32mraise\u001b[0m \u001b[0mself\u001b[0m\u001b[0;34m.\u001b[0m\u001b[0mError\u001b[0m\u001b[0;34m(\u001b[0m\u001b[0mmessage\u001b[0m\u001b[0;34m)\u001b[0m\u001b[0;34m\u001b[0m\u001b[0;34m\u001b[0m\u001b[0m\n\u001b[1;32m    488\u001b[0m         \u001b[0;32melif\u001b[0m \u001b[0mreceived\u001b[0m \u001b[0;34m==\u001b[0m \u001b[0;34m-\u001b[0m\u001b[0;36m1\u001b[0m\u001b[0;34m:\u001b[0m\u001b[0;34m\u001b[0m\u001b[0;34m\u001b[0m\u001b[0m\n\u001b[0;32m--> 489\u001b[0;31m             \u001b[0;32mraise\u001b[0m \u001b[0mKeyboardInterrupt\u001b[0m\u001b[0;34m(\u001b[0m\u001b[0;34m)\u001b[0m\u001b[0;34m\u001b[0m\u001b[0;34m\u001b[0m\u001b[0m\n\u001b[0m\u001b[1;32m    490\u001b[0m \u001b[0;34m\u001b[0m\u001b[0m\n\u001b[1;32m    491\u001b[0m     \u001b[0;32mdef\u001b[0m \u001b[0m_unpack\u001b[0m\u001b[0;34m(\u001b[0m\u001b[0mself\u001b[0m\u001b[0;34m)\u001b[0m\u001b[0;34m:\u001b[0m\u001b[0;34m\u001b[0m\u001b[0;34m\u001b[0m\u001b[0m\n",
      "\u001b[0;31mKeyboardInterrupt\u001b[0m: "
     ]
    }
   ],
   "source": [
    "db.link_blocks()"
   ]
  },
  {
   "cell_type": "code",
   "execution_count": 32,
   "metadata": {},
   "outputs": [],
   "source": [
    "os.chdir(\"/Users/oscareduardosernarosero/Desktop/neo4j-community-4.0.3/bin\")\n",
    "whereami = subprocess.check_output(\"pwd\")\n",
    "print(whereami)\n",
    "if whereami == b\"/Users/oscareduardosernarosero/Desktop/neo4j-community-4.0.3/bin\\n\": print(\"ok\")\n",
    "print(subprocess.check_output(\"ls\"))\n",
    "start_neo4j = subprocess.check_output(\"./neo4j start\",shell = True)\n",
    "if \"Started neo4j\" in str(start_neo4j): print(\"Sarted Neo4j successfully...\")\n",
    "else: print(\"Failed starting Neo4j.\")\n",
    "sleep(2)"
   ]
  },
  {
   "cell_type": "code",
   "execution_count": 57,
   "metadata": {},
   "outputs": [
    {
     "ename": "CalledProcessError",
     "evalue": "Command 'MATCH (n) RETURN n' returned non-zero exit status 2.",
     "output_type": "error",
     "traceback": [
      "\u001b[0;31m---------------------------------------------------------------------------\u001b[0m",
      "\u001b[0;31mCalledProcessError\u001b[0m                        Traceback (most recent call last)",
      "\u001b[0;32m<ipython-input-57-f2f54fa574f5>\u001b[0m in \u001b[0;36m<module>\u001b[0;34m\u001b[0m\n\u001b[1;32m      2\u001b[0m \u001b[0;31m#output = Popen([\"./cypher-shell\",\"-u\",\"neo4j\",\"-p\",\"wallet\"],stdout=PIPE, stderr=PIPE)\u001b[0m\u001b[0;34m\u001b[0m\u001b[0;34m\u001b[0m\u001b[0;34m\u001b[0m\u001b[0m\n\u001b[1;32m      3\u001b[0m \u001b[0msubprocess\u001b[0m\u001b[0;34m.\u001b[0m\u001b[0mcall\u001b[0m\u001b[0;34m(\u001b[0m\u001b[0;34m\"./cypher-shell -u neo4j -p wallet\"\u001b[0m\u001b[0;34m,\u001b[0m\u001b[0mshell\u001b[0m \u001b[0;34m=\u001b[0m \u001b[0;32mTrue\u001b[0m\u001b[0;34m)\u001b[0m\u001b[0;34m\u001b[0m\u001b[0;34m\u001b[0m\u001b[0m\n\u001b[0;32m----> 4\u001b[0;31m \u001b[0moutput\u001b[0m \u001b[0;34m=\u001b[0m \u001b[0msubprocess\u001b[0m\u001b[0;34m.\u001b[0m\u001b[0mcheck_output\u001b[0m\u001b[0;34m(\u001b[0m\u001b[0;34m\"MATCH (n) RETURN n\"\u001b[0m\u001b[0;34m,\u001b[0m\u001b[0mshell\u001b[0m \u001b[0;34m=\u001b[0m \u001b[0;32mTrue\u001b[0m\u001b[0;34m)\u001b[0m\u001b[0;34m\u001b[0m\u001b[0;34m\u001b[0m\u001b[0m\n\u001b[0m\u001b[1;32m      5\u001b[0m \u001b[0mprint\u001b[0m\u001b[0;34m(\u001b[0m\u001b[0moutput\u001b[0m\u001b[0;34m)\u001b[0m\u001b[0;34m\u001b[0m\u001b[0;34m\u001b[0m\u001b[0m\n",
      "\u001b[0;32m/anaconda3/lib/python3.7/subprocess.py\u001b[0m in \u001b[0;36mcheck_output\u001b[0;34m(timeout, *popenargs, **kwargs)\u001b[0m\n\u001b[1;32m    393\u001b[0m \u001b[0;34m\u001b[0m\u001b[0m\n\u001b[1;32m    394\u001b[0m     return run(*popenargs, stdout=PIPE, timeout=timeout, check=True,\n\u001b[0;32m--> 395\u001b[0;31m                **kwargs).stdout\n\u001b[0m\u001b[1;32m    396\u001b[0m \u001b[0;34m\u001b[0m\u001b[0m\n\u001b[1;32m    397\u001b[0m \u001b[0;34m\u001b[0m\u001b[0m\n",
      "\u001b[0;32m/anaconda3/lib/python3.7/subprocess.py\u001b[0m in \u001b[0;36mrun\u001b[0;34m(input, capture_output, timeout, check, *popenargs, **kwargs)\u001b[0m\n\u001b[1;32m    485\u001b[0m         \u001b[0;32mif\u001b[0m \u001b[0mcheck\u001b[0m \u001b[0;32mand\u001b[0m \u001b[0mretcode\u001b[0m\u001b[0;34m:\u001b[0m\u001b[0;34m\u001b[0m\u001b[0;34m\u001b[0m\u001b[0m\n\u001b[1;32m    486\u001b[0m             raise CalledProcessError(retcode, process.args,\n\u001b[0;32m--> 487\u001b[0;31m                                      output=stdout, stderr=stderr)\n\u001b[0m\u001b[1;32m    488\u001b[0m     \u001b[0;32mreturn\u001b[0m \u001b[0mCompletedProcess\u001b[0m\u001b[0;34m(\u001b[0m\u001b[0mprocess\u001b[0m\u001b[0;34m.\u001b[0m\u001b[0margs\u001b[0m\u001b[0;34m,\u001b[0m \u001b[0mretcode\u001b[0m\u001b[0;34m,\u001b[0m \u001b[0mstdout\u001b[0m\u001b[0;34m,\u001b[0m \u001b[0mstderr\u001b[0m\u001b[0;34m)\u001b[0m\u001b[0;34m\u001b[0m\u001b[0;34m\u001b[0m\u001b[0m\n\u001b[1;32m    489\u001b[0m \u001b[0;34m\u001b[0m\u001b[0m\n",
      "\u001b[0;31mCalledProcessError\u001b[0m: Command 'MATCH (n) RETURN n' returned non-zero exit status 2."
     ]
    }
   ],
   "source": [
    "#os.chdir(\"/Users/oscareduardosernarosero/Desktop/neo4j-community-4.0.3/bin\")\n",
    "#output = Popen([\"./cypher-shell\",\"-u\",\"neo4j\",\"-p\",\"wallet\"],stdout=PIPE, stderr=PIPE)\n",
    "subprocess.call(\"./cypher-shell -u neo4j -p wallet\",shell = True)\n",
    "output = subprocess.check_output(\"MATCH (n) RETURN n\",shell = True)\n",
    "print(output)"
   ]
  },
  {
   "cell_type": "code",
   "execution_count": 54,
   "metadata": {},
   "outputs": [
    {
     "name": "stdout",
     "output_type": "stream",
     "text": [
      "b''\n"
     ]
    }
   ],
   "source": [
    "stdout, stderr = output.communicate(\"\\tMATCH (n) RETURN n\\n\")\n",
    "print (stdout)\n",
    "#subprocess.call(\"neo4j\",shell = True)\n",
    "#sleep(2)\n",
    "#loggedin = subprocess.check_output(\"wallet\",shell = True)\n",
    "#if \"Connected to Neo4j 4.0.3 at neo4j://localhost:7687 as user neo4j\" in str(loggedin):print(\"connected\")"
   ]
  },
  {
   "cell_type": "code",
   "execution_count": 47,
   "metadata": {},
   "outputs": [],
   "source": []
  },
  {
   "cell_type": "code",
   "execution_count": 47,
   "metadata": {},
   "outputs": [
    {
     "name": "stdout",
     "output_type": "stream",
     "text": [
      "bed9\u001d",
      "\u0001\u0000\u0000\u0001\u0000\u0000\u0000\u0000\u0000\u0000\u0000\u0000\u0000\u0000\u0000\u0000\u0000\u0000\u0000\u0000\u0000\u0000\u0000\u0000\u0000\u0000\u0000\u0000\u0000\u0000\u0000\u0000\u0000\u0000\u0000\u0000\u0000\u0000\u0000;ed7a{\u00127a2c>gv611b88512:b84b\u001e",
      "^J)5fIff\u0000\u001d",
      "\u001d",
      "2b|\u0001\u0001\u0000\u0000\u0000\u0001\u0000\u0000\u0000\u0000\u0000\u0000\u0000\u0000\u0000\u0000\u0000\u0000\u0000\u0000\u0000\u0000\u0000\u0000\u0000\u0000\u0000\n",
      "\u0000\u0000\u0000\u0000\u0000\u0000\u0000\u0000\u0000\u0000\u0000ffffM\u0004ff\u0000\u001d",
      "\u0001\u0004EThe Times 03/Jan/2009 Chancellor on brink of second bailout for banksffff\u0001\u000005*\u0001\u0000\u0000\u0000\n",
      "CA\u0004gfdfeUH'\u0019ga6q010\\a8(39\t79bea\u001fab6Ibc?L38f3U\u00041e125c8Mba\u000b",
      "574cp+k1d_00\u0000\u0000\u0000bed900\u0000\u0000\u0001\u0000\u0000\u0000o8c\n",
      "f172a646634f1e6556819\u0000\u0000\u0000\u0000\u000020Q1eK44beh\u000e\u001f14g{a354\u000b",
      "b1b6\u000657\n",
      "#>\u000ea66Iff\u0000\u001d",
      "\u00016201\u0001\u0000\u0000\u0000\u0001\u0000\u0000\u0000\u0000\u0000\u0000\u0000\u0000\u0000\u0000\u0000\u0000\u0000\u0000\u0000\u0000\u0000\u0000\u0000\u0000\u0000\u0000\u0000\u0000\u0000\u0000\u0000\u0000\u0000\u0000\u0000\u0000ffff\u0007\u0004ff\u0000\u001d",
      "\u0001\u0004ffff\u0001\u000005*\u0001\u0000\u0000\u0000CA\u0004b5853Q72j,e6\u001e",
      "16\u00001381:b|f8b94{3cR753715e00414\u0017\n",
      "e6\"72\u0011f62\u001e",
      "s2c23B58ac\u0000\u0000\u0000\u0000bed900\u0000\u0000\u0001\u0000\u0000\u0000H`181b\u0016 7e908aBu\u0014Ao51Y86h9a00\u0000\u0000\u0000fd54\u001e",
      "%1czZed48Xbbf\\3674N2c1`\"0fb066Iff\u0000bda\u0001\u0001\u0000\u0000\u0000\u0001\u0000\u0000\u0000\u0000\u0000\u0000\u0000\u0000\u0000\u0000\u0000\u0000\u0000\u0000\u0000\n",
      "\u0000\u0000\u0000\u0000\u0000\u0000\u0000\u0000\u0000\u0000\u0000\u0000\u0000\u0000\u0000\u0000\u0000ffff\u0007\u0004ff\u0000\u001d",
      "\u0001\u000b",
      "ffff\u0001\u000005*\u0001\u0000\u0000\u0000CA\u0004r\u0011245bPR(c319L\u001faa\u001556df7b97a@@c0se690d4f\u00038R721g3e#dF1779fc41*31kw00\u0000\u0000\u0000bed900\u0000\u0000\u0001\u0000\u0000\u0000ddcca3a1\n",
      "081a]p\u00030a7bb66bc\u0006_bj\u0000\u0000\u0000\u0000D72\"`d8]a9fb5f\u000f09877bb7b776|1c99]66Iff\u0000\u001d",
      "\u0005edm\u0001\u0001\u0000\u0000\u0000\u0001\u0000\u0000\u0000\u0000\u0000\u0000\u0000\u0000\u0000\u0000\u0000\u0000\u0000\u0000\u0000\u0000\u0000\u0000\u0000\u0000\u0000\u0000\u0000\u0000\u0000\u0000\u0000\u0000\u0000\u0000\u0000\u0000ffff\u0007\u0004ff\u0000\u001d",
      "\u0001\u000effff\u0001\u000005*\u0001\n",
      "\u0000\u0000\u0000CA\u0004b9e7l[\u0016)f995a4da7c60ad80fff\u001e",
      "19\u0012#89qa00c'&74\u001d",
      "9ef9\u000eu3e5P9bo<aa00\u0000\u0000\u0000bed900\u0000\u0000\u0001\u0000\u0000\u0000IDF621c,ta550bo>@baf2a355\u000182\u0000\u0000\u0000\u0000z\u000698402e226+(cecS745j\n",
      "5ec8e50f\u0006+8c66Iff\u0000\u001d",
      "+e001\u0001\u0000\u0000\u0000\u0001\u0000\u0000\u0000\u0000\u0000\u0000\u0000\u0000\u0000\u0000\u0000\u0000\u0000\u0000\u0000\u0000\u0000\u0000\u0000\u0000\u0000\u0000\u0000\u0000\u0000\u0000\u0000\u0000\u0000\u0000\u0000\u0000ffff\u0007\u0004ff\u0000\u001d",
      "\u0001\u001affff\u0001\u000005*\u0001\u0000\u0000\u0000CA\u0004\u0018O2125cnR.fhc$\u0003\u000fe508b2\u001f00aO69\u000e\u0019\u0013\u001d",
      "\n",
      "3118\u0010kfdC7>731be6eef6700\u0000\u0000\u0000bed900\u0000\u0000\u0001\u0000\u0000\u000014J48a822\u001c",
      "d65909\u000ef8c99055baN\u0000\u0000\u0000\u00001cHcde7%\u001084237\f",
      "38915c88\u0001eed2E(RcD66Iff\u0000\u001d",
      "\u001d",
      "\u000377\u0001\u0001\u0000\u0000\u0000\u0001\u0000\u0000\u0000\u0000\u0000\u0000\u0000\u0000\u0000\u0000\u0000\n"
     ]
    }
   ],
   "source": [
    "with open(\"blocks_demo/blk00000.dat\",\"rb\") as block_file:\n",
    "    for line in range(10):\n",
    "        charlist =[]\n",
    "        for ch in range(100):\n",
    "            char=\"\"\n",
    "            try:\n",
    "                #print(binascii.hexlify(block_file.read(60)))\n",
    "                char = block_file.read(1).decode(\"ascii\")\n",
    "                #print(type(char))\n",
    "            except:\n",
    "                char = binascii.hexlify(block_file.read(1)).decode(\"utf-8\")\n",
    "                #print(type(char))\n",
    "                #print([( block_file.read(1).decode(\"ascii\")). for x in range(60) ])\n",
    "            charlist.append(char)\n",
    "            \n",
    "\n",
    "        print(\"\".join(charlist))       \n",
    "        #except Exception as e:\n",
    "        #    excType, excValue, excTraceback = sys.exc_info()\n",
    "        #    print(excType, excValue, excTraceback, file = sys.stdout)\n",
    "    "
   ]
  },
  {
   "cell_type": "code",
   "execution_count": 34,
   "metadata": {},
   "outputs": [
    {
     "data": {
      "text/plain": [
       "'0x14'"
      ]
     },
     "execution_count": 34,
     "metadata": {},
     "output_type": "execute_result"
    }
   ],
   "source": [
    "hex(20)"
   ]
  },
  {
   "cell_type": "code",
   "execution_count": 6,
   "metadata": {},
   "outputs": [],
   "source": [
    "\n",
    "#logger = logging.getLogger('example')\n",
    "\n",
    "\n",
    "with open(\"test_file.txt\",\"r\") as block_file:\n",
    "    \n",
    "    for x in range(3):\n",
    "        app_log.info(block_file.read(4))\n",
    "        \n",
    "        \n",
    "        "
   ]
  },
  {
   "cell_type": "code",
   "execution_count": 7,
   "metadata": {},
   "outputs": [],
   "source": [
    "p =[{'blk.id': '000000000019d6689c085ae165831e934ff763ae46a2a6c172b3f1b60a8ce26f', 'blk.prev_block': '0000000000000000000000000000000000000000000000000000000000000000'}, {'blk.id': '00000000839a8e6886ab5951d76f411475428afc90947ee320161bbf18eb6048', 'blk.prev_block': '000000000019d6689c085ae165831e934ff763ae46a2a6c172b3f1b60a8ce26f'}, {'blk.id': '000000006a625f06636b8bb6ac7b960a8d03705d1ace08b1a19da3fdcc99ddbd', 'blk.prev_block': '00000000839a8e6886ab5951d76f411475428afc90947ee320161bbf18eb6048'}, {'blk.id': '0000000082b5015589a3fdf2d4baff403e6f0be035a5d9742c1cae6295464449', 'blk.prev_block': '000000006a625f06636b8bb6ac7b960a8d03705d1ace08b1a19da3fdcc99ddbd'}, {'blk.id': '000000004ebadb55ee9096c9a2f8880e09da59c0d68b1c228da88e48844a1485', 'blk.prev_block': '0000000082b5015589a3fdf2d4baff403e6f0be035a5d9742c1cae6295464449'}, {'blk.id': '000000009b7262315dbf071787ad3656097b892abffd1f95a1a022f896f533fc', 'blk.prev_block': '000000004ebadb55ee9096c9a2f8880e09da59c0d68b1c228da88e48844a1485'}, {'blk.id': '000000003031a0e73735690c5a1ff2a4be82553b2a12b776fbd3a215dc8f778d', 'blk.prev_block': '000000009b7262315dbf071787ad3656097b892abffd1f95a1a022f896f533fc'}, {'blk.id': '0000000071966c2b1d065fd446b1e485b2c9d9594acd2007ccbd5441cfc89444', 'blk.prev_block': '000000003031a0e73735690c5a1ff2a4be82553b2a12b776fbd3a215dc8f778d'}, {'blk.id': '00000000408c48f847aa786c2268fc3e6ec2af68e8468a34a28c61b7f1de0dc6', 'blk.prev_block': '0000000071966c2b1d065fd446b1e485b2c9d9594acd2007ccbd5441cfc89444'}, {'blk.id': '000000008d9dc510f23c2657fc4f67bea30078cc05a90eb89e84cc475c080805', 'blk.prev_block': '00000000408c48f847aa786c2268fc3e6ec2af68e8468a34a28c61b7f1de0dc6'}]"
   ]
  },
  {
   "cell_type": "code",
   "execution_count": 8,
   "metadata": {},
   "outputs": [
    {
     "name": "stdout",
     "output_type": "stream",
     "text": [
      "{'blk.id': '000000000019d6689c085ae165831e934ff763ae46a2a6c172b3f1b60a8ce26f', 'blk.prev_block': '0000000000000000000000000000000000000000000000000000000000000000'}\n",
      "{'blk.id': '00000000839a8e6886ab5951d76f411475428afc90947ee320161bbf18eb6048', 'blk.prev_block': '000000000019d6689c085ae165831e934ff763ae46a2a6c172b3f1b60a8ce26f'}\n",
      "{'blk.id': '000000006a625f06636b8bb6ac7b960a8d03705d1ace08b1a19da3fdcc99ddbd', 'blk.prev_block': '00000000839a8e6886ab5951d76f411475428afc90947ee320161bbf18eb6048'}\n",
      "{'blk.id': '0000000082b5015589a3fdf2d4baff403e6f0be035a5d9742c1cae6295464449', 'blk.prev_block': '000000006a625f06636b8bb6ac7b960a8d03705d1ace08b1a19da3fdcc99ddbd'}\n",
      "{'blk.id': '000000004ebadb55ee9096c9a2f8880e09da59c0d68b1c228da88e48844a1485', 'blk.prev_block': '0000000082b5015589a3fdf2d4baff403e6f0be035a5d9742c1cae6295464449'}\n",
      "{'blk.id': '000000009b7262315dbf071787ad3656097b892abffd1f95a1a022f896f533fc', 'blk.prev_block': '000000004ebadb55ee9096c9a2f8880e09da59c0d68b1c228da88e48844a1485'}\n",
      "{'blk.id': '000000003031a0e73735690c5a1ff2a4be82553b2a12b776fbd3a215dc8f778d', 'blk.prev_block': '000000009b7262315dbf071787ad3656097b892abffd1f95a1a022f896f533fc'}\n",
      "{'blk.id': '0000000071966c2b1d065fd446b1e485b2c9d9594acd2007ccbd5441cfc89444', 'blk.prev_block': '000000003031a0e73735690c5a1ff2a4be82553b2a12b776fbd3a215dc8f778d'}\n",
      "{'blk.id': '00000000408c48f847aa786c2268fc3e6ec2af68e8468a34a28c61b7f1de0dc6', 'blk.prev_block': '0000000071966c2b1d065fd446b1e485b2c9d9594acd2007ccbd5441cfc89444'}\n",
      "{'blk.id': '000000008d9dc510f23c2657fc4f67bea30078cc05a90eb89e84cc475c080805', 'blk.prev_block': '00000000408c48f847aa786c2268fc3e6ec2af68e8468a34a28c61b7f1de0dc6'}\n"
     ]
    }
   ],
   "source": [
    "for r in p:\n",
    "    print(r)"
   ]
  },
  {
   "cell_type": "code",
   "execution_count": null,
   "metadata": {},
   "outputs": [],
   "source": [
    "os.chdir(\"block_demo\")\n",
    "files = subprocess.check_output(\"ls\")\n",
    "files"
   ]
  },
  {
   "cell_type": "code",
   "execution_count": null,
   "metadata": {},
   "outputs": [],
   "source": []
  }
 ],
 "metadata": {
  "kernelspec": {
   "display_name": "Python 3",
   "language": "python",
   "name": "python3"
  },
  "language_info": {
   "codemirror_mode": {
    "name": "ipython",
    "version": 3
   },
   "file_extension": ".py",
   "mimetype": "text/x-python",
   "name": "python",
   "nbconvert_exporter": "python",
   "pygments_lexer": "ipython3",
   "version": "3.7.3"
  }
 },
 "nbformat": 4,
 "nbformat_minor": 2
}

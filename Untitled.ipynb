{
 "cells": [
  {
   "cell_type": "code",
   "execution_count": 2,
   "metadata": {},
   "outputs": [],
   "source": [
    "s = \"04ffff001d0104455468652054696d65732030332f4a616e2f32303039204368616e63656c6c6f72206f6e206272696e6b206f66207365636f6e64206261696c6f757420666f722062616e6b73\"\n",
    "sxxx = bytes.fromhex(s)"
   ]
  },
  {
   "cell_type": "code",
   "execution_count": 3,
   "metadata": {},
   "outputs": [
    {
     "data": {
      "text/plain": [
       "b'\\x04\\xff\\xff\\x00\\x1d\\x01\\x04EThe Times 03/Jan/2009 Chancellor on brink of second bailout for banks'"
      ]
     },
     "execution_count": 3,
     "metadata": {},
     "output_type": "execute_result"
    }
   ],
   "source": [
    "sxxx"
   ]
  },
  {
   "cell_type": "code",
   "execution_count": 13,
   "metadata": {},
   "outputs": [],
   "source": [
    "block_id = \"000000000933ea01ad0ee984209779baaec3ced90fa3f408719526f8d77f4943\""
   ]
  },
  {
   "cell_type": "code",
   "execution_count": 6,
   "metadata": {},
   "outputs": [
    {
     "data": {
      "text/plain": [
       "'04ffff001d0104455468652054696d65732030332f4a616e2f32303039204368616e63656c6c6f72206f6e206272696e6b206f66207365636f6e64206261696c6f757420666f722062616e6b73'"
      ]
     },
     "execution_count": 6,
     "metadata": {},
     "output_type": "execute_result"
    }
   ],
   "source": [
    "st.hex()"
   ]
  },
  {
   "cell_type": "code",
   "execution_count": 29,
   "metadata": {},
   "outputs": [],
   "source": [
    "\n",
    "from time import sleep\n",
    "from neo4j import GraphDatabase\n",
    "\n",
    "class FixCoinbaseTx(object):\n",
    "\n",
    "    def __init__(self, uri=None, user=None, password=None, driver=None):\n",
    "        if driver is None:\n",
    "            self._driver = GraphDatabase.driver(uri, auth=(user, password), encrypted=False)#REVISE LATER FOR ENCRYPTION!!!\n",
    "        else:\n",
    "            self._driver = driver\n",
    "\n",
    "    def close(self):\n",
    "        self._driver.close()\n",
    "        \n",
    "    @staticmethod    \n",
    "    def _zzz(tx):\n",
    "        result = tx.run(\"CALL db.constraints\")\n",
    "        return result\n",
    "        \n",
    "        \n",
    "    @staticmethod    \n",
    "    def _fix_block(tx,batch):\n",
    "        for height in range(5000*batch, 5000*batch + 5000):\n",
    "            result = tx.run(\"MATCH (b:block {height:$height})-[:CONTAINS]->(coinbase:transaction)\"\n",
    "                             \"-[s:SPENDS]->(o:output {index:4294967295}) \"\n",
    "                            \"WITH s.witness as wit, s.script_sig as script_sig,b,coinbase,s \"\n",
    "                            \"MERGE (b)-[c:COINBASE {witness:wit, script_sig:script_sig}]->(coinbase) \"\n",
    "                            \"DELETE s\",height=height)\n",
    "        \n",
    "    def fix_blocks_batch(self,batch):\n",
    "        with self._driver.session() as session:\n",
    "            result = session.write_transaction(self._fix_block,batch)\n",
    "            #print(result)\n",
    "            return \n",
    "        \n",
    "    def zzz(self):\n",
    "        with self._driver.session() as session:\n",
    "            result = session.write_transaction(self._zzz)\n",
    "            print(result)\n",
    "            return result\n",
    "        \n",
    "    def fix_blocks(self,node, core):\n",
    "        nodes=1\n",
    "        cores=1\n",
    "        for i in range(8,400):\n",
    "            print(f\"batch {i} for core {core} in node {node}.\")\n",
    "            batch = (node-1)*cores + nodes*cores*i + (core-1)\n",
    "            self.fix_blocks_batch(batch)\n",
    "        return \n",
    "        \n",
    "def main(node,core):\n",
    "    db = FixCoinbaseTx(\"neo4j://localhost:7687\", \"neo4j\", \"wallet\")\n",
    "    db.fix_blocks(node=1,core=1)\n",
    "        "
   ]
  },
  {
   "cell_type": "code",
   "execution_count": 42,
   "metadata": {
    "collapsed": true,
    "jupyter": {
     "outputs_hidden": true
    }
   },
   "outputs": [
    {
     "name": "stdout",
     "output_type": "stream",
     "text": [
      "batch 8 for core 1 in node 1.\n",
      "batch 9 for core 1 in node 1.\n",
      "batch 10 for core 1 in node 1.\n",
      "batch 11 for core 1 in node 1.\n",
      "batch 12 for core 1 in node 1.\n",
      "batch 13 for core 1 in node 1.\n",
      "batch 14 for core 1 in node 1.\n",
      "batch 15 for core 1 in node 1.\n",
      "batch 16 for core 1 in node 1.\n",
      "batch 17 for core 1 in node 1.\n",
      "batch 18 for core 1 in node 1.\n",
      "batch 19 for core 1 in node 1.\n",
      "batch 20 for core 1 in node 1.\n",
      "batch 21 for core 1 in node 1.\n",
      "batch 22 for core 1 in node 1.\n",
      "batch 23 for core 1 in node 1.\n",
      "batch 24 for core 1 in node 1.\n",
      "batch 25 for core 1 in node 1.\n",
      "batch 26 for core 1 in node 1.\n",
      "batch 27 for core 1 in node 1.\n",
      "batch 28 for core 1 in node 1.\n",
      "batch 29 for core 1 in node 1.\n",
      "batch 30 for core 1 in node 1.\n",
      "batch 31 for core 1 in node 1.\n",
      "batch 32 for core 1 in node 1.\n",
      "batch 33 for core 1 in node 1.\n",
      "batch 34 for core 1 in node 1.\n",
      "batch 35 for core 1 in node 1.\n",
      "batch 36 for core 1 in node 1.\n",
      "batch 37 for core 1 in node 1.\n",
      "batch 38 for core 1 in node 1.\n",
      "batch 39 for core 1 in node 1.\n",
      "batch 40 for core 1 in node 1.\n",
      "batch 41 for core 1 in node 1.\n",
      "batch 42 for core 1 in node 1.\n",
      "batch 43 for core 1 in node 1.\n",
      "batch 44 for core 1 in node 1.\n",
      "batch 45 for core 1 in node 1.\n",
      "batch 46 for core 1 in node 1.\n",
      "batch 47 for core 1 in node 1.\n",
      "batch 48 for core 1 in node 1.\n",
      "batch 49 for core 1 in node 1.\n",
      "batch 50 for core 1 in node 1.\n",
      "batch 51 for core 1 in node 1.\n",
      "batch 52 for core 1 in node 1.\n",
      "batch 53 for core 1 in node 1.\n",
      "batch 54 for core 1 in node 1.\n",
      "batch 55 for core 1 in node 1.\n",
      "batch 56 for core 1 in node 1.\n",
      "batch 57 for core 1 in node 1.\n",
      "batch 58 for core 1 in node 1.\n",
      "batch 59 for core 1 in node 1.\n",
      "batch 60 for core 1 in node 1.\n",
      "batch 61 for core 1 in node 1.\n",
      "batch 62 for core 1 in node 1.\n",
      "batch 63 for core 1 in node 1.\n",
      "batch 64 for core 1 in node 1.\n",
      "batch 65 for core 1 in node 1.\n",
      "batch 66 for core 1 in node 1.\n",
      "batch 67 for core 1 in node 1.\n",
      "batch 68 for core 1 in node 1.\n",
      "batch 69 for core 1 in node 1.\n",
      "batch 70 for core 1 in node 1.\n",
      "batch 71 for core 1 in node 1.\n",
      "batch 72 for core 1 in node 1.\n",
      "batch 73 for core 1 in node 1.\n",
      "batch 74 for core 1 in node 1.\n",
      "batch 75 for core 1 in node 1.\n",
      "batch 76 for core 1 in node 1.\n",
      "batch 77 for core 1 in node 1.\n",
      "batch 78 for core 1 in node 1.\n",
      "batch 79 for core 1 in node 1.\n",
      "batch 80 for core 1 in node 1.\n",
      "batch 81 for core 1 in node 1.\n",
      "batch 82 for core 1 in node 1.\n",
      "batch 83 for core 1 in node 1.\n",
      "batch 84 for core 1 in node 1.\n",
      "batch 85 for core 1 in node 1.\n",
      "batch 86 for core 1 in node 1.\n",
      "batch 87 for core 1 in node 1.\n",
      "batch 88 for core 1 in node 1.\n",
      "batch 89 for core 1 in node 1.\n",
      "batch 90 for core 1 in node 1.\n",
      "batch 91 for core 1 in node 1.\n",
      "batch 92 for core 1 in node 1.\n",
      "batch 93 for core 1 in node 1.\n",
      "batch 94 for core 1 in node 1.\n",
      "batch 95 for core 1 in node 1.\n",
      "batch 96 for core 1 in node 1.\n",
      "batch 97 for core 1 in node 1.\n",
      "batch 98 for core 1 in node 1.\n",
      "batch 99 for core 1 in node 1.\n",
      "batch 100 for core 1 in node 1.\n",
      "batch 101 for core 1 in node 1.\n",
      "batch 102 for core 1 in node 1.\n",
      "batch 103 for core 1 in node 1.\n",
      "batch 104 for core 1 in node 1.\n",
      "batch 105 for core 1 in node 1.\n",
      "batch 106 for core 1 in node 1.\n",
      "batch 107 for core 1 in node 1.\n",
      "batch 108 for core 1 in node 1.\n",
      "batch 109 for core 1 in node 1.\n",
      "batch 110 for core 1 in node 1.\n",
      "batch 111 for core 1 in node 1.\n",
      "batch 112 for core 1 in node 1.\n",
      "batch 113 for core 1 in node 1.\n",
      "batch 114 for core 1 in node 1.\n",
      "batch 115 for core 1 in node 1.\n",
      "batch 116 for core 1 in node 1.\n",
      "batch 117 for core 1 in node 1.\n",
      "batch 118 for core 1 in node 1.\n",
      "batch 119 for core 1 in node 1.\n",
      "batch 120 for core 1 in node 1.\n",
      "batch 121 for core 1 in node 1.\n",
      "batch 122 for core 1 in node 1.\n",
      "batch 123 for core 1 in node 1.\n",
      "batch 124 for core 1 in node 1.\n",
      "batch 125 for core 1 in node 1.\n",
      "batch 126 for core 1 in node 1.\n",
      "batch 127 for core 1 in node 1.\n",
      "batch 128 for core 1 in node 1.\n",
      "batch 129 for core 1 in node 1.\n",
      "batch 130 for core 1 in node 1.\n",
      "batch 131 for core 1 in node 1.\n",
      "batch 132 for core 1 in node 1.\n",
      "batch 133 for core 1 in node 1.\n",
      "batch 134 for core 1 in node 1.\n",
      "batch 135 for core 1 in node 1.\n",
      "batch 136 for core 1 in node 1.\n",
      "batch 137 for core 1 in node 1.\n",
      "batch 138 for core 1 in node 1.\n",
      "batch 139 for core 1 in node 1.\n",
      "batch 140 for core 1 in node 1.\n",
      "batch 141 for core 1 in node 1.\n",
      "batch 142 for core 1 in node 1.\n",
      "batch 143 for core 1 in node 1.\n",
      "batch 144 for core 1 in node 1.\n",
      "batch 145 for core 1 in node 1.\n",
      "batch 146 for core 1 in node 1.\n",
      "batch 147 for core 1 in node 1.\n",
      "batch 148 for core 1 in node 1.\n",
      "batch 149 for core 1 in node 1.\n",
      "batch 150 for core 1 in node 1.\n",
      "batch 151 for core 1 in node 1.\n",
      "batch 152 for core 1 in node 1.\n",
      "batch 153 for core 1 in node 1.\n",
      "batch 154 for core 1 in node 1.\n",
      "batch 155 for core 1 in node 1.\n",
      "batch 156 for core 1 in node 1.\n",
      "batch 157 for core 1 in node 1.\n",
      "batch 158 for core 1 in node 1.\n",
      "batch 159 for core 1 in node 1.\n",
      "batch 160 for core 1 in node 1.\n",
      "batch 161 for core 1 in node 1.\n",
      "batch 162 for core 1 in node 1.\n",
      "batch 163 for core 1 in node 1.\n",
      "batch 164 for core 1 in node 1.\n",
      "batch 165 for core 1 in node 1.\n",
      "batch 166 for core 1 in node 1.\n",
      "batch 167 for core 1 in node 1.\n",
      "batch 168 for core 1 in node 1.\n",
      "batch 169 for core 1 in node 1.\n",
      "batch 170 for core 1 in node 1.\n",
      "batch 171 for core 1 in node 1.\n",
      "batch 172 for core 1 in node 1.\n",
      "batch 173 for core 1 in node 1.\n",
      "batch 174 for core 1 in node 1.\n",
      "batch 175 for core 1 in node 1.\n",
      "batch 176 for core 1 in node 1.\n",
      "batch 177 for core 1 in node 1.\n",
      "batch 178 for core 1 in node 1.\n",
      "batch 179 for core 1 in node 1.\n",
      "batch 180 for core 1 in node 1.\n",
      "batch 181 for core 1 in node 1.\n",
      "batch 182 for core 1 in node 1.\n",
      "batch 183 for core 1 in node 1.\n",
      "batch 184 for core 1 in node 1.\n",
      "batch 185 for core 1 in node 1.\n",
      "batch 186 for core 1 in node 1.\n",
      "batch 187 for core 1 in node 1.\n",
      "batch 188 for core 1 in node 1.\n",
      "batch 189 for core 1 in node 1.\n",
      "batch 190 for core 1 in node 1.\n",
      "batch 191 for core 1 in node 1.\n",
      "batch 192 for core 1 in node 1.\n",
      "batch 193 for core 1 in node 1.\n",
      "batch 194 for core 1 in node 1.\n",
      "batch 195 for core 1 in node 1.\n",
      "batch 196 for core 1 in node 1.\n",
      "batch 197 for core 1 in node 1.\n",
      "batch 198 for core 1 in node 1.\n",
      "batch 199 for core 1 in node 1.\n",
      "batch 200 for core 1 in node 1.\n",
      "batch 201 for core 1 in node 1.\n",
      "batch 202 for core 1 in node 1.\n",
      "batch 203 for core 1 in node 1.\n",
      "batch 204 for core 1 in node 1.\n",
      "batch 205 for core 1 in node 1.\n",
      "batch 206 for core 1 in node 1.\n",
      "batch 207 for core 1 in node 1.\n",
      "batch 208 for core 1 in node 1.\n",
      "batch 209 for core 1 in node 1.\n",
      "batch 210 for core 1 in node 1.\n",
      "batch 211 for core 1 in node 1.\n",
      "batch 212 for core 1 in node 1.\n",
      "batch 213 for core 1 in node 1.\n",
      "batch 214 for core 1 in node 1.\n",
      "batch 215 for core 1 in node 1.\n",
      "batch 216 for core 1 in node 1.\n",
      "batch 217 for core 1 in node 1.\n",
      "batch 218 for core 1 in node 1.\n",
      "batch 219 for core 1 in node 1.\n",
      "batch 220 for core 1 in node 1.\n",
      "batch 221 for core 1 in node 1.\n",
      "batch 222 for core 1 in node 1.\n",
      "batch 223 for core 1 in node 1.\n",
      "batch 224 for core 1 in node 1.\n",
      "batch 225 for core 1 in node 1.\n",
      "batch 226 for core 1 in node 1.\n",
      "batch 227 for core 1 in node 1.\n",
      "batch 228 for core 1 in node 1.\n",
      "batch 229 for core 1 in node 1.\n",
      "batch 230 for core 1 in node 1.\n",
      "batch 231 for core 1 in node 1.\n",
      "batch 232 for core 1 in node 1.\n",
      "batch 233 for core 1 in node 1.\n",
      "batch 234 for core 1 in node 1.\n",
      "batch 235 for core 1 in node 1.\n",
      "batch 236 for core 1 in node 1.\n",
      "batch 237 for core 1 in node 1.\n",
      "batch 238 for core 1 in node 1.\n",
      "batch 239 for core 1 in node 1.\n",
      "batch 240 for core 1 in node 1.\n",
      "batch 241 for core 1 in node 1.\n",
      "batch 242 for core 1 in node 1.\n",
      "batch 243 for core 1 in node 1.\n",
      "batch 244 for core 1 in node 1.\n",
      "batch 245 for core 1 in node 1.\n",
      "batch 246 for core 1 in node 1.\n",
      "batch 247 for core 1 in node 1.\n",
      "batch 248 for core 1 in node 1.\n",
      "batch 249 for core 1 in node 1.\n",
      "batch 250 for core 1 in node 1.\n",
      "batch 251 for core 1 in node 1.\n",
      "batch 252 for core 1 in node 1.\n",
      "batch 253 for core 1 in node 1.\n",
      "batch 254 for core 1 in node 1.\n",
      "batch 255 for core 1 in node 1.\n",
      "batch 256 for core 1 in node 1.\n",
      "batch 257 for core 1 in node 1.\n",
      "batch 258 for core 1 in node 1.\n",
      "batch 259 for core 1 in node 1.\n",
      "batch 260 for core 1 in node 1.\n",
      "batch 261 for core 1 in node 1.\n",
      "batch 262 for core 1 in node 1.\n",
      "batch 263 for core 1 in node 1.\n",
      "batch 264 for core 1 in node 1.\n",
      "batch 265 for core 1 in node 1.\n",
      "batch 266 for core 1 in node 1.\n",
      "batch 267 for core 1 in node 1.\n",
      "batch 268 for core 1 in node 1.\n",
      "batch 269 for core 1 in node 1.\n",
      "batch 270 for core 1 in node 1.\n",
      "batch 271 for core 1 in node 1.\n",
      "batch 272 for core 1 in node 1.\n",
      "batch 273 for core 1 in node 1.\n",
      "batch 274 for core 1 in node 1.\n",
      "batch 275 for core 1 in node 1.\n",
      "batch 276 for core 1 in node 1.\n",
      "batch 277 for core 1 in node 1.\n",
      "batch 278 for core 1 in node 1.\n",
      "batch 279 for core 1 in node 1.\n",
      "batch 280 for core 1 in node 1.\n",
      "batch 281 for core 1 in node 1.\n",
      "batch 282 for core 1 in node 1.\n",
      "batch 283 for core 1 in node 1.\n",
      "batch 284 for core 1 in node 1.\n",
      "batch 285 for core 1 in node 1.\n",
      "batch 286 for core 1 in node 1.\n",
      "batch 287 for core 1 in node 1.\n",
      "batch 288 for core 1 in node 1.\n",
      "batch 289 for core 1 in node 1.\n",
      "batch 290 for core 1 in node 1.\n",
      "batch 291 for core 1 in node 1.\n",
      "batch 292 for core 1 in node 1.\n",
      "batch 293 for core 1 in node 1.\n",
      "batch 294 for core 1 in node 1.\n",
      "batch 295 for core 1 in node 1.\n",
      "batch 296 for core 1 in node 1.\n",
      "batch 297 for core 1 in node 1.\n",
      "batch 298 for core 1 in node 1.\n",
      "batch 299 for core 1 in node 1.\n",
      "batch 300 for core 1 in node 1.\n",
      "batch 301 for core 1 in node 1.\n",
      "batch 302 for core 1 in node 1.\n",
      "batch 303 for core 1 in node 1.\n",
      "batch 304 for core 1 in node 1.\n",
      "batch 305 for core 1 in node 1.\n",
      "batch 306 for core 1 in node 1.\n",
      "batch 307 for core 1 in node 1.\n",
      "batch 308 for core 1 in node 1.\n",
      "batch 309 for core 1 in node 1.\n",
      "batch 310 for core 1 in node 1.\n",
      "batch 311 for core 1 in node 1.\n",
      "batch 312 for core 1 in node 1.\n",
      "batch 313 for core 1 in node 1.\n",
      "batch 314 for core 1 in node 1.\n",
      "batch 315 for core 1 in node 1.\n",
      "batch 316 for core 1 in node 1.\n",
      "batch 317 for core 1 in node 1.\n",
      "batch 318 for core 1 in node 1.\n",
      "batch 319 for core 1 in node 1.\n",
      "batch 320 for core 1 in node 1.\n",
      "batch 321 for core 1 in node 1.\n",
      "batch 322 for core 1 in node 1.\n",
      "batch 323 for core 1 in node 1.\n",
      "batch 324 for core 1 in node 1.\n",
      "batch 325 for core 1 in node 1.\n",
      "batch 326 for core 1 in node 1.\n",
      "batch 327 for core 1 in node 1.\n",
      "batch 328 for core 1 in node 1.\n",
      "batch 329 for core 1 in node 1.\n",
      "batch 330 for core 1 in node 1.\n",
      "batch 331 for core 1 in node 1.\n",
      "batch 332 for core 1 in node 1.\n",
      "batch 333 for core 1 in node 1.\n",
      "batch 334 for core 1 in node 1.\n",
      "batch 335 for core 1 in node 1.\n",
      "batch 336 for core 1 in node 1.\n",
      "batch 337 for core 1 in node 1.\n",
      "batch 338 for core 1 in node 1.\n",
      "batch 339 for core 1 in node 1.\n",
      "batch 340 for core 1 in node 1.\n",
      "batch 341 for core 1 in node 1.\n",
      "batch 342 for core 1 in node 1.\n",
      "batch 343 for core 1 in node 1.\n",
      "batch 344 for core 1 in node 1.\n",
      "batch 345 for core 1 in node 1.\n",
      "batch 346 for core 1 in node 1.\n",
      "batch 347 for core 1 in node 1.\n",
      "batch 348 for core 1 in node 1.\n",
      "batch 349 for core 1 in node 1.\n",
      "batch 350 for core 1 in node 1.\n",
      "batch 351 for core 1 in node 1.\n",
      "batch 352 for core 1 in node 1.\n",
      "batch 353 for core 1 in node 1.\n",
      "batch 354 for core 1 in node 1.\n",
      "batch 355 for core 1 in node 1.\n",
      "batch 356 for core 1 in node 1.\n",
      "batch 357 for core 1 in node 1.\n",
      "batch 358 for core 1 in node 1.\n",
      "batch 359 for core 1 in node 1.\n",
      "batch 360 for core 1 in node 1.\n",
      "batch 361 for core 1 in node 1.\n",
      "batch 362 for core 1 in node 1.\n",
      "batch 363 for core 1 in node 1.\n",
      "batch 364 for core 1 in node 1.\n",
      "batch 365 for core 1 in node 1.\n",
      "batch 366 for core 1 in node 1.\n",
      "batch 367 for core 1 in node 1.\n",
      "batch 368 for core 1 in node 1.\n",
      "batch 369 for core 1 in node 1.\n",
      "batch 370 for core 1 in node 1.\n",
      "batch 371 for core 1 in node 1.\n",
      "batch 372 for core 1 in node 1.\n",
      "batch 373 for core 1 in node 1.\n",
      "batch 374 for core 1 in node 1.\n",
      "batch 375 for core 1 in node 1.\n",
      "batch 376 for core 1 in node 1.\n",
      "batch 377 for core 1 in node 1.\n",
      "batch 378 for core 1 in node 1.\n",
      "batch 379 for core 1 in node 1.\n",
      "batch 380 for core 1 in node 1.\n",
      "batch 381 for core 1 in node 1.\n",
      "batch 382 for core 1 in node 1.\n",
      "batch 383 for core 1 in node 1.\n",
      "batch 384 for core 1 in node 1.\n",
      "batch 385 for core 1 in node 1.\n",
      "batch 386 for core 1 in node 1.\n",
      "batch 387 for core 1 in node 1.\n",
      "batch 388 for core 1 in node 1.\n",
      "batch 389 for core 1 in node 1.\n",
      "batch 390 for core 1 in node 1.\n",
      "batch 391 for core 1 in node 1.\n",
      "batch 392 for core 1 in node 1.\n",
      "batch 393 for core 1 in node 1.\n",
      "batch 394 for core 1 in node 1.\n",
      "batch 395 for core 1 in node 1.\n",
      "batch 396 for core 1 in node 1.\n",
      "batch 397 for core 1 in node 1.\n",
      "batch 398 for core 1 in node 1.\n",
      "batch 399 for core 1 in node 1.\n"
     ]
    }
   ],
   "source": [
    "main(1,1)"
   ]
  },
  {
   "cell_type": "code",
   "execution_count": 30,
   "metadata": {},
   "outputs": [
    {
     "name": "stdout",
     "output_type": "stream",
     "text": [
      "<neo4j.BoltStatementResult object at 0x7f9d960b9a90>\n"
     ]
    }
   ],
   "source": [
    "db = FixCoinbaseTx(\"neo4j://localhost:7687\", \"neo4j\", \"wallet\")\n",
    "r = db.zzz()"
   ]
  },
  {
   "cell_type": "code",
   "execution_count": 39,
   "metadata": {},
   "outputs": [
    {
     "data": {
      "text/plain": [
       "0"
      ]
     },
     "execution_count": 39,
     "metadata": {},
     "output_type": "execute_result"
    }
   ],
   "source": [
    " len(r.data())"
   ]
  },
  {
   "cell_type": "code",
   "execution_count": 31,
   "metadata": {},
   "outputs": [],
   "source": [
    "d = r.data()"
   ]
  },
  {
   "cell_type": "code",
   "execution_count": 32,
   "metadata": {},
   "outputs": [
    {
     "data": {
      "text/plain": [
       "[{'name': 'constraint_94a304ee',\n",
       "  'description': 'CONSTRAINT ON ( transaction:transaction ) ASSERT (transaction.id) IS UNIQUE',\n",
       "  'details': \"Constraint( id=6, name='constraint_94a304ee', type='UNIQUENESS', schema=(:transaction {id}), ownedIndex=1 )\"},\n",
       " {'name': 'constraint_e48cd9a3',\n",
       "  'description': 'CONSTRAINT ON ( block:block ) ASSERT (block.id) IS UNIQUE',\n",
       "  'details': \"Constraint( id=4, name='constraint_e48cd9a3', type='UNIQUENESS', schema=(:block {id}), ownedIndex=3 )\"},\n",
       " {'name': 'constraint_eb8c4b1e',\n",
       "  'description': 'CONSTRAINT ON ( address:address ) ASSERT (address.address) IS UNIQUE',\n",
       "  'details': \"Constraint( id=5, name='constraint_eb8c4b1e', type='UNIQUENESS', schema=(:address {address}), ownedIndex=2 )\"}]"
      ]
     },
     "execution_count": 32,
     "metadata": {},
     "output_type": "execute_result"
    }
   ],
   "source": [
    "d"
   ]
  },
  {
   "cell_type": "code",
   "execution_count": 35,
   "metadata": {},
   "outputs": [
    {
     "name": "stdout",
     "output_type": "stream",
     "text": [
      "transaction.id OK\n",
      "transaction OK\n",
      "transaction OK\n"
     ]
    }
   ],
   "source": [
    "for constraint in d:\n",
    "    if \"transaction\" in constraint[\"description\"] and \"UNIQUE\" in constraint[\"description\"]:\n",
    "        print(\"transaction.id OK\")\n",
    "    elif \"block.id\" in constraint[\"description\"] and \"UNIQUE\" in constraint[\"description\"]:\n",
    "        print(\"transaction OK\")\n",
    "    elif \"address.address\" in constraint[\"description\"] and \"UNIQUE\" in constraint[\"description\"]:\n",
    "        print(\"transaction OK\")"
   ]
  },
  {
   "cell_type": "code",
   "execution_count": 25,
   "metadata": {},
   "outputs": [
    {
     "data": {
      "text/plain": [
       "'76a9145aa372a17534533f29250241fee1f3de63ddaf7d88ac'"
      ]
     },
     "execution_count": 25,
     "metadata": {},
     "output_type": "execute_result"
    }
   ],
   "source": [
    "s.hex()"
   ]
  },
  {
   "cell_type": "code",
   "execution_count": 26,
   "metadata": {},
   "outputs": [],
   "source": [
    "from script import Script\n",
    "from io import BytesIO\n",
    "\n",
    "from helper import (\n",
    "    decode_base58,\n",
    "    encode_base58_checksum,\n",
    "    encode_varint,\n",
    "    h160_to_p2pkh_address,\n",
    "    h160_to_p2sh_address,\n",
    "    int_to_little_endian,\n",
    "    little_endian_to_int,\n",
    "    read_varint,\n",
    "    sha256,\n",
    ")"
   ]
  },
  {
   "cell_type": "code",
   "execution_count": 27,
   "metadata": {},
   "outputs": [
    {
     "name": "stdout",
     "output_type": "stream",
     "text": [
      "b'\\x19'\n"
     ]
    }
   ],
   "source": [
    "length = encode_varint(len(s))\n",
    "print(length)\n",
    "parse = Script.parse(BytesIO(length+s))"
   ]
  },
  {
   "cell_type": "code",
   "execution_count": 28,
   "metadata": {},
   "outputs": [
    {
     "data": {
      "text/plain": [
       "OP_DUP OP_HASH160 5aa372a17534533f29250241fee1f3de63ddaf7d OP_EQUALVERIFY OP_CHECKSIG"
      ]
     },
     "execution_count": 28,
     "metadata": {},
     "output_type": "execute_result"
    }
   ],
   "source": [
    "parse"
   ]
  },
  {
   "cell_type": "code",
   "execution_count": 36,
   "metadata": {},
   "outputs": [
    {
     "data": {
      "text/plain": [
       "[{'a': 1}, {'b': 0}]"
      ]
     },
     "execution_count": 36,
     "metadata": {},
     "output_type": "execute_result"
    }
   ],
   "source": [
    "dicti = {\"a\":1}\n",
    "dicti2 = {\"b\":0}\n",
    "data = [dicti,dicti2]\n",
    "data"
   ]
  },
  {
   "cell_type": "code",
   "execution_count": 47,
   "metadata": {},
   "outputs": [
    {
     "name": "stdout",
     "output_type": "stream",
     "text": [
      "[1, 0]\n"
     ]
    },
    {
     "data": {
      "text/plain": [
       "[1, 0]"
      ]
     },
     "execution_count": 47,
     "metadata": {},
     "output_type": "execute_result"
    }
   ],
   "source": [
    "values = [list(datum.values())[0] for datum in data]\n",
    "print(values)\n",
    "values"
   ]
  },
  {
   "cell_type": "code",
   "execution_count": 49,
   "metadata": {},
   "outputs": [
    {
     "data": {
      "text/plain": [
       "{0, 1}"
      ]
     },
     "execution_count": 49,
     "metadata": {},
     "output_type": "execute_result"
    }
   ],
   "source": [
    "set(values)"
   ]
  },
  {
   "cell_type": "code",
   "execution_count": 73,
   "metadata": {},
   "outputs": [
    {
     "name": "stdout",
     "output_type": "stream",
     "text": [
      "\u001b[1;31;43mSuccess!\u001b[0m\n"
     ]
    }
   ],
   "source": [
    "print(\"\\x1b[1;31;43m\" + 'Success!' + \"\\x1b[0m\")"
   ]
  },
  {
   "cell_type": "code",
   "execution_count": null,
   "metadata": {},
   "outputs": [],
   "source": []
  }
 ],
 "metadata": {
  "kernelspec": {
   "display_name": "Python 3",
   "language": "python",
   "name": "python3"
  },
  "language_info": {
   "codemirror_mode": {
    "name": "ipython",
    "version": 3
   },
   "file_extension": ".py",
   "mimetype": "text/x-python",
   "name": "python",
   "nbconvert_exporter": "python",
   "pygments_lexer": "ipython3",
   "version": "3.7.7"
  }
 },
 "nbformat": 4,
 "nbformat_minor": 4
}
